{
  "nbformat": 4,
  "nbformat_minor": 0,
  "metadata": {
    "colab": {
      "provenance": [],
      "collapsed_sections": [
        "SCaGeai4rTcQ",
        "J5afmfQwryzd",
        "Nj6aZdIotcvM",
        "jjyeX9xtTFnY",
        "N9YxHywDuHRs"
      ],
      "authorship_tag": "ABX9TyObyDxxYG0LlEufxHSIkDZR",
      "include_colab_link": true
    },
    "kernelspec": {
      "name": "python3",
      "display_name": "Python 3"
    },
    "language_info": {
      "name": "python"
    }
  },
  "cells": [
    {
      "cell_type": "markdown",
      "metadata": {
        "id": "view-in-github",
        "colab_type": "text"
      },
      "source": [
        "<a href=\"https://colab.research.google.com/github/StevenPeutz/Masterthesis-Disinformation-NLP/blob/master/LexicalDistanceMetrics/LexicalDistance_NoiseProxy.ipynb\" target=\"_parent\"><img src=\"https://colab.research.google.com/assets/colab-badge.svg\" alt=\"Open In Colab\"/></a>"
      ]
    },
    {
      "cell_type": "markdown",
      "source": [
        "# Lexical Distances as proxy for MT induced noise.\n",
        "This notebook contains the code to calculate lexical distances between (back)translated versions of the texts (corpus).  \n",
        "Results are exported as csv's, which can be be found within this same folder."
      ],
      "metadata": {
        "id": "GzE6ygdtq2Lk"
      }
    },
    {
      "cell_type": "markdown",
      "source": [
        "# Imports, installations and mounting."
      ],
      "metadata": {
        "id": "SCaGeai4rTcQ"
      }
    },
    {
      "cell_type": "code",
      "source": [
        "!pip install textdistance"
      ],
      "metadata": {
        "id": "FzLGj_k8ujqs",
        "colab": {
          "base_uri": "https://localhost:8080/"
        },
        "outputId": "c3759cec-215d-4958-c606-644f7bd55d36"
      },
      "execution_count": 1,
      "outputs": [
        {
          "output_type": "stream",
          "name": "stdout",
          "text": [
            "Looking in indexes: https://pypi.org/simple, https://us-python.pkg.dev/colab-wheels/public/simple/\n",
            "Collecting textdistance\n",
            "  Downloading textdistance-4.5.0-py3-none-any.whl (31 kB)\n",
            "Installing collected packages: textdistance\n",
            "Successfully installed textdistance-4.5.0\n"
          ]
        }
      ]
    },
    {
      "cell_type": "code",
      "source": [
        "import pandas as pd\n",
        "import matplotlib.pyplot as plt\n",
        "import textdistance\n",
        "\n",
        "import nltk\n",
        "from nltk.stem import PorterStemmer\n",
        "from nltk.tokenize import word_tokenize\n",
        "nltk.download('punkt')"
      ],
      "metadata": {
        "id": "NskzZNahswKN",
        "colab": {
          "base_uri": "https://localhost:8080/"
        },
        "outputId": "7e1deae3-22ae-4cdc-a94d-859c4c44c9d8"
      },
      "execution_count": 2,
      "outputs": [
        {
          "output_type": "stream",
          "name": "stderr",
          "text": [
            "[nltk_data] Downloading package punkt to /root/nltk_data...\n",
            "[nltk_data]   Unzipping tokenizers/punkt.zip.\n"
          ]
        },
        {
          "output_type": "execute_result",
          "data": {
            "text/plain": [
              "True"
            ]
          },
          "metadata": {},
          "execution_count": 2
        }
      ]
    },
    {
      "cell_type": "code",
      "execution_count": 3,
      "metadata": {
        "colab": {
          "base_uri": "https://localhost:8080/"
        },
        "id": "debASvzlrwPu",
        "outputId": "a0d7bc87-75c1-42af-c7d0-f867737c11d9"
      },
      "outputs": [
        {
          "output_type": "stream",
          "name": "stdout",
          "text": [
            "Mounted at /content/drive\n"
          ]
        }
      ],
      "source": [
        "from google.colab import drive\n",
        "drive.mount('/content/drive')"
      ]
    },
    {
      "cell_type": "markdown",
      "source": [
        "# Calculating the actual lexical noise per back-translation\n",
        "- Jaro Winkler Distance (edit based)\n",
        "- Hamming Distance (edit based)\n",
        "- Ratcliff Obershelp (sequence based)\n",
        "- longest common substring (sequence based)\n",
        "- levenshtein distance (edit-based)"
      ],
      "metadata": {
        "id": "J5afmfQwryzd"
      }
    },
    {
      "cell_type": "code",
      "source": [
        "df_test = pd.read_csv('/content/drive/MyDrive/MYDATA/full_TEST01_NX.csv')"
      ],
      "metadata": {
        "id": "K86euHmVsjK6"
      },
      "execution_count": 4,
      "outputs": []
    },
    {
      "cell_type": "code",
      "source": [
        "df_test.sample()"
      ],
      "metadata": {
        "colab": {
          "base_uri": "https://localhost:8080/",
          "height": 0
        },
        "id": "f9XcdcsttIoo",
        "outputId": "4d20551b-9c7f-47ec-b690-4a5ef782e4e9"
      },
      "execution_count": 5,
      "outputs": [
        {
          "output_type": "execute_result",
          "data": {
            "text/plain": [
              "                                                    text  label  \\\n",
              "10529  Turkey s on-going visa crisis with the United ...      0   \n",
              "\n",
              "                                                 text_N1  \\\n",
              "10529  Turkey's ongoing visa crisis with the United S...   \n",
              "\n",
              "                                                 text_N2  \\\n",
              "10529  Turkey's ongoing visa crisis with the United S...   \n",
              "\n",
              "                                                 text_N3  \n",
              "10529  Turkey's ongoing visa crisis with the United S...  "
            ],
            "text/html": [
              "\n",
              "  <div id=\"df-883adc6e-4ffc-440a-baf9-474ec5b8af84\">\n",
              "    <div class=\"colab-df-container\">\n",
              "      <div>\n",
              "<style scoped>\n",
              "    .dataframe tbody tr th:only-of-type {\n",
              "        vertical-align: middle;\n",
              "    }\n",
              "\n",
              "    .dataframe tbody tr th {\n",
              "        vertical-align: top;\n",
              "    }\n",
              "\n",
              "    .dataframe thead th {\n",
              "        text-align: right;\n",
              "    }\n",
              "</style>\n",
              "<table border=\"1\" class=\"dataframe\">\n",
              "  <thead>\n",
              "    <tr style=\"text-align: right;\">\n",
              "      <th></th>\n",
              "      <th>text</th>\n",
              "      <th>label</th>\n",
              "      <th>text_N1</th>\n",
              "      <th>text_N2</th>\n",
              "      <th>text_N3</th>\n",
              "    </tr>\n",
              "  </thead>\n",
              "  <tbody>\n",
              "    <tr>\n",
              "      <th>10529</th>\n",
              "      <td>Turkey s on-going visa crisis with the United ...</td>\n",
              "      <td>0</td>\n",
              "      <td>Turkey's ongoing visa crisis with the United S...</td>\n",
              "      <td>Turkey's ongoing visa crisis with the United S...</td>\n",
              "      <td>Turkey's ongoing visa crisis with the United S...</td>\n",
              "    </tr>\n",
              "  </tbody>\n",
              "</table>\n",
              "</div>\n",
              "      <button class=\"colab-df-convert\" onclick=\"convertToInteractive('df-883adc6e-4ffc-440a-baf9-474ec5b8af84')\"\n",
              "              title=\"Convert this dataframe to an interactive table.\"\n",
              "              style=\"display:none;\">\n",
              "        \n",
              "  <svg xmlns=\"http://www.w3.org/2000/svg\" height=\"24px\"viewBox=\"0 0 24 24\"\n",
              "       width=\"24px\">\n",
              "    <path d=\"M0 0h24v24H0V0z\" fill=\"none\"/>\n",
              "    <path d=\"M18.56 5.44l.94 2.06.94-2.06 2.06-.94-2.06-.94-.94-2.06-.94 2.06-2.06.94zm-11 1L8.5 8.5l.94-2.06 2.06-.94-2.06-.94L8.5 2.5l-.94 2.06-2.06.94zm10 10l.94 2.06.94-2.06 2.06-.94-2.06-.94-.94-2.06-.94 2.06-2.06.94z\"/><path d=\"M17.41 7.96l-1.37-1.37c-.4-.4-.92-.59-1.43-.59-.52 0-1.04.2-1.43.59L10.3 9.45l-7.72 7.72c-.78.78-.78 2.05 0 2.83L4 21.41c.39.39.9.59 1.41.59.51 0 1.02-.2 1.41-.59l7.78-7.78 2.81-2.81c.8-.78.8-2.07 0-2.86zM5.41 20L4 18.59l7.72-7.72 1.47 1.35L5.41 20z\"/>\n",
              "  </svg>\n",
              "      </button>\n",
              "      \n",
              "  <style>\n",
              "    .colab-df-container {\n",
              "      display:flex;\n",
              "      flex-wrap:wrap;\n",
              "      gap: 12px;\n",
              "    }\n",
              "\n",
              "    .colab-df-convert {\n",
              "      background-color: #E8F0FE;\n",
              "      border: none;\n",
              "      border-radius: 50%;\n",
              "      cursor: pointer;\n",
              "      display: none;\n",
              "      fill: #1967D2;\n",
              "      height: 32px;\n",
              "      padding: 0 0 0 0;\n",
              "      width: 32px;\n",
              "    }\n",
              "\n",
              "    .colab-df-convert:hover {\n",
              "      background-color: #E2EBFA;\n",
              "      box-shadow: 0px 1px 2px rgba(60, 64, 67, 0.3), 0px 1px 3px 1px rgba(60, 64, 67, 0.15);\n",
              "      fill: #174EA6;\n",
              "    }\n",
              "\n",
              "    [theme=dark] .colab-df-convert {\n",
              "      background-color: #3B4455;\n",
              "      fill: #D2E3FC;\n",
              "    }\n",
              "\n",
              "    [theme=dark] .colab-df-convert:hover {\n",
              "      background-color: #434B5C;\n",
              "      box-shadow: 0px 1px 3px 1px rgba(0, 0, 0, 0.15);\n",
              "      filter: drop-shadow(0px 1px 2px rgba(0, 0, 0, 0.3));\n",
              "      fill: #FFFFFF;\n",
              "    }\n",
              "  </style>\n",
              "\n",
              "      <script>\n",
              "        const buttonEl =\n",
              "          document.querySelector('#df-883adc6e-4ffc-440a-baf9-474ec5b8af84 button.colab-df-convert');\n",
              "        buttonEl.style.display =\n",
              "          google.colab.kernel.accessAllowed ? 'block' : 'none';\n",
              "\n",
              "        async function convertToInteractive(key) {\n",
              "          const element = document.querySelector('#df-883adc6e-4ffc-440a-baf9-474ec5b8af84');\n",
              "          const dataTable =\n",
              "            await google.colab.kernel.invokeFunction('convertToInteractive',\n",
              "                                                     [key], {});\n",
              "          if (!dataTable) return;\n",
              "\n",
              "          const docLinkHtml = 'Like what you see? Visit the ' +\n",
              "            '<a target=\"_blank\" href=https://colab.research.google.com/notebooks/data_table.ipynb>data table notebook</a>'\n",
              "            + ' to learn more about interactive tables.';\n",
              "          element.innerHTML = '';\n",
              "          dataTable['output_type'] = 'display_data';\n",
              "          await google.colab.output.renderOutput(dataTable, element);\n",
              "          const docLink = document.createElement('div');\n",
              "          docLink.innerHTML = docLinkHtml;\n",
              "          element.appendChild(docLink);\n",
              "        }\n",
              "      </script>\n",
              "    </div>\n",
              "  </div>\n",
              "  "
            ]
          },
          "metadata": {},
          "execution_count": 5
        }
      ]
    },
    {
      "cell_type": "markdown",
      "source": [
        "# JaroWinkler Distance"
      ],
      "metadata": {
        "id": "Nj6aZdIotcvM"
      }
    },
    {
      "cell_type": "code",
      "source": [
        "df_JaroWinkler_distance = pd.DataFrame()"
      ],
      "metadata": {
        "id": "K8G8OnWJtXbq"
      },
      "execution_count": null,
      "outputs": []
    },
    {
      "cell_type": "code",
      "source": [
        "#distances from each other, instead of its distances from the original (N0)\n",
        "\"\"\"\n",
        "df_JaroWinkler_distance['N0_N1_distance'] = df_test.apply(lambda x: textdistance.jaro_winkler.normalized_distance(x['text'], x['text_N1']), axis = 1)\n",
        "df_JaroWinkler_distance['N1_N2_distance'] = df_test.apply(lambda x: textdistance.jaro_winkler.normalized_distance(x['text_N1'], x['text_N2']), axis = 1)\n",
        "df_JaroWinkler_distance['N2_N3_distance'] = df_test.apply(lambda x: textdistance.jaro_winkler.normalized_distance(x['text_N2'], x['text_N3']), axis = 1)\n",
        "\"\"\""
      ],
      "metadata": {
        "colab": {
          "base_uri": "https://localhost:8080/",
          "height": 70
        },
        "id": "ThrElX5Ntzsg",
        "outputId": "8816f400-4373-49fb-ca28-a0ec5319ac9f"
      },
      "execution_count": null,
      "outputs": [
        {
          "output_type": "execute_result",
          "data": {
            "text/plain": [
              "\"\\ndf_JaroWinkler_distance['N0_N1_distance'] = df_test.apply(lambda x: textdistance.jaro_winkler.normalized_distance(x['text'], x['text_N1']), axis = 1)\\ndf_JaroWinkler_distance['N1_N2_distance'] = df_test.apply(lambda x: textdistance.jaro_winkler.normalized_distance(x['text_N1'], x['text_N2']), axis = 1)\\ndf_JaroWinkler_distance['N2_N3_distance'] = df_test.apply(lambda x: textdistance.jaro_winkler.normalized_distance(x['text_N2'], x['text_N3']), axis = 1)\\n\""
            ],
            "application/vnd.google.colaboratory.intrinsic+json": {
              "type": "string"
            }
          },
          "metadata": {},
          "execution_count": 7
        }
      ]
    },
    {
      "cell_type": "code",
      "source": [
        "#distances from the original (N0)\n",
        "df_JaroWinkler_distance['N0_N1_distance'] = df_test.apply(lambda x: textdistance.jaro_winkler.normalized_distance(x['text'], x['text_N1']), axis = 1)\n",
        "df_JaroWinkler_distance['N0_N2_distance'] = df_test.apply(lambda x: textdistance.jaro_winkler.normalized_distance(x['text'], x['text_N2']), axis = 1)\n",
        "df_JaroWinkler_distance['N0_N3_distance'] = df_test.apply(lambda x: textdistance.jaro_winkler.normalized_distance(x['text'], x['text_N3']), axis = 1)"
      ],
      "metadata": {
        "id": "JmXTNDnXHuZY"
      },
      "execution_count": null,
      "outputs": []
    },
    {
      "cell_type": "code",
      "source": [
        "#export the JaroWinkel results as a seperate df\n",
        "df_JaroWinkler_distance.to_csv('/content/drive/MyDrive/MYDATA/LexicalDistance/LexicalDistanceJW_base.csv', index=False)"
      ],
      "metadata": {
        "id": "u-6oa0g0t_QG"
      },
      "execution_count": null,
      "outputs": []
    },
    {
      "cell_type": "code",
      "source": [
        "display(df_JaroWinkler_distance.describe())"
      ],
      "metadata": {
        "id": "aDfoH-OUtzvx",
        "colab": {
          "base_uri": "https://localhost:8080/",
          "height": 300
        },
        "outputId": "23020e2f-8e72-44c1-aa5e-9ccb5f587b05"
      },
      "execution_count": null,
      "outputs": [
        {
          "output_type": "display_data",
          "data": {
            "text/plain": [
              "       N0_N1_distance  N0_N2_distance  N0_N3_distance\n",
              "count    21999.000000    21999.000000    21999.000000\n",
              "mean         0.136735        0.140863        0.142204\n",
              "std          0.086920        0.088240        0.088469\n",
              "min          0.000000        0.000000        0.000000\n",
              "25%          0.103229        0.104527        0.104905\n",
              "50%          0.109021        0.111678        0.112670\n",
              "75%          0.154484        0.164724        0.167972\n",
              "max          0.630249        0.630249        0.630249"
            ],
            "text/html": [
              "\n",
              "  <div id=\"df-f8cc769b-27a2-4612-802f-d7841abf974d\">\n",
              "    <div class=\"colab-df-container\">\n",
              "      <div>\n",
              "<style scoped>\n",
              "    .dataframe tbody tr th:only-of-type {\n",
              "        vertical-align: middle;\n",
              "    }\n",
              "\n",
              "    .dataframe tbody tr th {\n",
              "        vertical-align: top;\n",
              "    }\n",
              "\n",
              "    .dataframe thead th {\n",
              "        text-align: right;\n",
              "    }\n",
              "</style>\n",
              "<table border=\"1\" class=\"dataframe\">\n",
              "  <thead>\n",
              "    <tr style=\"text-align: right;\">\n",
              "      <th></th>\n",
              "      <th>N0_N1_distance</th>\n",
              "      <th>N0_N2_distance</th>\n",
              "      <th>N0_N3_distance</th>\n",
              "    </tr>\n",
              "  </thead>\n",
              "  <tbody>\n",
              "    <tr>\n",
              "      <th>count</th>\n",
              "      <td>21999.000000</td>\n",
              "      <td>21999.000000</td>\n",
              "      <td>21999.000000</td>\n",
              "    </tr>\n",
              "    <tr>\n",
              "      <th>mean</th>\n",
              "      <td>0.136735</td>\n",
              "      <td>0.140863</td>\n",
              "      <td>0.142204</td>\n",
              "    </tr>\n",
              "    <tr>\n",
              "      <th>std</th>\n",
              "      <td>0.086920</td>\n",
              "      <td>0.088240</td>\n",
              "      <td>0.088469</td>\n",
              "    </tr>\n",
              "    <tr>\n",
              "      <th>min</th>\n",
              "      <td>0.000000</td>\n",
              "      <td>0.000000</td>\n",
              "      <td>0.000000</td>\n",
              "    </tr>\n",
              "    <tr>\n",
              "      <th>25%</th>\n",
              "      <td>0.103229</td>\n",
              "      <td>0.104527</td>\n",
              "      <td>0.104905</td>\n",
              "    </tr>\n",
              "    <tr>\n",
              "      <th>50%</th>\n",
              "      <td>0.109021</td>\n",
              "      <td>0.111678</td>\n",
              "      <td>0.112670</td>\n",
              "    </tr>\n",
              "    <tr>\n",
              "      <th>75%</th>\n",
              "      <td>0.154484</td>\n",
              "      <td>0.164724</td>\n",
              "      <td>0.167972</td>\n",
              "    </tr>\n",
              "    <tr>\n",
              "      <th>max</th>\n",
              "      <td>0.630249</td>\n",
              "      <td>0.630249</td>\n",
              "      <td>0.630249</td>\n",
              "    </tr>\n",
              "  </tbody>\n",
              "</table>\n",
              "</div>\n",
              "      <button class=\"colab-df-convert\" onclick=\"convertToInteractive('df-f8cc769b-27a2-4612-802f-d7841abf974d')\"\n",
              "              title=\"Convert this dataframe to an interactive table.\"\n",
              "              style=\"display:none;\">\n",
              "        \n",
              "  <svg xmlns=\"http://www.w3.org/2000/svg\" height=\"24px\"viewBox=\"0 0 24 24\"\n",
              "       width=\"24px\">\n",
              "    <path d=\"M0 0h24v24H0V0z\" fill=\"none\"/>\n",
              "    <path d=\"M18.56 5.44l.94 2.06.94-2.06 2.06-.94-2.06-.94-.94-2.06-.94 2.06-2.06.94zm-11 1L8.5 8.5l.94-2.06 2.06-.94-2.06-.94L8.5 2.5l-.94 2.06-2.06.94zm10 10l.94 2.06.94-2.06 2.06-.94-2.06-.94-.94-2.06-.94 2.06-2.06.94z\"/><path d=\"M17.41 7.96l-1.37-1.37c-.4-.4-.92-.59-1.43-.59-.52 0-1.04.2-1.43.59L10.3 9.45l-7.72 7.72c-.78.78-.78 2.05 0 2.83L4 21.41c.39.39.9.59 1.41.59.51 0 1.02-.2 1.41-.59l7.78-7.78 2.81-2.81c.8-.78.8-2.07 0-2.86zM5.41 20L4 18.59l7.72-7.72 1.47 1.35L5.41 20z\"/>\n",
              "  </svg>\n",
              "      </button>\n",
              "      \n",
              "  <style>\n",
              "    .colab-df-container {\n",
              "      display:flex;\n",
              "      flex-wrap:wrap;\n",
              "      gap: 12px;\n",
              "    }\n",
              "\n",
              "    .colab-df-convert {\n",
              "      background-color: #E8F0FE;\n",
              "      border: none;\n",
              "      border-radius: 50%;\n",
              "      cursor: pointer;\n",
              "      display: none;\n",
              "      fill: #1967D2;\n",
              "      height: 32px;\n",
              "      padding: 0 0 0 0;\n",
              "      width: 32px;\n",
              "    }\n",
              "\n",
              "    .colab-df-convert:hover {\n",
              "      background-color: #E2EBFA;\n",
              "      box-shadow: 0px 1px 2px rgba(60, 64, 67, 0.3), 0px 1px 3px 1px rgba(60, 64, 67, 0.15);\n",
              "      fill: #174EA6;\n",
              "    }\n",
              "\n",
              "    [theme=dark] .colab-df-convert {\n",
              "      background-color: #3B4455;\n",
              "      fill: #D2E3FC;\n",
              "    }\n",
              "\n",
              "    [theme=dark] .colab-df-convert:hover {\n",
              "      background-color: #434B5C;\n",
              "      box-shadow: 0px 1px 3px 1px rgba(0, 0, 0, 0.15);\n",
              "      filter: drop-shadow(0px 1px 2px rgba(0, 0, 0, 0.3));\n",
              "      fill: #FFFFFF;\n",
              "    }\n",
              "  </style>\n",
              "\n",
              "      <script>\n",
              "        const buttonEl =\n",
              "          document.querySelector('#df-f8cc769b-27a2-4612-802f-d7841abf974d button.colab-df-convert');\n",
              "        buttonEl.style.display =\n",
              "          google.colab.kernel.accessAllowed ? 'block' : 'none';\n",
              "\n",
              "        async function convertToInteractive(key) {\n",
              "          const element = document.querySelector('#df-f8cc769b-27a2-4612-802f-d7841abf974d');\n",
              "          const dataTable =\n",
              "            await google.colab.kernel.invokeFunction('convertToInteractive',\n",
              "                                                     [key], {});\n",
              "          if (!dataTable) return;\n",
              "\n",
              "          const docLinkHtml = 'Like what you see? Visit the ' +\n",
              "            '<a target=\"_blank\" href=https://colab.research.google.com/notebooks/data_table.ipynb>data table notebook</a>'\n",
              "            + ' to learn more about interactive tables.';\n",
              "          element.innerHTML = '';\n",
              "          dataTable['output_type'] = 'display_data';\n",
              "          await google.colab.output.renderOutput(dataTable, element);\n",
              "          const docLink = document.createElement('div');\n",
              "          docLink.innerHTML = docLinkHtml;\n",
              "          element.appendChild(docLink);\n",
              "        }\n",
              "      </script>\n",
              "    </div>\n",
              "  </div>\n",
              "  "
            ]
          },
          "metadata": {}
        }
      ]
    },
    {
      "cell_type": "markdown",
      "source": [
        "# JaroWinkler Distance (if taken post stemming)\n"
      ],
      "metadata": {
        "id": "jjyeX9xtTFnY"
      }
    },
    {
      "cell_type": "code",
      "source": [
        "df_test.sample()"
      ],
      "metadata": {
        "colab": {
          "base_uri": "https://localhost:8080/",
          "height": 125
        },
        "id": "anskjnkuTMPF",
        "outputId": "244ad33a-c5f3-4eef-aacf-0d934aa1c619"
      },
      "execution_count": null,
      "outputs": [
        {
          "output_type": "execute_result",
          "data": {
            "text/plain": [
              "                                                    text  label  \\\n",
              "19978  “If you want to stump a Democrat, ask them to ...      0   \n",
              "\n",
              "                                                 text_N1  \\\n",
              "19978  \"If you want to stump a Democrat, ask him to n...   \n",
              "\n",
              "                                                 text_N2  \\\n",
              "19978  \"If you want to stump a Democrat, ask him to n...   \n",
              "\n",
              "                                                 text_N3  \n",
              "19978  \"If you want to stump a Democrat, ask him to n...  "
            ],
            "text/html": [
              "\n",
              "  <div id=\"df-81d8e75c-320c-4524-a20b-f6db1937e18b\">\n",
              "    <div class=\"colab-df-container\">\n",
              "      <div>\n",
              "<style scoped>\n",
              "    .dataframe tbody tr th:only-of-type {\n",
              "        vertical-align: middle;\n",
              "    }\n",
              "\n",
              "    .dataframe tbody tr th {\n",
              "        vertical-align: top;\n",
              "    }\n",
              "\n",
              "    .dataframe thead th {\n",
              "        text-align: right;\n",
              "    }\n",
              "</style>\n",
              "<table border=\"1\" class=\"dataframe\">\n",
              "  <thead>\n",
              "    <tr style=\"text-align: right;\">\n",
              "      <th></th>\n",
              "      <th>text</th>\n",
              "      <th>label</th>\n",
              "      <th>text_N1</th>\n",
              "      <th>text_N2</th>\n",
              "      <th>text_N3</th>\n",
              "    </tr>\n",
              "  </thead>\n",
              "  <tbody>\n",
              "    <tr>\n",
              "      <th>19978</th>\n",
              "      <td>“If you want to stump a Democrat, ask them to ...</td>\n",
              "      <td>0</td>\n",
              "      <td>\"If you want to stump a Democrat, ask him to n...</td>\n",
              "      <td>\"If you want to stump a Democrat, ask him to n...</td>\n",
              "      <td>\"If you want to stump a Democrat, ask him to n...</td>\n",
              "    </tr>\n",
              "  </tbody>\n",
              "</table>\n",
              "</div>\n",
              "      <button class=\"colab-df-convert\" onclick=\"convertToInteractive('df-81d8e75c-320c-4524-a20b-f6db1937e18b')\"\n",
              "              title=\"Convert this dataframe to an interactive table.\"\n",
              "              style=\"display:none;\">\n",
              "        \n",
              "  <svg xmlns=\"http://www.w3.org/2000/svg\" height=\"24px\"viewBox=\"0 0 24 24\"\n",
              "       width=\"24px\">\n",
              "    <path d=\"M0 0h24v24H0V0z\" fill=\"none\"/>\n",
              "    <path d=\"M18.56 5.44l.94 2.06.94-2.06 2.06-.94-2.06-.94-.94-2.06-.94 2.06-2.06.94zm-11 1L8.5 8.5l.94-2.06 2.06-.94-2.06-.94L8.5 2.5l-.94 2.06-2.06.94zm10 10l.94 2.06.94-2.06 2.06-.94-2.06-.94-.94-2.06-.94 2.06-2.06.94z\"/><path d=\"M17.41 7.96l-1.37-1.37c-.4-.4-.92-.59-1.43-.59-.52 0-1.04.2-1.43.59L10.3 9.45l-7.72 7.72c-.78.78-.78 2.05 0 2.83L4 21.41c.39.39.9.59 1.41.59.51 0 1.02-.2 1.41-.59l7.78-7.78 2.81-2.81c.8-.78.8-2.07 0-2.86zM5.41 20L4 18.59l7.72-7.72 1.47 1.35L5.41 20z\"/>\n",
              "  </svg>\n",
              "      </button>\n",
              "      \n",
              "  <style>\n",
              "    .colab-df-container {\n",
              "      display:flex;\n",
              "      flex-wrap:wrap;\n",
              "      gap: 12px;\n",
              "    }\n",
              "\n",
              "    .colab-df-convert {\n",
              "      background-color: #E8F0FE;\n",
              "      border: none;\n",
              "      border-radius: 50%;\n",
              "      cursor: pointer;\n",
              "      display: none;\n",
              "      fill: #1967D2;\n",
              "      height: 32px;\n",
              "      padding: 0 0 0 0;\n",
              "      width: 32px;\n",
              "    }\n",
              "\n",
              "    .colab-df-convert:hover {\n",
              "      background-color: #E2EBFA;\n",
              "      box-shadow: 0px 1px 2px rgba(60, 64, 67, 0.3), 0px 1px 3px 1px rgba(60, 64, 67, 0.15);\n",
              "      fill: #174EA6;\n",
              "    }\n",
              "\n",
              "    [theme=dark] .colab-df-convert {\n",
              "      background-color: #3B4455;\n",
              "      fill: #D2E3FC;\n",
              "    }\n",
              "\n",
              "    [theme=dark] .colab-df-convert:hover {\n",
              "      background-color: #434B5C;\n",
              "      box-shadow: 0px 1px 3px 1px rgba(0, 0, 0, 0.15);\n",
              "      filter: drop-shadow(0px 1px 2px rgba(0, 0, 0, 0.3));\n",
              "      fill: #FFFFFF;\n",
              "    }\n",
              "  </style>\n",
              "\n",
              "      <script>\n",
              "        const buttonEl =\n",
              "          document.querySelector('#df-81d8e75c-320c-4524-a20b-f6db1937e18b button.colab-df-convert');\n",
              "        buttonEl.style.display =\n",
              "          google.colab.kernel.accessAllowed ? 'block' : 'none';\n",
              "\n",
              "        async function convertToInteractive(key) {\n",
              "          const element = document.querySelector('#df-81d8e75c-320c-4524-a20b-f6db1937e18b');\n",
              "          const dataTable =\n",
              "            await google.colab.kernel.invokeFunction('convertToInteractive',\n",
              "                                                     [key], {});\n",
              "          if (!dataTable) return;\n",
              "\n",
              "          const docLinkHtml = 'Like what you see? Visit the ' +\n",
              "            '<a target=\"_blank\" href=https://colab.research.google.com/notebooks/data_table.ipynb>data table notebook</a>'\n",
              "            + ' to learn more about interactive tables.';\n",
              "          element.innerHTML = '';\n",
              "          dataTable['output_type'] = 'display_data';\n",
              "          await google.colab.output.renderOutput(dataTable, element);\n",
              "          const docLink = document.createElement('div');\n",
              "          docLink.innerHTML = docLinkHtml;\n",
              "          element.appendChild(docLink);\n",
              "        }\n",
              "      </script>\n",
              "    </div>\n",
              "  </div>\n",
              "  "
            ]
          },
          "metadata": {},
          "execution_count": 9
        }
      ]
    },
    {
      "cell_type": "code",
      "source": [
        "# Initialize the Porter Stemmer\n",
        "porter = PorterStemmer()\n",
        "\n",
        "# Define a function to apply stemming to each text\n",
        "def apply_stemming(text):\n",
        "    tokens = word_tokenize(text.lower())  # Convert text to lowercase and tokenize\n",
        "    stemmed_tokens = [porter.stem(token) for token in tokens]  # Stem each token\n",
        "    return ' '.join(stemmed_tokens)  # Join the stemmed tokens back into a single string"
      ],
      "metadata": {
        "id": "3RXNLIC0TU03"
      },
      "execution_count": null,
      "outputs": []
    },
    {
      "cell_type": "code",
      "source": [
        "df_test['text'] = df_test['text'].apply(apply_stemming)\n",
        "df_test['text_N1'] = df_test['text_N1'].apply(apply_stemming)\n",
        "df_test['text_N2'] = df_test['text_N2'].apply(apply_stemming)\n",
        "df_test['text_N3'] = df_test['text_N3'].apply(apply_stemming)"
      ],
      "metadata": {
        "id": "TnYTdkgrTcaz"
      },
      "execution_count": null,
      "outputs": []
    },
    {
      "cell_type": "code",
      "source": [
        "df_JaroWinkler_distance = pd.DataFrame()"
      ],
      "metadata": {
        "id": "aAsbiRXNTecx"
      },
      "execution_count": null,
      "outputs": []
    },
    {
      "cell_type": "code",
      "source": [
        "#distances from the original (N0)\n",
        "df_JaroWinkler_distance['N0_N1_distance'] = df_test.apply(lambda x: textdistance.jaro_winkler.normalized_distance(x['text'], x['text_N1']), axis = 1)\n",
        "df_JaroWinkler_distance['N0_N2_distance'] = df_test.apply(lambda x: textdistance.jaro_winkler.normalized_distance(x['text'], x['text_N2']), axis = 1)\n",
        "df_JaroWinkler_distance['N0_N3_distance'] = df_test.apply(lambda x: textdistance.jaro_winkler.normalized_distance(x['text'], x['text_N3']), axis = 1)"
      ],
      "metadata": {
        "id": "hnOafObmTlI8"
      },
      "execution_count": null,
      "outputs": []
    },
    {
      "cell_type": "code",
      "source": [
        "#export the JaroWinkel results as a seperate df\n",
        "df_JaroWinkler_distance.to_csv('/content/drive/MyDrive/MYDATA/LexicalDistance/LexicalDistanceJW_stemmed.csv', index=False)"
      ],
      "metadata": {
        "id": "vM-xZMRwTnlZ"
      },
      "execution_count": null,
      "outputs": []
    },
    {
      "cell_type": "code",
      "source": [
        "display(df_JaroWinkler_distance.describe())"
      ],
      "metadata": {
        "colab": {
          "base_uri": "https://localhost:8080/",
          "height": 300
        },
        "id": "-q8HllffTr97",
        "outputId": "e50d52bf-ed96-46d2-bc4d-f6edb3314f83"
      },
      "execution_count": null,
      "outputs": [
        {
          "output_type": "display_data",
          "data": {
            "text/plain": [
              "       N0_N1_distance  N0_N2_distance  N0_N3_distance\n",
              "count    21999.000000    21999.000000    21999.000000\n",
              "mean         0.131579        0.135323        0.136581\n",
              "std          0.082774        0.084048        0.084285\n",
              "min          0.000000        0.000000        0.000000\n",
              "25%          0.100736        0.101886        0.102268\n",
              "50%          0.106053        0.108186        0.109046\n",
              "75%          0.140004        0.154920        0.158114\n",
              "max          0.603885        0.603885        0.603885"
            ],
            "text/html": [
              "\n",
              "  <div id=\"df-ee53e156-450b-42af-ae42-ae6678f12059\">\n",
              "    <div class=\"colab-df-container\">\n",
              "      <div>\n",
              "<style scoped>\n",
              "    .dataframe tbody tr th:only-of-type {\n",
              "        vertical-align: middle;\n",
              "    }\n",
              "\n",
              "    .dataframe tbody tr th {\n",
              "        vertical-align: top;\n",
              "    }\n",
              "\n",
              "    .dataframe thead th {\n",
              "        text-align: right;\n",
              "    }\n",
              "</style>\n",
              "<table border=\"1\" class=\"dataframe\">\n",
              "  <thead>\n",
              "    <tr style=\"text-align: right;\">\n",
              "      <th></th>\n",
              "      <th>N0_N1_distance</th>\n",
              "      <th>N0_N2_distance</th>\n",
              "      <th>N0_N3_distance</th>\n",
              "    </tr>\n",
              "  </thead>\n",
              "  <tbody>\n",
              "    <tr>\n",
              "      <th>count</th>\n",
              "      <td>21999.000000</td>\n",
              "      <td>21999.000000</td>\n",
              "      <td>21999.000000</td>\n",
              "    </tr>\n",
              "    <tr>\n",
              "      <th>mean</th>\n",
              "      <td>0.131579</td>\n",
              "      <td>0.135323</td>\n",
              "      <td>0.136581</td>\n",
              "    </tr>\n",
              "    <tr>\n",
              "      <th>std</th>\n",
              "      <td>0.082774</td>\n",
              "      <td>0.084048</td>\n",
              "      <td>0.084285</td>\n",
              "    </tr>\n",
              "    <tr>\n",
              "      <th>min</th>\n",
              "      <td>0.000000</td>\n",
              "      <td>0.000000</td>\n",
              "      <td>0.000000</td>\n",
              "    </tr>\n",
              "    <tr>\n",
              "      <th>25%</th>\n",
              "      <td>0.100736</td>\n",
              "      <td>0.101886</td>\n",
              "      <td>0.102268</td>\n",
              "    </tr>\n",
              "    <tr>\n",
              "      <th>50%</th>\n",
              "      <td>0.106053</td>\n",
              "      <td>0.108186</td>\n",
              "      <td>0.109046</td>\n",
              "    </tr>\n",
              "    <tr>\n",
              "      <th>75%</th>\n",
              "      <td>0.140004</td>\n",
              "      <td>0.154920</td>\n",
              "      <td>0.158114</td>\n",
              "    </tr>\n",
              "    <tr>\n",
              "      <th>max</th>\n",
              "      <td>0.603885</td>\n",
              "      <td>0.603885</td>\n",
              "      <td>0.603885</td>\n",
              "    </tr>\n",
              "  </tbody>\n",
              "</table>\n",
              "</div>\n",
              "      <button class=\"colab-df-convert\" onclick=\"convertToInteractive('df-ee53e156-450b-42af-ae42-ae6678f12059')\"\n",
              "              title=\"Convert this dataframe to an interactive table.\"\n",
              "              style=\"display:none;\">\n",
              "        \n",
              "  <svg xmlns=\"http://www.w3.org/2000/svg\" height=\"24px\"viewBox=\"0 0 24 24\"\n",
              "       width=\"24px\">\n",
              "    <path d=\"M0 0h24v24H0V0z\" fill=\"none\"/>\n",
              "    <path d=\"M18.56 5.44l.94 2.06.94-2.06 2.06-.94-2.06-.94-.94-2.06-.94 2.06-2.06.94zm-11 1L8.5 8.5l.94-2.06 2.06-.94-2.06-.94L8.5 2.5l-.94 2.06-2.06.94zm10 10l.94 2.06.94-2.06 2.06-.94-2.06-.94-.94-2.06-.94 2.06-2.06.94z\"/><path d=\"M17.41 7.96l-1.37-1.37c-.4-.4-.92-.59-1.43-.59-.52 0-1.04.2-1.43.59L10.3 9.45l-7.72 7.72c-.78.78-.78 2.05 0 2.83L4 21.41c.39.39.9.59 1.41.59.51 0 1.02-.2 1.41-.59l7.78-7.78 2.81-2.81c.8-.78.8-2.07 0-2.86zM5.41 20L4 18.59l7.72-7.72 1.47 1.35L5.41 20z\"/>\n",
              "  </svg>\n",
              "      </button>\n",
              "      \n",
              "  <style>\n",
              "    .colab-df-container {\n",
              "      display:flex;\n",
              "      flex-wrap:wrap;\n",
              "      gap: 12px;\n",
              "    }\n",
              "\n",
              "    .colab-df-convert {\n",
              "      background-color: #E8F0FE;\n",
              "      border: none;\n",
              "      border-radius: 50%;\n",
              "      cursor: pointer;\n",
              "      display: none;\n",
              "      fill: #1967D2;\n",
              "      height: 32px;\n",
              "      padding: 0 0 0 0;\n",
              "      width: 32px;\n",
              "    }\n",
              "\n",
              "    .colab-df-convert:hover {\n",
              "      background-color: #E2EBFA;\n",
              "      box-shadow: 0px 1px 2px rgba(60, 64, 67, 0.3), 0px 1px 3px 1px rgba(60, 64, 67, 0.15);\n",
              "      fill: #174EA6;\n",
              "    }\n",
              "\n",
              "    [theme=dark] .colab-df-convert {\n",
              "      background-color: #3B4455;\n",
              "      fill: #D2E3FC;\n",
              "    }\n",
              "\n",
              "    [theme=dark] .colab-df-convert:hover {\n",
              "      background-color: #434B5C;\n",
              "      box-shadow: 0px 1px 3px 1px rgba(0, 0, 0, 0.15);\n",
              "      filter: drop-shadow(0px 1px 2px rgba(0, 0, 0, 0.3));\n",
              "      fill: #FFFFFF;\n",
              "    }\n",
              "  </style>\n",
              "\n",
              "      <script>\n",
              "        const buttonEl =\n",
              "          document.querySelector('#df-ee53e156-450b-42af-ae42-ae6678f12059 button.colab-df-convert');\n",
              "        buttonEl.style.display =\n",
              "          google.colab.kernel.accessAllowed ? 'block' : 'none';\n",
              "\n",
              "        async function convertToInteractive(key) {\n",
              "          const element = document.querySelector('#df-ee53e156-450b-42af-ae42-ae6678f12059');\n",
              "          const dataTable =\n",
              "            await google.colab.kernel.invokeFunction('convertToInteractive',\n",
              "                                                     [key], {});\n",
              "          if (!dataTable) return;\n",
              "\n",
              "          const docLinkHtml = 'Like what you see? Visit the ' +\n",
              "            '<a target=\"_blank\" href=https://colab.research.google.com/notebooks/data_table.ipynb>data table notebook</a>'\n",
              "            + ' to learn more about interactive tables.';\n",
              "          element.innerHTML = '';\n",
              "          dataTable['output_type'] = 'display_data';\n",
              "          await google.colab.output.renderOutput(dataTable, element);\n",
              "          const docLink = document.createElement('div');\n",
              "          docLink.innerHTML = docLinkHtml;\n",
              "          element.appendChild(docLink);\n",
              "        }\n",
              "      </script>\n",
              "    </div>\n",
              "  </div>\n",
              "  "
            ]
          },
          "metadata": {}
        }
      ]
    },
    {
      "cell_type": "markdown",
      "source": [
        "# Hamming Distance"
      ],
      "metadata": {
        "id": "N9YxHywDuHRs"
      }
    },
    {
      "cell_type": "code",
      "source": [
        "df_HammingDistance_distance = pd.DataFrame()"
      ],
      "metadata": {
        "id": "7Mf-PdQFmKQM"
      },
      "execution_count": 6,
      "outputs": []
    },
    {
      "cell_type": "code",
      "source": [
        "df_HammingDistance_distance['N0_N1_similarity'] = df_test.apply(lambda x: textdistance.Hamming(qval=None).normalized_distance(x['text'], x['text_N1']), axis = 1)\n",
        "df_HammingDistance_distance['N0_N2_similarity'] = df_test.apply(lambda x: textdistance.Hamming(qval=None).normalized_distance(x['text'], x['text_N2']), axis = 1)\n",
        "df_HammingDistance_distance['N0_N3_similarity'] = df_test.apply(lambda x: textdistance.Hamming(qval=None).normalized_distance(x['text'], x['text_N3']), axis = 1)"
      ],
      "metadata": {
        "id": "xLC_i5w2sT36"
      },
      "execution_count": 7,
      "outputs": []
    },
    {
      "cell_type": "code",
      "source": [
        "#export the HammingDistance results as a seperate df\n",
        "df_HammingDistance_distance.to_csv('/content/drive/MyDrive/MYDATA/LexicalDistanceHAMMING_base.csv', index=False)"
      ],
      "metadata": {
        "id": "whruTQ9VsYL6"
      },
      "execution_count": 8,
      "outputs": []
    },
    {
      "cell_type": "code",
      "source": [
        "display(df_HammingDistance_distance.describe())"
      ],
      "metadata": {
        "colab": {
          "base_uri": "https://localhost:8080/",
          "height": 300
        },
        "id": "v5H69sjjtUV6",
        "outputId": "5e369a50-c7e7-4494-81c6-cf41ff741fa0"
      },
      "execution_count": 9,
      "outputs": [
        {
          "output_type": "display_data",
          "data": {
            "text/plain": [
              "       N0_N1_similarity  N0_N2_similarity  N0_N3_similarity\n",
              "count      21999.000000      21999.000000      21999.000000\n",
              "mean           0.145269          0.146567          0.146860\n",
              "std            0.030330          0.029404          0.029275\n",
              "min            0.000000          0.000000          0.000000\n",
              "25%            0.139558          0.140989          0.141639\n",
              "50%            0.153430          0.154286          0.154472\n",
              "75%            0.162500          0.163106          0.163214\n",
              "max            0.236842          0.236842          0.236842"
            ],
            "text/html": [
              "\n",
              "  <div id=\"df-7443b8d6-de8e-4e39-8c14-487e58ceee80\">\n",
              "    <div class=\"colab-df-container\">\n",
              "      <div>\n",
              "<style scoped>\n",
              "    .dataframe tbody tr th:only-of-type {\n",
              "        vertical-align: middle;\n",
              "    }\n",
              "\n",
              "    .dataframe tbody tr th {\n",
              "        vertical-align: top;\n",
              "    }\n",
              "\n",
              "    .dataframe thead th {\n",
              "        text-align: right;\n",
              "    }\n",
              "</style>\n",
              "<table border=\"1\" class=\"dataframe\">\n",
              "  <thead>\n",
              "    <tr style=\"text-align: right;\">\n",
              "      <th></th>\n",
              "      <th>N0_N1_similarity</th>\n",
              "      <th>N0_N2_similarity</th>\n",
              "      <th>N0_N3_similarity</th>\n",
              "    </tr>\n",
              "  </thead>\n",
              "  <tbody>\n",
              "    <tr>\n",
              "      <th>count</th>\n",
              "      <td>21999.000000</td>\n",
              "      <td>21999.000000</td>\n",
              "      <td>21999.000000</td>\n",
              "    </tr>\n",
              "    <tr>\n",
              "      <th>mean</th>\n",
              "      <td>0.145269</td>\n",
              "      <td>0.146567</td>\n",
              "      <td>0.146860</td>\n",
              "    </tr>\n",
              "    <tr>\n",
              "      <th>std</th>\n",
              "      <td>0.030330</td>\n",
              "      <td>0.029404</td>\n",
              "      <td>0.029275</td>\n",
              "    </tr>\n",
              "    <tr>\n",
              "      <th>min</th>\n",
              "      <td>0.000000</td>\n",
              "      <td>0.000000</td>\n",
              "      <td>0.000000</td>\n",
              "    </tr>\n",
              "    <tr>\n",
              "      <th>25%</th>\n",
              "      <td>0.139558</td>\n",
              "      <td>0.140989</td>\n",
              "      <td>0.141639</td>\n",
              "    </tr>\n",
              "    <tr>\n",
              "      <th>50%</th>\n",
              "      <td>0.153430</td>\n",
              "      <td>0.154286</td>\n",
              "      <td>0.154472</td>\n",
              "    </tr>\n",
              "    <tr>\n",
              "      <th>75%</th>\n",
              "      <td>0.162500</td>\n",
              "      <td>0.163106</td>\n",
              "      <td>0.163214</td>\n",
              "    </tr>\n",
              "    <tr>\n",
              "      <th>max</th>\n",
              "      <td>0.236842</td>\n",
              "      <td>0.236842</td>\n",
              "      <td>0.236842</td>\n",
              "    </tr>\n",
              "  </tbody>\n",
              "</table>\n",
              "</div>\n",
              "      <button class=\"colab-df-convert\" onclick=\"convertToInteractive('df-7443b8d6-de8e-4e39-8c14-487e58ceee80')\"\n",
              "              title=\"Convert this dataframe to an interactive table.\"\n",
              "              style=\"display:none;\">\n",
              "        \n",
              "  <svg xmlns=\"http://www.w3.org/2000/svg\" height=\"24px\"viewBox=\"0 0 24 24\"\n",
              "       width=\"24px\">\n",
              "    <path d=\"M0 0h24v24H0V0z\" fill=\"none\"/>\n",
              "    <path d=\"M18.56 5.44l.94 2.06.94-2.06 2.06-.94-2.06-.94-.94-2.06-.94 2.06-2.06.94zm-11 1L8.5 8.5l.94-2.06 2.06-.94-2.06-.94L8.5 2.5l-.94 2.06-2.06.94zm10 10l.94 2.06.94-2.06 2.06-.94-2.06-.94-.94-2.06-.94 2.06-2.06.94z\"/><path d=\"M17.41 7.96l-1.37-1.37c-.4-.4-.92-.59-1.43-.59-.52 0-1.04.2-1.43.59L10.3 9.45l-7.72 7.72c-.78.78-.78 2.05 0 2.83L4 21.41c.39.39.9.59 1.41.59.51 0 1.02-.2 1.41-.59l7.78-7.78 2.81-2.81c.8-.78.8-2.07 0-2.86zM5.41 20L4 18.59l7.72-7.72 1.47 1.35L5.41 20z\"/>\n",
              "  </svg>\n",
              "      </button>\n",
              "      \n",
              "  <style>\n",
              "    .colab-df-container {\n",
              "      display:flex;\n",
              "      flex-wrap:wrap;\n",
              "      gap: 12px;\n",
              "    }\n",
              "\n",
              "    .colab-df-convert {\n",
              "      background-color: #E8F0FE;\n",
              "      border: none;\n",
              "      border-radius: 50%;\n",
              "      cursor: pointer;\n",
              "      display: none;\n",
              "      fill: #1967D2;\n",
              "      height: 32px;\n",
              "      padding: 0 0 0 0;\n",
              "      width: 32px;\n",
              "    }\n",
              "\n",
              "    .colab-df-convert:hover {\n",
              "      background-color: #E2EBFA;\n",
              "      box-shadow: 0px 1px 2px rgba(60, 64, 67, 0.3), 0px 1px 3px 1px rgba(60, 64, 67, 0.15);\n",
              "      fill: #174EA6;\n",
              "    }\n",
              "\n",
              "    [theme=dark] .colab-df-convert {\n",
              "      background-color: #3B4455;\n",
              "      fill: #D2E3FC;\n",
              "    }\n",
              "\n",
              "    [theme=dark] .colab-df-convert:hover {\n",
              "      background-color: #434B5C;\n",
              "      box-shadow: 0px 1px 3px 1px rgba(0, 0, 0, 0.15);\n",
              "      filter: drop-shadow(0px 1px 2px rgba(0, 0, 0, 0.3));\n",
              "      fill: #FFFFFF;\n",
              "    }\n",
              "  </style>\n",
              "\n",
              "      <script>\n",
              "        const buttonEl =\n",
              "          document.querySelector('#df-7443b8d6-de8e-4e39-8c14-487e58ceee80 button.colab-df-convert');\n",
              "        buttonEl.style.display =\n",
              "          google.colab.kernel.accessAllowed ? 'block' : 'none';\n",
              "\n",
              "        async function convertToInteractive(key) {\n",
              "          const element = document.querySelector('#df-7443b8d6-de8e-4e39-8c14-487e58ceee80');\n",
              "          const dataTable =\n",
              "            await google.colab.kernel.invokeFunction('convertToInteractive',\n",
              "                                                     [key], {});\n",
              "          if (!dataTable) return;\n",
              "\n",
              "          const docLinkHtml = 'Like what you see? Visit the ' +\n",
              "            '<a target=\"_blank\" href=https://colab.research.google.com/notebooks/data_table.ipynb>data table notebook</a>'\n",
              "            + ' to learn more about interactive tables.';\n",
              "          element.innerHTML = '';\n",
              "          dataTable['output_type'] = 'display_data';\n",
              "          await google.colab.output.renderOutput(dataTable, element);\n",
              "          const docLink = document.createElement('div');\n",
              "          docLink.innerHTML = docLinkHtml;\n",
              "          element.appendChild(docLink);\n",
              "        }\n",
              "      </script>\n",
              "    </div>\n",
              "  </div>\n",
              "  "
            ]
          },
          "metadata": {}
        }
      ]
    },
    {
      "cell_type": "markdown",
      "source": [
        "# Plotting JaroWinkler and Hamming (normalized)"
      ],
      "metadata": {
        "id": "kqhWfQGpuSkr"
      }
    },
    {
      "cell_type": "markdown",
      "source": [
        "1. Lexical distanced plotted (method 1: added noise per backtranslation level)"
      ],
      "metadata": {
        "id": "347qhXe4nj2E"
      }
    },
    {
      "cell_type": "code",
      "source": [
        "# line 1 points\n",
        "x1 = [1,2,3]\n",
        "y1 = [.147518,.103287,.069894]\n",
        "# plotting the line 1 points \n",
        "plt.plot(x1, y1, label = \"Hamming Distance\")\n",
        "# line 2 points\n",
        "x2 = [1,2,3]\n",
        "y2 = [.140037,.078046,.054413]\n",
        "# plotting the line 2 points \n",
        "plt.plot(x2, y2, label = \"Jaro-Winkler Distance\")\n",
        "plt.xlabel('back-translation')\n",
        "# Set the y axis label of the current axis.\n",
        "plt.ylabel('Mean of Doc Distance (normalized)')\n",
        "# Set a title of the current axes.\n",
        "plt.title('Added noise, i.e. Hamming and JaroWinkler distance added per backtranslation level')\n",
        "# show a legend on the plot\n",
        "plt.legend()\n",
        "# Display a figure.\n",
        "plt.show()"
      ],
      "metadata": {
        "id": "VdA71iHsuYSN",
        "colab": {
          "base_uri": "https://localhost:8080/",
          "height": 295
        },
        "outputId": "ed20d94c-c3d2-46b2-8cca-91bd52652707"
      },
      "execution_count": 12,
      "outputs": [
        {
          "output_type": "display_data",
          "data": {
            "text/plain": [
              "<Figure size 432x288 with 1 Axes>"
            ],
            "image/png": "[encoded data removed]"
          },
          "metadata": {
            "needs_background": "light"
          }
        }
      ]
    },
    {
      "cell_type": "markdown",
      "source": [
        "2. Lexical distanced plotted (method 2: total (absolute) noise per backtranslation level)"
      ],
      "metadata": {
        "id": "8EEv039nnsKl"
      }
    },
    {
      "cell_type": "code",
      "source": [
        "# line 1 points\n",
        "x1 = [1,2,3]\n",
        "y1 = [.145269,.146567,.146860]\n",
        "# plotting the line 1 points \n",
        "plt.plot(x1, y1, label = \"Hamming Distance\")\n",
        "# line 2 points\n",
        "x2 = [1,2,3]\n",
        "y2 = [.136735,.140863,.142204]\n",
        "# plotting the line 2 points \n",
        "plt.plot(x2, y2, label = \"Jaro-Winkler Distance\")\n",
        "plt.xlabel('back-translation')\n",
        "# Set the y axis label of the current axis.\n",
        "plt.ylabel('Mean of Doc Distance (normalized)')\n",
        "# Set a title of the current axes.\n",
        "plt.title('Total noise, i.e. Hamming and JaroWinkler distance for each backtranslation level')\n",
        "# show a legend on the plot\n",
        "plt.legend()\n",
        "# Display a figure.\n",
        "plt.show()"
      ],
      "metadata": {
        "colab": {
          "base_uri": "https://localhost:8080/",
          "height": 295
        },
        "id": "FaAGHiyDnx0C",
        "outputId": "d64945f0-a438-46bd-881e-0c2d14f294c3"
      },
      "execution_count": 13,
      "outputs": [
        {
          "output_type": "display_data",
          "data": {
            "text/plain": [
              "<Figure size 432x288 with 1 Axes>"
            ],
            "image/png": "[encoded data removed]"
          },
          "metadata": {
            "needs_background": "light"
          }
        }
      ]
    }
  ]
}