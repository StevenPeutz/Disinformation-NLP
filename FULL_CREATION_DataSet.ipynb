{
  "nbformat": 4,
  "nbformat_minor": 0,
  "metadata": {
    "colab": {
      "provenance": [],
      "collapsed_sections": [
        "blCq3vm8fI6v",
        "khuXrH1G7IVV",
        "05tKoDzYq_hK",
        "Fkngy4RqJxSk",
        "AUy5JcziUYiL",
        "n5YWKg0EmPEw",
        "YW3VOEFHgTmJ",
        "hJ_SPTKkl0DT",
        "aPpvkexUwMc-",
        "JZfkiu3jnf4U",
        "WtSWRwNtyQgc",
        "C2d9v-DeEURN",
        "cZZ-izB3H2lv",
        "U4WA6MnL9JOv",
        "htSm0Iz9O6wR",
        "FsTTrjwY0S9-"
      ],
      "machine_shape": "hm",
      "mount_file_id": "1jEMcRRkbdJsXMYmamZmLq6RntpiMjRLC",
      "authorship_tag": "ABX9TyPnNMAfO2btUZaO/DYimkd7",
      "include_colab_link": true
    },
    "kernelspec": {
      "name": "python3",
      "display_name": "Python 3"
    },
    "language_info": {
      "name": "python"
    },
    "gpuClass": "standard"
  },
  "cells": [
    {
      "cell_type": "markdown",
      "metadata": {
        "id": "view-in-github",
        "colab_type": "text"
      },
      "source": [
        "<a href=\"https://colab.research.google.com/github/StevenPeutz/Masterthesis-Disinformation-NLP/blob/master/FULL_CREATION_DataSet.ipynb\" target=\"_parent\"><img src=\"https://colab.research.google.com/assets/colab-badge.svg\" alt=\"Open In Colab\"/></a>"
      ]
    },
    {
      "cell_type": "markdown",
      "source": [
        "# Dataset Creation.\n",
        "\n",
        "This Notebook contains the code to import six datasets containing either disinformation, misinformation fake news or propaganda, true news articles or other non-false texts, or a combination of these.  \n",
        "\n",
        "While this study has a focus on politically motivated disinformation (i.e the bulk of texts are deliberately misleading or false statement with certain political goals), texts that are false or misleading without deliberate intent are also included to more closely mimic the the variety encoutered on e.g. social media platforms in real life).  \n",
        "<br>\n",
        "\n",
        "<b>Dataset compilation (section 1 - 3):</b> \n",
        "\n",
        "Compiling different datasets as done in this study requires carefull formatting to make sure all sets can be combined as one. Sections 1 - 3 read in to the six datasets from csv, create a consistent format, drop duplicates and combine them into a single consistent +73k dataset. \n",
        "<br><br>\n",
        "\n",
        "\n",
        "<b>Minimal cleaning (section 4):</b>  \n",
        "In order to keep our texts as close to the raw data as possible, we will limit ourselves to only manipulating substrings that can be directly used by the model to differentiate disinformation from true articles due to a lack in representivity in true/false sets (e.g. the \"reuters\" prefix that is common in true labeled articles scraped from reuters.). \n",
        "<br><br>\n",
        "<b>EDA  (section 7):</b>  \n",
        "While not the focus of this study, I have added a quick simple EDA by creating the most obvious but practically interesting linguistic features to get a rough understanding of linguistic/stylistic differences between disinformation and regular articles (e.g. average sentence lengths, number of hyperlinks, hashtag usage, stopword counts etc).\n",
        "<br><br>\n",
        "<b>Prepping for translation  (section 8-10):</b>  \n",
        "This study needed a 30% test set (referred to as testN0) and a backtranslated version of that exact testset (testN1) and another backtranslated version of that one (now called testN2) until 'testN3'. This would allow me to compare diffent architectures on their AUC decay as noise increases due the the backtranslation inaccuracies.\n",
        "Secondly, text were xut short to 2800 characters as google translate would sporadically block backtranslation of texts around 3000 characters and above (while messaging that 3900 characters was the limit).\n",
        "<br><br>\n",
        "<b>Three levels of Backtranslation using gooogle translate API (section 11):</b>  \n",
        "Google translate was chosen for this, as this is the machine translation service worldwide, especially for relatively short texts that are typical on social media. Given the size of our dataset a batching system (a total of 50 splits) had to created in order to prevent timeouts by google translate.  \n",
        "The three test sets to be used later are exported to csv's in section 12.  \n",
        "<br>\n",
        "<b>Induced noise approximated as Lexical Distance (section 13):</b>  \n",
        "In order to have a universal, objective proxy for the noise created through the different levels of backtranslation the Jaro Winkler Distance (normalized) was taken and saved to csv."
      ],
      "metadata": {
        "id": "pGMGZDs7hJ95"
      }
    },
    {
      "cell_type": "markdown",
      "source": [
        "# 0. Imports and GDrive connection ('mounting')"
      ],
      "metadata": {
        "id": "blCq3vm8fI6v"
      }
    },
    {
      "cell_type": "code",
      "source": [
        "import os\n",
        "import pandas as pd\n",
        "import numpy as np\n",
        "import re"
      ],
      "metadata": {
        "id": "uLYWhTAcdErZ"
      },
      "execution_count": null,
      "outputs": []
    },
    {
      "cell_type": "code",
      "source": [
        "!pip install googletrans==3.1.0a0\n",
        "# version hardcoded because of an error in the latest version.."
      ],
      "metadata": {
        "id": "2CkSCzw4n33j",
        "colab": {
          "base_uri": "https://localhost:8080/"
        },
        "outputId": "0464e224-f05a-4af6-f4b9-f9edbd8596b3"
      },
      "execution_count": null,
      "outputs": [
        {
          "output_type": "stream",
          "name": "stdout",
          "text": [
            "Looking in indexes: https://pypi.org/simple, https://us-python.pkg.dev/colab-wheels/public/simple/\n",
            "Collecting googletrans==3.1.0a0\n",
            "  Downloading googletrans-3.1.0a0.tar.gz (19 kB)\n",
            "  Preparing metadata (setup.py) ... \u001b[?25l\u001b[?25hdone\n",
            "Collecting httpx==0.13.3\n",
            "  Downloading httpx-0.13.3-py3-none-any.whl (55 kB)\n",
            "\u001b[2K     \u001b[90m━━━━━━━━━━━━━━━━━━━━━━━━━━━━━━━━━━━━━━━━\u001b[0m \u001b[32m55.1/55.1 KB\u001b[0m \u001b[31m2.3 MB/s\u001b[0m eta \u001b[36m0:00:00\u001b[0m\n",
            "\u001b[?25hCollecting httpcore==0.9.*\n",
            "  Downloading httpcore-0.9.1-py3-none-any.whl (42 kB)\n",
            "\u001b[2K     \u001b[90m━━━━━━━━━━━━━━━━━━━━━━━━━━━━━━━━━━━━━━━━\u001b[0m \u001b[32m42.6/42.6 KB\u001b[0m \u001b[31m1.5 MB/s\u001b[0m eta \u001b[36m0:00:00\u001b[0m\n",
            "\u001b[?25hCollecting sniffio\n",
            "  Downloading sniffio-1.3.0-py3-none-any.whl (10 kB)\n",
            "Requirement already satisfied: certifi in /usr/local/lib/python3.8/dist-packages (from httpx==0.13.3->googletrans==3.1.0a0) (2022.12.7)\n",
            "Requirement already satisfied: idna==2.* in /usr/local/lib/python3.8/dist-packages (from httpx==0.13.3->googletrans==3.1.0a0) (2.10)\n",
            "Collecting rfc3986<2,>=1.3\n",
            "  Downloading rfc3986-1.5.0-py2.py3-none-any.whl (31 kB)\n",
            "Collecting hstspreload\n",
            "  Downloading hstspreload-2023.1.1-py3-none-any.whl (1.5 MB)\n",
            "\u001b[2K     \u001b[90m━━━━━━━━━━━━━━━━━━━━━━━━━━━━━━━━━━━━━━━━\u001b[0m \u001b[32m1.5/1.5 MB\u001b[0m \u001b[31m21.9 MB/s\u001b[0m eta \u001b[36m0:00:00\u001b[0m\n",
            "\u001b[?25hCollecting chardet==3.*\n",
            "  Downloading chardet-3.0.4-py2.py3-none-any.whl (133 kB)\n",
            "\u001b[2K     \u001b[90m━━━━━━━━━━━━━━━━━━━━━━━━━━━━━━━━━━━━━━━\u001b[0m \u001b[32m133.4/133.4 KB\u001b[0m \u001b[31m6.2 MB/s\u001b[0m eta \u001b[36m0:00:00\u001b[0m\n",
            "\u001b[?25hCollecting h2==3.*\n",
            "  Downloading h2-3.2.0-py2.py3-none-any.whl (65 kB)\n",
            "\u001b[2K     \u001b[90m━━━━━━━━━━━━━━━━━━━━━━━━━━━━━━━━━━━━━━━━\u001b[0m \u001b[32m65.0/65.0 KB\u001b[0m \u001b[31m4.0 MB/s\u001b[0m eta \u001b[36m0:00:00\u001b[0m\n",
            "\u001b[?25hCollecting h11<0.10,>=0.8\n",
            "  Downloading h11-0.9.0-py2.py3-none-any.whl (53 kB)\n",
            "\u001b[2K     \u001b[90m━━━━━━━━━━━━━━━━━━━━━━━━━━━━━━━━━━━━━━━━\u001b[0m \u001b[32m53.6/53.6 KB\u001b[0m \u001b[31m2.9 MB/s\u001b[0m eta \u001b[36m0:00:00\u001b[0m\n",
            "\u001b[?25hCollecting hpack<4,>=3.0\n",
            "  Downloading hpack-3.0.0-py2.py3-none-any.whl (38 kB)\n",
            "Collecting hyperframe<6,>=5.2.0\n",
            "  Downloading hyperframe-5.2.0-py2.py3-none-any.whl (12 kB)\n",
            "Building wheels for collected packages: googletrans\n",
            "  Building wheel for googletrans (setup.py) ... \u001b[?25l\u001b[?25hdone\n",
            "  Created wheel for googletrans: filename=googletrans-3.1.0a0-py3-none-any.whl size=16368 sha256=e4ae6252c10a4ed1dd6943ef66ca1bf6b99b52f9f0982652c9bc0fed001cc103\n",
            "  Stored in directory: /root/.cache/pip/wheels/dd/59/af/8d6c96a719763990f1c548e36b17d9efdfb767f42f7ff39f53\n",
            "Successfully built googletrans\n",
            "Installing collected packages: rfc3986, hyperframe, hpack, h11, chardet, sniffio, hstspreload, h2, httpcore, httpx, googletrans\n",
            "  Attempting uninstall: chardet\n",
            "    Found existing installation: chardet 4.0.0\n",
            "    Uninstalling chardet-4.0.0:\n",
            "      Successfully uninstalled chardet-4.0.0\n",
            "Successfully installed chardet-3.0.4 googletrans-3.1.0a0 h11-0.9.0 h2-3.2.0 hpack-3.0.0 hstspreload-2023.1.1 httpcore-0.9.1 httpx-0.13.3 hyperframe-5.2.0 rfc3986-1.5.0 sniffio-1.3.0\n"
          ]
        }
      ]
    },
    {
      "cell_type": "code",
      "source": [
        "from google.colab import drive\n",
        "drive.mount('/content/drive')"
      ],
      "metadata": {
        "colab": {
          "base_uri": "https://localhost:8080/"
        },
        "id": "fhOX2vi_40U_",
        "outputId": "828522cf-1d42-4bb8-fea7-bfeddd82906d"
      },
      "execution_count": null,
      "outputs": [
        {
          "output_type": "stream",
          "name": "stdout",
          "text": [
            "Mounted at /content/drive\n"
          ]
        }
      ]
    },
    {
      "cell_type": "markdown",
      "source": [
        "# 1. Reading in the datasets (true & false)"
      ],
      "metadata": {
        "id": "khuXrH1G7IVV"
      }
    },
    {
      "cell_type": "code",
      "source": [
        "#datasets with political disinfo, fake news and regular news\n",
        "path1 = '/content/drive/MyDrive/MYDATA/UVIC-ISOT/Fake.csv' #FAKE  University of Victoria #ISOT Ahmed H, Traore I, Saad S.  UVIC-ISOT\n",
        "path2 = '/content/drive/MyDrive/MYDATA/21k_Chendra/fake_train.csv' #FAKE&TRUE  #20k dataset without further description\n",
        "path3 = '/content/drive/MyDrive/MYDATA/6k_Jillani/fake_or_real_news.csv'#FAKE&TRUE  #same as RALUCACHITIC set, 6060 balanced.\n",
        "path4 = '/content/drive/MyDrive/MYDATA/EUvsDisinfo.eu/data/data.csv' #FAKE  #EUvsDisinfo dataset (scraped) 2016-2020 6k\n",
        "path5 = '/content/drive/MyDrive/MYDATA/UVIC-ISOT/True.csv' #TRUE. #ISOT Ahmed H, Traore I, Saad S. dataset of ±21k UVIC-ISOT\n",
        "\n",
        "#--- extra: chinese covid (dis)info ('CHECKED-project):\n",
        "path6 = '/content/drive/MyDrive/MYDATA/MonkeyPoxMisinfo/monkeypox.csv' #mixed twitter, monkeypox (factchecked)\n"
      ],
      "metadata": {
        "id": "xCHBy4Mh2dUr"
      },
      "execution_count": null,
      "outputs": []
    },
    {
      "cell_type": "code",
      "source": [
        "#the fake/true nomenclature here describes the set to be, not the current status (i.e. fake and true mixed sets are named both true and fake at this stage)\n",
        "\n",
        "#fake:\n",
        "df_fake1 = pd.read_csv(path1)\n",
        "df_fake2 = pd.read_csv(path4)\n",
        "#true:\n",
        "df_true1 = pd.read_csv(path5)\n",
        "#mixed:\n",
        "df_mixed1 = pd.read_csv(path2)\n",
        "df_mixed2 = pd.read_csv(path3)\n",
        "df_mixed3 = pd.read_csv(path6)\n",
        "#df_mixed_copies (needed for formatting function for now)\n",
        "df_mixed1B = pd.read_csv(path2)\n",
        "df_mixed2B = pd.read_csv(path3)\n",
        "df_mixed3B = pd.read_csv(path6)"
      ],
      "metadata": {
        "id": "VTSkiZR76Hgu"
      },
      "execution_count": null,
      "outputs": []
    },
    {
      "cell_type": "code",
      "source": [
        "print('fake1 shape: {}'.format(df_fake1.shape)) # 23.481, 4\n",
        "print('fake2 shape: {}'.format(df_fake2.shape)) # 7.369, 36\n",
        "\n",
        "print('true1 shape: {}'.format(df_true1.shape)) # 21.417, 4\n",
        "\n",
        "print('mixed1 shape: {}'.format(df_mixed1.shape)) # 20.800,5\n",
        "print('mixed2 shape: {}'.format(df_mixed2.shape)) # 6.335, 4\n",
        "print('mixed3 shape: {}'.format(df_mixed3.shape)) # 5.787, 19"
      ],
      "metadata": {
        "colab": {
          "base_uri": "https://localhost:8080/"
        },
        "id": "SRp7ZLZq5hGd",
        "outputId": "3abc8564-0364-4619-bda0-06548bf033da"
      },
      "execution_count": null,
      "outputs": [
        {
          "output_type": "stream",
          "name": "stdout",
          "text": [
            "fake1 shape: (23481, 4)\n",
            "fake2 shape: (7369, 37)\n",
            "true1 shape: (21417, 4)\n",
            "mixed1 shape: (20800, 5)\n",
            "mixed2 shape: (6335, 4)\n",
            "mixed3 shape: (5787, 19)\n"
          ]
        }
      ]
    },
    {
      "cell_type": "code",
      "source": [
        "#one manual tweak for dataset 4 needed for the function to work on all 4\n",
        "df_fake2.drop('text', axis=1, inplace = True)\n",
        "df_fake2.rename(columns = {'claim_reviewed':'text'}, inplace = True)\n",
        "df_mixed3.rename(columns = {'binary_class':'label'}, inplace = True)\n",
        "df_mixed3B.rename(columns = {'binary_class':'label'}, inplace = True)"
      ],
      "metadata": {
        "id": "KJf-hQc4b10n"
      },
      "execution_count": null,
      "outputs": []
    },
    {
      "cell_type": "code",
      "source": [
        "#df_fake1.head() \n",
        "#text includes twitter @mentions, 'photo by..'  etc\n",
        "#especially 'photo by..' needs to be removed"
      ],
      "metadata": {
        "id": "sQIjQL2z04MQ"
      },
      "execution_count": null,
      "outputs": []
    },
    {
      "cell_type": "markdown",
      "source": [
        "# 2. One format for all dataset (in a single function)\n",
        "\n",
        "\n",
        "\n",
        "\n",
        "Let's start without reading the files (so no loop needed yet) and just doing the removal of empties and deduplication. TO be exact:\n",
        "\n",
        "\n",
        "1.   drop rows that have labels for non corresponding truth value (so that we have truth and false seperates prior to joining)\n",
        "2.   drop each column that is not the text column\n",
        "3.   drop all empties (including 'fake empties')\n",
        "4.   drop duplicates\n",
        "5.   add label column\n",
        "6.   return the 'new' dataset.\n",
        "\n",
        "\n",
        "\n"
      ],
      "metadata": {
        "id": "05tKoDzYq_hK"
      }
    },
    {
      "cell_type": "code",
      "source": [
        "def removeEmpties_Deduplicate(x,tf_num, tf_term):\n",
        "  ''' trying a function to do the repetitive work\n",
        "  purpose:\n",
        "  This function is to deduplicate as well as separate true from false in the labeled datasets that are our source data.\n",
        "  This allows me to use a single function on the 7 difference datasources used, and have deduplicated and compatible dataframes as output\n",
        "  seperated for true and false values. To be combined to the single overal dataset after further cleaning.\n",
        "  input:\n",
        "  x : the dataframe to work with\n",
        "  tf_nm : truth/false numerical, 0 for the 'true' labels, 1 for the disinfo labels.\n",
        "  tf_term : truth/false in terms, 'TRUE' for the 'true' labels, 'FAKE' for the disinfo labels.\n",
        "  output:\n",
        "  dataframe x\n",
        "  '''\n",
        "  #remove the unwanted rows (true or fake) depending on set (based on label value == 0 or 1 under tf_num variable)\n",
        "  #doing the same with those were true or false is code in text ('REAL' or 'FAKE', with tf_term)\n",
        "  try:\n",
        "    x.drop(x.index[x['label'] == tf_num], inplace=True)\n",
        "    x.drop(x.index[x['label'] == tf_term], inplace=True)\n",
        "  \n",
        "    \n",
        "    #x.rename(columns = {'claim_reviewed':'text'}, inplace = True). #not possible in combination with try except (and double 'text' column names..)\n",
        "  except:\n",
        "    print('(step to be skipped as the change is not needed for this dataset)')\n",
        "  finally:\n",
        "    #remove unneeded colums (so as filter..)\n",
        "    columnkeeper = ['text']\n",
        "    x = x.drop(x.columns.difference(columnkeeper), axis=1)\n",
        "    #replace space empties with recognized empties, then drop all empties\n",
        "    x['text'].replace(' ', np.nan, inplace=True)\n",
        "    x.dropna(\n",
        "      axis=0,\n",
        "      how='any',\n",
        "      subset=None,\n",
        "      inplace=True)\n",
        "    #remove duplicates with pandas function\n",
        "    x = x.drop_duplicates(subset=[\"text\"], keep='first')\n",
        "    #add column with true of false statement (1- value to reverse code..)\n",
        "    x['label'] = (1-tf_num)\n",
        "    print(' > This dataset has shape:{}'.format(x.shape))\n",
        "    return x "
      ],
      "metadata": {
        "id": "wOYXAOQXx6dK"
      },
      "execution_count": null,
      "outputs": []
    },
    {
      "cell_type": "markdown",
      "source": [
        "## Applying the formatting function on all sets:\n",
        "\n",
        "\n"
      ],
      "metadata": {
        "id": "Fkngy4RqJxSk"
      }
    },
    {
      "cell_type": "code",
      "source": [
        "DatasetList_FAKEandMIXED = [df_fake1, df_fake2, df_mixed1, df_mixed2, df_mixed3]\n",
        "DatasetList_TRUEandMIXED = [df_true1, df_mixed1B, df_mixed2B, df_mixed3B]\n",
        "#one list is also possible without any changes needed.. but not this is better for readability\n",
        "\n",
        "List_DataSets = []\n",
        "#List_TRUE =[]\n",
        "\n",
        "#disinformation sets:\n",
        "print('--- Running the prep function on the disinfo + mixed sets:')\n",
        "for i in DatasetList_FAKEandMIXED:\n",
        "   List_DataSets.append(removeEmpties_Deduplicate(i, 0, 'REAL' ))\n",
        "   #DROPPING rows with value 0 or 'real', to retain only disinfo.\n",
        "\n",
        "#true news/info sets:\n",
        "print('--- Running the prep function on the true + mixed sets:')\n",
        "for i in DatasetList_TRUEandMIXED:\n",
        "  List_DataSets.append(removeEmpties_Deduplicate(i, 1, 'FAKE' ))\n",
        "   #DROPPING rows with value 1 or 'fake', to retain only true.\n",
        "\n",
        "\n",
        "#QUESTION: check if there arent rows that are not dropped that should be dropped in the above..\n",
        "print('--- cleaning, now running through shape of all list objects (df) ---')  \n",
        "\n",
        "\"\"\"\n",
        "#use this to check all shapes:\n",
        "for i in List_DataSets:\n",
        "  print('dataset has shape: {}'.format(i.shape))\n",
        "\"\"\""
      ],
      "metadata": {
        "colab": {
          "base_uri": "https://localhost:8080/"
        },
        "outputId": "07c56aa9-225e-489e-fb7b-a2ccbb88ca73",
        "id": "kwZ86lpOqrPH"
      },
      "execution_count": null,
      "outputs": [
        {
          "output_type": "stream",
          "name": "stdout",
          "text": [
            "--- Running the prep function on the disinfo + mixed sets:\n",
            "(step to be skipped as the change is not needed for this dataset)\n",
            " > This dataset has shape:(17454, 2)\n",
            "(step to be skipped as the change is not needed for this dataset)\n",
            " > This dataset has shape:(6043, 2)\n",
            " > This dataset has shape:(9998, 2)\n",
            " > This dataset has shape:(3070, 2)\n",
            " > This dataset has shape:(1035, 2)\n",
            "--- Running the prep function on the true + mixed sets:\n",
            "(step to be skipped as the change is not needed for this dataset)\n",
            " > This dataset has shape:(21191, 2)\n",
            " > This dataset has shape:(10387, 2)\n",
            " > This dataset has shape:(2989, 2)\n",
            " > This dataset has shape:(4231, 2)\n",
            "--- cleaning, now running through shape of all list objects (df) ---\n"
          ]
        },
        {
          "output_type": "execute_result",
          "data": {
            "text/plain": [
              "\"\\n#use this to check all shapes:\\nfor i in List_DataSets:\\n  print('dataset has shape: {}'.format(i.shape))\\n\""
            ],
            "application/vnd.google.colaboratory.intrinsic+json": {
              "type": "string"
            }
          },
          "metadata": {},
          "execution_count": 10
        }
      ]
    },
    {
      "cell_type": "code",
      "source": [
        "#List_DataSets[0] #= 17454 rows × 2 columns  -fake1\n",
        "#List_DataSets[1] #= 6043 rows × 2 columns   -fake2\n",
        "#List_DataSets[2] #= 9998 rows × 2 columns   -mixed1 <- disinfo\n",
        "#List_DataSets[3] #= 3070 rows × 2 columns   -mixed2 <- disinfo\n",
        "#List_DataSets[4] #= 1035 rows × 2 columns   -mixed3 <- disinfo\n",
        "#List_DataSets[5] #= 21191 rows × 2 columns  -true1\n",
        "#List_DataSets[6] #= 10387 rows × 2 columns  -mixed1B <- true\n",
        "#List_DataSets[7] #= 2989 rows × 2 columns   -mixed2B <- true           \n",
        "#List_DataSets[8] #= 4231 rows × 2 columns    -mixed3B <- true                  \n",
        "#List_DataSets[9] #= out of range                     "
      ],
      "metadata": {
        "id": "V3wJh4Hf3NtN"
      },
      "execution_count": null,
      "outputs": []
    },
    {
      "cell_type": "markdown",
      "source": [
        "# 3. Combine all dataframes into one 'fake' and 'true' labeled dataframe.\n",
        "\n",
        "*   combine ('union' in SQL terms, 'concat' in python)\n",
        "*   trim trailing and starting whitespace (just to be safe)\n",
        "*   drop duplicates (as after union new duplicates are possible)\n",
        "\n",
        "\n"
      ],
      "metadata": {
        "id": "K116PYZLf-w5"
      }
    },
    {
      "cell_type": "code",
      "source": [
        "#creating a 'union' of all the dataframes (concat)\n",
        "df_unionedlist = pd.concat(List_DataSets, ignore_index=True)\n",
        "\n",
        "#trimming before checking for duplicates (this helps us find 2486 dupes instead of 2473)\n",
        "df_unionedlist['text'] = df_unionedlist['text'].str.strip()"
      ],
      "metadata": {
        "id": "CnYcjUksxFhK"
      },
      "execution_count": null,
      "outputs": []
    },
    {
      "cell_type": "code",
      "source": [
        "df_unionedlist.shape # (71132, 2)"
      ],
      "metadata": {
        "colab": {
          "base_uri": "https://localhost:8080/"
        },
        "id": "-D9VRrPhagqV",
        "outputId": "942115c6-235f-42d9-d1a5-e060bc5c705b"
      },
      "execution_count": null,
      "outputs": [
        {
          "output_type": "execute_result",
          "data": {
            "text/plain": [
              "(76398, 2)"
            ]
          },
          "metadata": {},
          "execution_count": 13
        }
      ]
    },
    {
      "cell_type": "code",
      "source": [
        "#checking for empties in the text column.\n",
        "df_unionedlist['text'].isna().sum() #after function, all are zero :)\n",
        "#repeat this after removing suffixes and prefixes!"
      ],
      "metadata": {
        "colab": {
          "base_uri": "https://localhost:8080/"
        },
        "id": "ELbcb6UU6SSK",
        "outputId": "d92fde59-7e21-4d3b-b0d7-e9766dcd3ca0"
      },
      "execution_count": null,
      "outputs": [
        {
          "output_type": "execute_result",
          "data": {
            "text/plain": [
              "0"
            ]
          },
          "metadata": {},
          "execution_count": 14
        }
      ]
    },
    {
      "cell_type": "code",
      "source": [
        "dupes = df_unionedlist[df_unionedlist.duplicated(subset = 'text', keep = 'first')]\n",
        "dupes.shape #2487 duplicates\n",
        "#having done the trimming before checking for duplicates helped us find 2487 dupes instead of 2475"
      ],
      "metadata": {
        "colab": {
          "base_uri": "https://localhost:8080/"
        },
        "id": "FYOR2lVaaX1p",
        "outputId": "b98b6cbb-1f5c-4612-d092-9a05262c1168"
      },
      "execution_count": null,
      "outputs": [
        {
          "output_type": "execute_result",
          "data": {
            "text/plain": [
              "(2487, 2)"
            ]
          },
          "metadata": {},
          "execution_count": 15
        }
      ]
    },
    {
      "cell_type": "code",
      "source": [
        "#dropping the dupes found above (if correctly done, there should be 71132-2487= 68645 unique rows left)\n",
        "df_unionedlist.drop_duplicates(subset='text', keep='first', inplace=True) # ignore_index=False)\n",
        "df_unionedlist.shape"
      ],
      "metadata": {
        "colab": {
          "base_uri": "https://localhost:8080/"
        },
        "id": "6pTpVanza48o",
        "outputId": "09e43b2a-5921-4818-df9c-d977ebb6715a"
      },
      "execution_count": null,
      "outputs": [
        {
          "output_type": "execute_result",
          "data": {
            "text/plain": [
              "(73911, 2)"
            ]
          },
          "metadata": {},
          "execution_count": 16
        }
      ]
    },
    {
      "cell_type": "markdown",
      "source": [
        "# 4. Removing the source prefixes and other suffixes\n",
        "\n",
        "(e.g. 'photo by... Feature.. and 'WASHINGTON (Reuters)..)\n"
      ],
      "metadata": {
        "id": "AUy5JcziUYiL"
      }
    },
    {
      "cell_type": "code",
      "source": [
        "#make a working copy of the df before making changes to the data\n",
        "df_full = df_unionedlist"
      ],
      "metadata": {
        "id": "5kbYIPIjdny0"
      },
      "execution_count": null,
      "outputs": []
    },
    {
      "cell_type": "code",
      "source": [
        "#suffixes = ['Photo by', 'Featured image']\n",
        "#prefixes = washington//."
      ],
      "metadata": {
        "id": "7E6aulHgXxCQ"
      },
      "execution_count": null,
      "outputs": []
    },
    {
      "cell_type": "code",
      "source": [
        "#removing all the suffixes by deleting everything right of ' Photo by.. '\n",
        "#df_unionof4sets['text'] = df_unionof4sets['text'].str.split('Photo by'|'Featured image').str[0]\n",
        "import re\n",
        "df_full['text'] = df_full['text'].apply(lambda x: re.split(r'Photo by|Featured image', x)[0])"
      ],
      "metadata": {
        "id": "pBOvSWZbUkL7"
      },
      "execution_count": null,
      "outputs": []
    },
    {
      "cell_type": "code",
      "source": [
        "#df_unionof3sets['text'] = df_unionof3sets['text'].apply(lambda x: re.split(r'WASHINGTON \\(Reuters\\) - |WEST PALM BEACH, Fla \\(Reuters\\) - ', x)[-1])\n",
        "df_full['text'] = df_full['text'].apply(lambda x: re.split(r' - |\\(CNN\\)', x)[-1])"
      ],
      "metadata": {
        "id": "nSWbPv21HPZI"
      },
      "execution_count": null,
      "outputs": []
    },
    {
      "cell_type": "code",
      "source": [
        "#this can be done better (like with a list od city names followed by a ' - '.. instead of only washsington or somehting)\n",
        "#another option woould be to delete everything before the - IF the - is within the first 20 chars of the doc..\n",
        "\n",
        "\n",
        "#df_full.head(10)\n",
        "#df_full.tail(10)\n",
        "df_full.sample(10)"
      ],
      "metadata": {
        "id": "HHN-nd9iU35C",
        "colab": {
          "base_uri": "https://localhost:8080/"
        },
        "outputId": "ee8dc041-7cf0-4c1b-f45e-0f26abbe1fe0"
      },
      "execution_count": null,
      "outputs": [
        {
          "output_type": "execute_result",
          "data": {
            "text/plain": [
              "                                                    text  label\n",
              "32760  Trump convocará mañana mismo las elecciones a ...      1\n",
              "25592  Posted on October 31, 2016 by Dr. Eowyn | 2 Co...      1\n",
              "9067   According to Fox News  A federal grand jury on...      1\n",
              "56199  An Egyptian court sentenced top Muslim Brother...      0\n",
              "20866  The story about Russia's involvement in the DN...      1\n",
              "26770  A 23 kiloton tower shot called BADGER, fired o...      1\n",
              "24543  Email \\nIf you want to see the full depths of ...      1\n",
              "59560  The way Donald J. Trump tells it, his first so...      0\n",
              "30019  Natural Blaze \\nBrandon Turbeville made a fasc...      1\n",
              "63679  OAKLAND, Calif.  —   The beautiful millionaire...      0"
            ],
            "text/html": [
              "\n",
              "  <div id=\"df-a98d3cd6-e63c-43b0-b46b-0a65ebe30bd2\">\n",
              "    <div class=\"colab-df-container\">\n",
              "      <div>\n",
              "<style scoped>\n",
              "    .dataframe tbody tr th:only-of-type {\n",
              "        vertical-align: middle;\n",
              "    }\n",
              "\n",
              "    .dataframe tbody tr th {\n",
              "        vertical-align: top;\n",
              "    }\n",
              "\n",
              "    .dataframe thead th {\n",
              "        text-align: right;\n",
              "    }\n",
              "</style>\n",
              "<table border=\"1\" class=\"dataframe\">\n",
              "  <thead>\n",
              "    <tr style=\"text-align: right;\">\n",
              "      <th></th>\n",
              "      <th>text</th>\n",
              "      <th>label</th>\n",
              "    </tr>\n",
              "  </thead>\n",
              "  <tbody>\n",
              "    <tr>\n",
              "      <th>32760</th>\n",
              "      <td>Trump convocará mañana mismo las elecciones a ...</td>\n",
              "      <td>1</td>\n",
              "    </tr>\n",
              "    <tr>\n",
              "      <th>25592</th>\n",
              "      <td>Posted on October 31, 2016 by Dr. Eowyn | 2 Co...</td>\n",
              "      <td>1</td>\n",
              "    </tr>\n",
              "    <tr>\n",
              "      <th>9067</th>\n",
              "      <td>According to Fox News  A federal grand jury on...</td>\n",
              "      <td>1</td>\n",
              "    </tr>\n",
              "    <tr>\n",
              "      <th>56199</th>\n",
              "      <td>An Egyptian court sentenced top Muslim Brother...</td>\n",
              "      <td>0</td>\n",
              "    </tr>\n",
              "    <tr>\n",
              "      <th>20866</th>\n",
              "      <td>The story about Russia's involvement in the DN...</td>\n",
              "      <td>1</td>\n",
              "    </tr>\n",
              "    <tr>\n",
              "      <th>26770</th>\n",
              "      <td>A 23 kiloton tower shot called BADGER, fired o...</td>\n",
              "      <td>1</td>\n",
              "    </tr>\n",
              "    <tr>\n",
              "      <th>24543</th>\n",
              "      <td>Email \\nIf you want to see the full depths of ...</td>\n",
              "      <td>1</td>\n",
              "    </tr>\n",
              "    <tr>\n",
              "      <th>59560</th>\n",
              "      <td>The way Donald J. Trump tells it, his first so...</td>\n",
              "      <td>0</td>\n",
              "    </tr>\n",
              "    <tr>\n",
              "      <th>30019</th>\n",
              "      <td>Natural Blaze \\nBrandon Turbeville made a fasc...</td>\n",
              "      <td>1</td>\n",
              "    </tr>\n",
              "    <tr>\n",
              "      <th>63679</th>\n",
              "      <td>OAKLAND, Calif.  —   The beautiful millionaire...</td>\n",
              "      <td>0</td>\n",
              "    </tr>\n",
              "  </tbody>\n",
              "</table>\n",
              "</div>\n",
              "      <button class=\"colab-df-convert\" onclick=\"convertToInteractive('df-a98d3cd6-e63c-43b0-b46b-0a65ebe30bd2')\"\n",
              "              title=\"Convert this dataframe to an interactive table.\"\n",
              "              style=\"display:none;\">\n",
              "        \n",
              "  <svg xmlns=\"http://www.w3.org/2000/svg\" height=\"24px\"viewBox=\"0 0 24 24\"\n",
              "       width=\"24px\">\n",
              "    <path d=\"M0 0h24v24H0V0z\" fill=\"none\"/>\n",
              "    <path d=\"M18.56 5.44l.94 2.06.94-2.06 2.06-.94-2.06-.94-.94-2.06-.94 2.06-2.06.94zm-11 1L8.5 8.5l.94-2.06 2.06-.94-2.06-.94L8.5 2.5l-.94 2.06-2.06.94zm10 10l.94 2.06.94-2.06 2.06-.94-2.06-.94-.94-2.06-.94 2.06-2.06.94z\"/><path d=\"M17.41 7.96l-1.37-1.37c-.4-.4-.92-.59-1.43-.59-.52 0-1.04.2-1.43.59L10.3 9.45l-7.72 7.72c-.78.78-.78 2.05 0 2.83L4 21.41c.39.39.9.59 1.41.59.51 0 1.02-.2 1.41-.59l7.78-7.78 2.81-2.81c.8-.78.8-2.07 0-2.86zM5.41 20L4 18.59l7.72-7.72 1.47 1.35L5.41 20z\"/>\n",
              "  </svg>\n",
              "      </button>\n",
              "      \n",
              "  <style>\n",
              "    .colab-df-container {\n",
              "      display:flex;\n",
              "      flex-wrap:wrap;\n",
              "      gap: 12px;\n",
              "    }\n",
              "\n",
              "    .colab-df-convert {\n",
              "      background-color: #E8F0FE;\n",
              "      border: none;\n",
              "      border-radius: 50%;\n",
              "      cursor: pointer;\n",
              "      display: none;\n",
              "      fill: #1967D2;\n",
              "      height: 32px;\n",
              "      padding: 0 0 0 0;\n",
              "      width: 32px;\n",
              "    }\n",
              "\n",
              "    .colab-df-convert:hover {\n",
              "      background-color: #E2EBFA;\n",
              "      box-shadow: 0px 1px 2px rgba(60, 64, 67, 0.3), 0px 1px 3px 1px rgba(60, 64, 67, 0.15);\n",
              "      fill: #174EA6;\n",
              "    }\n",
              "\n",
              "    [theme=dark] .colab-df-convert {\n",
              "      background-color: #3B4455;\n",
              "      fill: #D2E3FC;\n",
              "    }\n",
              "\n",
              "    [theme=dark] .colab-df-convert:hover {\n",
              "      background-color: #434B5C;\n",
              "      box-shadow: 0px 1px 3px 1px rgba(0, 0, 0, 0.15);\n",
              "      filter: drop-shadow(0px 1px 2px rgba(0, 0, 0, 0.3));\n",
              "      fill: #FFFFFF;\n",
              "    }\n",
              "  </style>\n",
              "\n",
              "      <script>\n",
              "        const buttonEl =\n",
              "          document.querySelector('#df-a98d3cd6-e63c-43b0-b46b-0a65ebe30bd2 button.colab-df-convert');\n",
              "        buttonEl.style.display =\n",
              "          google.colab.kernel.accessAllowed ? 'block' : 'none';\n",
              "\n",
              "        async function convertToInteractive(key) {\n",
              "          const element = document.querySelector('#df-a98d3cd6-e63c-43b0-b46b-0a65ebe30bd2');\n",
              "          const dataTable =\n",
              "            await google.colab.kernel.invokeFunction('convertToInteractive',\n",
              "                                                     [key], {});\n",
              "          if (!dataTable) return;\n",
              "\n",
              "          const docLinkHtml = 'Like what you see? Visit the ' +\n",
              "            '<a target=\"_blank\" href=https://colab.research.google.com/notebooks/data_table.ipynb>data table notebook</a>'\n",
              "            + ' to learn more about interactive tables.';\n",
              "          element.innerHTML = '';\n",
              "          dataTable['output_type'] = 'display_data';\n",
              "          await google.colab.output.renderOutput(dataTable, element);\n",
              "          const docLink = document.createElement('div');\n",
              "          docLink.innerHTML = docLinkHtml;\n",
              "          element.appendChild(docLink);\n",
              "        }\n",
              "      </script>\n",
              "    </div>\n",
              "  </div>\n",
              "  "
            ]
          },
          "metadata": {},
          "execution_count": 21
        }
      ]
    },
    {
      "cell_type": "code",
      "source": [
        "#Looking at twitter mentions/handles:\n",
        "#df_full['text'].str.findall(r'[＠@]([^][\\s#<>|{}]+)')\n",
        "#df_full['mention'] = df_full['text'].str.findall(r'[＠@]([^][\\s#<>|{}]+)')    #creating a column filled with the mention\n",
        "\n",
        "#Looking at hashtags:\n",
        "#df_full.text.str.extractall(r'(\\#\\w+)')[0].value_counts()\n",
        "\n",
        "#I need to check here whether twitter data is only 'fake' or also true (if not balanced, all hashtags and handles need to be removed)"
      ],
      "metadata": {
        "id": "CGpelkQIxc_k"
      },
      "execution_count": null,
      "outputs": []
    },
    {
      "cell_type": "markdown",
      "source": [
        "# 5. Exporting to csv\n",
        "- name: FullMixedDataset1.csv\n",
        "- Location: MyDrive/MYDATA"
      ],
      "metadata": {
        "id": "n5YWKg0EmPEw"
      }
    },
    {
      "cell_type": "code",
      "source": [
        "df_full.to_csv(r'/content/drive/MyDrive/MYDATA/FullMixedDataset1.csv')"
      ],
      "metadata": {
        "id": "yUv4tBu1mSmL"
      },
      "execution_count": null,
      "outputs": []
    },
    {
      "cell_type": "markdown",
      "source": [
        "# 6. Importing stored csv + balance check\n",
        "\n",
        "- after having saved the raw file as csv, we will read it in anew.\n",
        "This helps us in troubleshooting later, and makes it easier to make changes later on without breaking the code.\n",
        "- check (again) for empties + remove empties\n",
        "- check balance of dataset (count 0's and 1's)"
      ],
      "metadata": {
        "id": "YW3VOEFHgTmJ"
      }
    },
    {
      "cell_type": "code",
      "source": [
        "step2path1 = '/content/drive/MyDrive/MYDATA/FullMixedDataset1.csv' \n",
        "df_full1 = pd.read_csv(step2path1, index_col=[0])"
      ],
      "metadata": {
        "id": "pYeTQd9Tgo1D"
      },
      "execution_count": null,
      "outputs": []
    },
    {
      "cell_type": "code",
      "source": [
        "#repeat the check for empties, as here suffixes and prefixes have been deleted..\n",
        "df_full1['text'].isna().sum()"
      ],
      "metadata": {
        "colab": {
          "base_uri": "https://localhost:8080/"
        },
        "id": "Y_whzn1Rg2xU",
        "outputId": "53262359-cb35-4cbc-f567-349b58b166c8"
      },
      "execution_count": null,
      "outputs": [
        {
          "output_type": "execute_result",
          "data": {
            "text/plain": [
              "14"
            ]
          },
          "metadata": {},
          "execution_count": 25
        }
      ]
    },
    {
      "cell_type": "code",
      "source": [
        "df_full1.dropna(\n",
        "      axis=0,\n",
        "      how='any',\n",
        "      subset=None,\n",
        "      inplace=True)"
      ],
      "metadata": {
        "id": "ciBG99PZhEx5"
      },
      "execution_count": null,
      "outputs": []
    },
    {
      "cell_type": "code",
      "source": [
        "#calculate balance of dataset \n",
        "news = df_full1['label'].value_counts()[0]\n",
        "disinfo = df_full1['label'].value_counts()[1]\n",
        "\n",
        "disinfoPercent = ((disinfo/(disinfo+news))*100)\n",
        "'disinfo precentage of total dataset is {number:.{digits}f}%'.format(number=disinfoPercent, digits=2)"
      ],
      "metadata": {
        "colab": {
          "base_uri": "https://localhost:8080/"
        },
        "id": "yK4haSdGhoui",
        "outputId": "b3c96264-925a-4148-b246-38288c0577d9"
      },
      "execution_count": null,
      "outputs": [
        {
          "output_type": "execute_result",
          "data": {
            "text/plain": [
              "'disinfo precentage of total dataset is 47.50%'"
            ],
            "application/vnd.google.colaboratory.intrinsic+json": {
              "type": "string"
            }
          },
          "metadata": {},
          "execution_count": 27
        }
      ]
    },
    {
      "cell_type": "code",
      "source": [
        "print('there are {} rows of real news'.format(df_full1['label'].value_counts()[0]))\n",
        "print('and {} rows of disinfo'.format(df_full1['label'].value_counts()[1]))"
      ],
      "metadata": {
        "colab": {
          "base_uri": "https://localhost:8080/"
        },
        "id": "DX5xgzrXhicL",
        "outputId": "4d775d45-711b-4f21-a0a7-411f4c127fcb"
      },
      "execution_count": null,
      "outputs": [
        {
          "output_type": "stream",
          "name": "stdout",
          "text": [
            "there are 38797 rows of real news\n",
            "and 35100 rows of disinfo\n"
          ]
        }
      ]
    },
    {
      "cell_type": "markdown",
      "source": [
        "# 7. EDA (preliminary) DO NOT RUN!\n",
        "\n",
        "ignore this section for now\n",
        "** Do Not Run! **\n"
      ],
      "metadata": {
        "id": "hJ_SPTKkl0DT"
      }
    },
    {
      "cell_type": "markdown",
      "source": [
        "## Features egineering\n",
        "- ToDo: use percentages instead of raw *counts*"
      ],
      "metadata": {
        "id": "aPpvkexUwMc-"
      }
    },
    {
      "cell_type": "code",
      "source": [
        "#make copy of dataset\n",
        "df_full_EDA = df_full2\n",
        "\n",
        "\n",
        "# word_count\n",
        "df_full_EDA['word_count'] = df_full_EDA['text'].apply(lambda x: len(str(x).split()))\n",
        "\n",
        "# unique_word_count\n",
        "df_full_EDA['unique_word_count'] = df_full_EDA['text'].apply(lambda x: len(set(str(x).split())))"
      ],
      "metadata": {
        "id": "xPSICactl2Sw"
      },
      "execution_count": null,
      "outputs": []
    },
    {
      "cell_type": "code",
      "source": [
        "from wordcloud import STOPWORDS\n",
        "df_full_EDA['stop_word_count'] = df_full_EDA['text'].apply(lambda x: len([w for w in str(x).lower().split() if w in STOPWORDS]))"
      ],
      "metadata": {
        "id": "w8AQCO-imuqj"
      },
      "execution_count": null,
      "outputs": []
    },
    {
      "cell_type": "code",
      "source": [
        "# punctuation_count.  # not working, string.punctuation is giving problems\n",
        "#df_full_EDA['punctuation_count'] = df_full_EDA['text'].apply(lambda x: len([c for c in str(x) if c in string.punctuation]))"
      ],
      "metadata": {
        "id": "l8sOMadRm1KC"
      },
      "execution_count": null,
      "outputs": []
    },
    {
      "cell_type": "code",
      "source": [
        "# mean_word_length\n",
        "df_full_EDA['mean_word_length'] = df_full_EDA['text'].apply(lambda x: np.mean([len(w) for w in str(x).split()]))"
      ],
      "metadata": {
        "id": "8_fZl5iGm-sc"
      },
      "execution_count": null,
      "outputs": []
    },
    {
      "cell_type": "code",
      "source": [
        "# url_count\n",
        "df_full_EDA['url_count'] = df_full_EDA['text'].apply(lambda x: len([w for w in str(x).lower().split() if 'http' in w or 'https' in w]))"
      ],
      "metadata": {
        "id": "jHjB-jvBnGpp"
      },
      "execution_count": null,
      "outputs": []
    },
    {
      "cell_type": "code",
      "source": [
        "# hashtag_count\n",
        "df_full_EDA['hashtag_count'] = df_full_EDA['text'].apply(lambda x: len([c for c in str(x) if c == '#']))"
      ],
      "metadata": {
        "id": "tHV9wwvtnP3a"
      },
      "execution_count": null,
      "outputs": []
    },
    {
      "cell_type": "code",
      "source": [
        "# mention_count\n",
        "df_full_EDA['mention_count'] = df_full_EDA['text'].apply(lambda x: len([c for c in str(x) if c == '@']))"
      ],
      "metadata": {
        "id": "BzeZ8nrZnS5d"
      },
      "execution_count": null,
      "outputs": []
    },
    {
      "cell_type": "markdown",
      "source": [
        "## Plotting the created features (viz) + conclusion about dataset\n",
        "- ToDo: see 'feature egineering'\n",
        "- TODo: all vizuals in a grid"
      ],
      "metadata": {
        "id": "JZfkiu3jnf4U"
      }
    },
    {
      "cell_type": "code",
      "source": [
        "import matplotlib.pyplot as pyplot\n",
        "\n",
        "x=df_full_EDA.loc[df_full_EDA['label']==1, 'word_count']\n",
        "y=df_full_EDA.loc[df_full_EDA['label']==0, 'word_count']\n",
        "\n",
        "bins=list(range(3000))\n",
        "\n",
        "pyplot.hist(x, bins, alpha=0.5, label='disinfo')\n",
        "pyplot.hist(y, bins, alpha=0.5, label='news')\n",
        "pyplot.legend(loc='upper right')\n",
        "pyplot.show()"
      ],
      "metadata": {
        "colab": {
          "base_uri": "https://localhost:8080/",
          "height": 266
        },
        "id": "eA1ZSKbwnYI7",
        "outputId": "5be1e66f-db28-478b-cf94-6bdea6a8c15f"
      },
      "execution_count": null,
      "outputs": [
        {
          "output_type": "display_data",
          "data": {
            "text/plain": [
              "<Figure size 432x288 with 1 Axes>"
            ],
            "image/png": "[encoded data removed]"
          },
          "metadata": {
            "needs_background": "light"
          }
        }
      ]
    },
    {
      "cell_type": "code",
      "source": [
        "x=df_full_EDA.loc[df_full_EDA['label']==1, 'unique_word_count']\n",
        "y=df_full_EDA.loc[df_full_EDA['label']==0, 'unique_word_count']\n",
        "\n",
        "#bins=list(range(3000))\n",
        "\n",
        "pyplot.hist(x, bins, alpha=0.5, label='disinfo')\n",
        "pyplot.hist(y, bins, alpha=0.5, label='news')\n",
        "pyplot.legend(loc='upper right')\n",
        "pyplot.show()"
      ],
      "metadata": {
        "colab": {
          "base_uri": "https://localhost:8080/",
          "height": 265
        },
        "id": "L5NcSg8kuWm3",
        "outputId": "7e9538f0-f6f8-4c69-a207-3dbdef922452"
      },
      "execution_count": null,
      "outputs": [
        {
          "output_type": "display_data",
          "data": {
            "text/plain": [
              "<Figure size 432x288 with 1 Axes>"
            ],
            "image/png": "[encoded data removed]"
          },
          "metadata": {
            "needs_background": "light"
          }
        }
      ]
    },
    {
      "cell_type": "code",
      "source": [
        "x=df_full_EDA.loc[df_full_EDA['label']==1, 'stop_word_count']\n",
        "y=df_full_EDA.loc[df_full_EDA['label']==0, 'stop_word_count']\n",
        "\n",
        "bins=list(range(800))\n",
        "\n",
        "pyplot.hist(x, bins, alpha=0.5, label='disinfo')\n",
        "pyplot.hist(y, bins, alpha=0.5, label='news')\n",
        "pyplot.legend(loc='upper right')\n",
        "pyplot.show()"
      ],
      "metadata": {
        "colab": {
          "base_uri": "https://localhost:8080/",
          "height": 265
        },
        "id": "RvIdAmBKvHtD",
        "outputId": "3875a4dc-7efd-48b2-84a3-91e57edbfcef"
      },
      "execution_count": null,
      "outputs": [
        {
          "output_type": "display_data",
          "data": {
            "text/plain": [
              "<Figure size 432x288 with 1 Axes>"
            ],
            "image/png": "[encoded data removed]"
          },
          "metadata": {
            "needs_background": "light"
          }
        }
      ]
    },
    {
      "cell_type": "code",
      "source": [
        "x=df_full_EDA.loc[df_full_EDA['label']==1, 'hashtag_count']\n",
        "y=df_full_EDA.loc[df_full_EDA['label']==0, 'hashtag_count']\n",
        "\n",
        "bins=list(range(10))\n",
        "\n",
        "pyplot.hist(x, bins, alpha=0.5, label='disinfo')\n",
        "pyplot.hist(y, bins, alpha=0.5, label='news')\n",
        "pyplot.legend(loc='upper right')\n",
        "pyplot.show()"
      ],
      "metadata": {
        "colab": {
          "base_uri": "https://localhost:8080/",
          "height": 267
        },
        "id": "cNhf6yIDvX-F",
        "outputId": "e5a2dc16-614d-4be3-d88f-1022be7f781c"
      },
      "execution_count": null,
      "outputs": [
        {
          "output_type": "display_data",
          "data": {
            "text/plain": [
              "<Figure size 432x288 with 1 Axes>"
            ],
            "image/png": "[encoded data removed]"
          },
          "metadata": {
            "needs_background": "light"
          }
        }
      ]
    },
    {
      "cell_type": "code",
      "source": [
        "x=df_full_EDA.loc[df_full_EDA['label']==1, 'mention_count']\n",
        "y=df_full_EDA.loc[df_full_EDA['label']==0, 'mention_count']\n",
        "\n",
        "bins=list(range(10))\n",
        "\n",
        "pyplot.hist(x, bins, alpha=0.5, label='disinfo')\n",
        "pyplot.hist(y, bins, alpha=0.5, label='news')\n",
        "pyplot.legend(loc='upper right')\n",
        "pyplot.show()"
      ],
      "metadata": {
        "colab": {
          "base_uri": "https://localhost:8080/",
          "height": 265
        },
        "id": "BwWf1y3Qw26X",
        "outputId": "dec033a7-1531-4c00-b20c-83e8e75c4c03"
      },
      "execution_count": null,
      "outputs": [
        {
          "output_type": "display_data",
          "data": {
            "text/plain": [
              "<Figure size 432x288 with 1 Axes>"
            ],
            "image/png": "[encoded data removed]"
          },
          "metadata": {
            "needs_background": "light"
          }
        }
      ]
    },
    {
      "cell_type": "code",
      "source": [
        "x=df_full_EDA.loc[df_full_EDA['label']==1, 'url_count']\n",
        "y=df_full_EDA.loc[df_full_EDA['label']==0, 'url_count']\n",
        "\n",
        "bins=list(range(10))\n",
        "\n",
        "pyplot.hist(x, bins, alpha=0.5, label='disinfo')\n",
        "pyplot.hist(y, bins, alpha=0.5, label='news')\n",
        "pyplot.legend(loc='upper right')\n",
        "pyplot.show()"
      ],
      "metadata": {
        "colab": {
          "base_uri": "https://localhost:8080/",
          "height": 265
        },
        "id": "V1c_aS04wBTa",
        "outputId": "b79e7e6d-ff4a-4eb6-d32b-159996f8e0fe"
      },
      "execution_count": null,
      "outputs": [
        {
          "output_type": "display_data",
          "data": {
            "text/plain": [
              "<Figure size 432x288 with 1 Axes>"
            ],
            "image/png": "[encoded data removed]"
          },
          "metadata": {
            "needs_background": "light"
          }
        }
      ]
    },
    {
      "cell_type": "markdown",
      "source": [
        "Preliminary (eyeballed) conclusions:\n",
        "- disinfo texts are mote likely to have @mentions, urls and hasthtags.\n",
        "- extremely short texts are more likely to be disinfo\n",
        "- These conclusions are more likely to be a dataset problem more than a real inference about news vs disinfo..\n",
        "\n",
        "ToDo:\n",
        "- see above (bulletpoint 3)\n",
        "- for e.g. stopword count, make it stopwordcount as ratio of total word count. etc\n",
        "- put in grid\n",
        "- get data that is not 'news', but non disinfo texts not written by professional journalists."
      ],
      "metadata": {
        "id": "7MuOMQWoxLbV"
      }
    },
    {
      "cell_type": "markdown",
      "source": [
        "# 8. Texts that are 'too short' and 'too long'.."
      ],
      "metadata": {
        "id": "WtSWRwNtyQgc"
      }
    },
    {
      "cell_type": "code",
      "source": [
        "df_full1['text_length'] = df_full1.text.apply(len)"
      ],
      "metadata": {
        "id": "d8HTGMkf-Joz"
      },
      "execution_count": null,
      "outputs": []
    },
    {
      "cell_type": "code",
      "source": [
        "#are there texts with fewer than 100 characters?\n",
        "column = df_full1['text_length']\n",
        "tooshort = 30\n",
        "toolong = 2800 #max char length for google translate is 3900.. (this is a bug in GT, while it is possible that RU is lengthier than english, when putting in 3000 chars russian, it will give '>3900 warning'\n",
        "count_tooshort = column[column < tooshort].count()\n",
        "count_toolong = column[column > toolong].count()\n",
        "print(f'there are {count_tooshort} rows with texts that are too short (i.e. <{tooshort})')\n",
        "print(f'there are {count_toolong} rows with texts that are too long (i.e. >{toolong})')"
      ],
      "metadata": {
        "colab": {
          "base_uri": "https://localhost:8080/"
        },
        "id": "rm8Iu9sPz8Dy",
        "outputId": "bb78f9ad-51e5-46fe-9510-fc47f42a776b"
      },
      "execution_count": null,
      "outputs": [
        {
          "output_type": "stream",
          "name": "stdout",
          "text": [
            "there are 567 rows with texts that are too short (i.e. <30)\n",
            "there are 23703 rows with texts that are too long (i.e. >2800)\n"
          ]
        }
      ]
    },
    {
      "cell_type": "code",
      "source": [
        "df_full1.shape # (68631, 3). NOW: -> (73897, 3)"
      ],
      "metadata": {
        "colab": {
          "base_uri": "https://localhost:8080/"
        },
        "id": "YeKuJVdH6Xu3",
        "outputId": "59626fc8-5046-4d96-91aa-f0aaf0b04d12"
      },
      "execution_count": null,
      "outputs": [
        {
          "output_type": "execute_result",
          "data": {
            "text/plain": [
              "(73897, 3)"
            ]
          },
          "metadata": {},
          "execution_count": 31
        }
      ]
    },
    {
      "cell_type": "code",
      "source": [
        "#drop all rows that have fewer then 30 characters (i.e. 'keep those larger than or equal to 30')\n",
        "df_full2 = df_full1.loc[df_full1[\"text_length\"] >= tooshort]\n",
        "#df_full3.shape # -> = 68309, 3\n",
        "\n",
        "#we can do the same for rows that are too long, however it will we better to cut them off after e.g. 5000 chars and leave them in the dataset."
      ],
      "metadata": {
        "id": "gBNYz_FS8ieP"
      },
      "execution_count": null,
      "outputs": []
    },
    {
      "cell_type": "code",
      "source": [
        "# keeping only the first 3500 chars of each row in text column\n",
        "df_full2['text'] = df_full2['text'].str.slice(0,toolong)"
      ],
      "metadata": {
        "colab": {
          "base_uri": "https://localhost:8080/"
        },
        "id": "acPZKSaCA6pb",
        "outputId": "1c12cfe1-6db6-4646-c3e1-de30f1c10350"
      },
      "execution_count": null,
      "outputs": [
        {
          "output_type": "stream",
          "name": "stderr",
          "text": [
            "<ipython-input-33-af2d8b63e502>:2: SettingWithCopyWarning: \n",
            "A value is trying to be set on a copy of a slice from a DataFrame.\n",
            "Try using .loc[row_indexer,col_indexer] = value instead\n",
            "\n",
            "See the caveats in the documentation: https://pandas.pydata.org/pandas-docs/stable/user_guide/indexing.html#returning-a-view-versus-a-copy\n",
            "  df_full2['text'] = df_full2['text'].str.slice(0,toolong)\n"
          ]
        }
      ]
    },
    {
      "cell_type": "code",
      "source": [
        "#adding a column with new length counts to check whether indeed cutoffs at defined max length (i.e. 'toolong')\n",
        "df_full2['text_len_trunc'] = df_full2.text.apply(len)"
      ],
      "metadata": {
        "colab": {
          "base_uri": "https://localhost:8080/"
        },
        "id": "cqTj3jt_BKnX",
        "outputId": "59387dea-1842-428c-8844-bf290dee1ea4"
      },
      "execution_count": null,
      "outputs": [
        {
          "output_type": "stream",
          "name": "stderr",
          "text": [
            "<ipython-input-34-233dee3968c8>:2: SettingWithCopyWarning: \n",
            "A value is trying to be set on a copy of a slice from a DataFrame.\n",
            "Try using .loc[row_indexer,col_indexer] = value instead\n",
            "\n",
            "See the caveats in the documentation: https://pandas.pydata.org/pandas-docs/stable/user_guide/indexing.html#returning-a-view-versus-a-copy\n",
            "  df_full2['text_len_trunc'] = df_full2.text.apply(len)\n"
          ]
        }
      ]
    },
    {
      "cell_type": "code",
      "source": [
        "df_full2.sample(5)"
      ],
      "metadata": {
        "colab": {
          "base_uri": "https://localhost:8080/"
        },
        "id": "j-Nbu02YD4jf",
        "outputId": "b53b29ec-6f0d-4381-9105-1e0a57ca0490"
      },
      "execution_count": null,
      "outputs": [
        {
          "output_type": "execute_result",
          "data": {
            "text/plain": [
              "                                                    text  label  text_length  \\\n",
              "17550  The association agreement between Ukraine and ...      1          202   \n",
              "22094  Almost half of the Austrian electorate would p...      1           67   \n",
              "54329  A proposal to convene a congress of all Syria ...      0          505   \n",
              "684    Before Donald Trump stepped foot in the White ...      1         1873   \n",
              "62816  ABC’s decision to cancel its popular   comedy ...      0         6833   \n",
              "\n",
              "       text_len_trunc  \n",
              "17550             202  \n",
              "22094              67  \n",
              "54329             505  \n",
              "684              1873  \n",
              "62816            2800  "
            ],
            "text/html": [
              "\n",
              "  <div id=\"df-c7784a05-e187-425c-be96-c0662b0b9387\">\n",
              "    <div class=\"colab-df-container\">\n",
              "      <div>\n",
              "<style scoped>\n",
              "    .dataframe tbody tr th:only-of-type {\n",
              "        vertical-align: middle;\n",
              "    }\n",
              "\n",
              "    .dataframe tbody tr th {\n",
              "        vertical-align: top;\n",
              "    }\n",
              "\n",
              "    .dataframe thead th {\n",
              "        text-align: right;\n",
              "    }\n",
              "</style>\n",
              "<table border=\"1\" class=\"dataframe\">\n",
              "  <thead>\n",
              "    <tr style=\"text-align: right;\">\n",
              "      <th></th>\n",
              "      <th>text</th>\n",
              "      <th>label</th>\n",
              "      <th>text_length</th>\n",
              "      <th>text_len_trunc</th>\n",
              "    </tr>\n",
              "  </thead>\n",
              "  <tbody>\n",
              "    <tr>\n",
              "      <th>17550</th>\n",
              "      <td>The association agreement between Ukraine and ...</td>\n",
              "      <td>1</td>\n",
              "      <td>202</td>\n",
              "      <td>202</td>\n",
              "    </tr>\n",
              "    <tr>\n",
              "      <th>22094</th>\n",
              "      <td>Almost half of the Austrian electorate would p...</td>\n",
              "      <td>1</td>\n",
              "      <td>67</td>\n",
              "      <td>67</td>\n",
              "    </tr>\n",
              "    <tr>\n",
              "      <th>54329</th>\n",
              "      <td>A proposal to convene a congress of all Syria ...</td>\n",
              "      <td>0</td>\n",
              "      <td>505</td>\n",
              "      <td>505</td>\n",
              "    </tr>\n",
              "    <tr>\n",
              "      <th>684</th>\n",
              "      <td>Before Donald Trump stepped foot in the White ...</td>\n",
              "      <td>1</td>\n",
              "      <td>1873</td>\n",
              "      <td>1873</td>\n",
              "    </tr>\n",
              "    <tr>\n",
              "      <th>62816</th>\n",
              "      <td>ABC’s decision to cancel its popular   comedy ...</td>\n",
              "      <td>0</td>\n",
              "      <td>6833</td>\n",
              "      <td>2800</td>\n",
              "    </tr>\n",
              "  </tbody>\n",
              "</table>\n",
              "</div>\n",
              "      <button class=\"colab-df-convert\" onclick=\"convertToInteractive('df-c7784a05-e187-425c-be96-c0662b0b9387')\"\n",
              "              title=\"Convert this dataframe to an interactive table.\"\n",
              "              style=\"display:none;\">\n",
              "        \n",
              "  <svg xmlns=\"http://www.w3.org/2000/svg\" height=\"24px\"viewBox=\"0 0 24 24\"\n",
              "       width=\"24px\">\n",
              "    <path d=\"M0 0h24v24H0V0z\" fill=\"none\"/>\n",
              "    <path d=\"M18.56 5.44l.94 2.06.94-2.06 2.06-.94-2.06-.94-.94-2.06-.94 2.06-2.06.94zm-11 1L8.5 8.5l.94-2.06 2.06-.94-2.06-.94L8.5 2.5l-.94 2.06-2.06.94zm10 10l.94 2.06.94-2.06 2.06-.94-2.06-.94-.94-2.06-.94 2.06-2.06.94z\"/><path d=\"M17.41 7.96l-1.37-1.37c-.4-.4-.92-.59-1.43-.59-.52 0-1.04.2-1.43.59L10.3 9.45l-7.72 7.72c-.78.78-.78 2.05 0 2.83L4 21.41c.39.39.9.59 1.41.59.51 0 1.02-.2 1.41-.59l7.78-7.78 2.81-2.81c.8-.78.8-2.07 0-2.86zM5.41 20L4 18.59l7.72-7.72 1.47 1.35L5.41 20z\"/>\n",
              "  </svg>\n",
              "      </button>\n",
              "      \n",
              "  <style>\n",
              "    .colab-df-container {\n",
              "      display:flex;\n",
              "      flex-wrap:wrap;\n",
              "      gap: 12px;\n",
              "    }\n",
              "\n",
              "    .colab-df-convert {\n",
              "      background-color: #E8F0FE;\n",
              "      border: none;\n",
              "      border-radius: 50%;\n",
              "      cursor: pointer;\n",
              "      display: none;\n",
              "      fill: #1967D2;\n",
              "      height: 32px;\n",
              "      padding: 0 0 0 0;\n",
              "      width: 32px;\n",
              "    }\n",
              "\n",
              "    .colab-df-convert:hover {\n",
              "      background-color: #E2EBFA;\n",
              "      box-shadow: 0px 1px 2px rgba(60, 64, 67, 0.3), 0px 1px 3px 1px rgba(60, 64, 67, 0.15);\n",
              "      fill: #174EA6;\n",
              "    }\n",
              "\n",
              "    [theme=dark] .colab-df-convert {\n",
              "      background-color: #3B4455;\n",
              "      fill: #D2E3FC;\n",
              "    }\n",
              "\n",
              "    [theme=dark] .colab-df-convert:hover {\n",
              "      background-color: #434B5C;\n",
              "      box-shadow: 0px 1px 3px 1px rgba(0, 0, 0, 0.15);\n",
              "      filter: drop-shadow(0px 1px 2px rgba(0, 0, 0, 0.3));\n",
              "      fill: #FFFFFF;\n",
              "    }\n",
              "  </style>\n",
              "\n",
              "      <script>\n",
              "        const buttonEl =\n",
              "          document.querySelector('#df-c7784a05-e187-425c-be96-c0662b0b9387 button.colab-df-convert');\n",
              "        buttonEl.style.display =\n",
              "          google.colab.kernel.accessAllowed ? 'block' : 'none';\n",
              "\n",
              "        async function convertToInteractive(key) {\n",
              "          const element = document.querySelector('#df-c7784a05-e187-425c-be96-c0662b0b9387');\n",
              "          const dataTable =\n",
              "            await google.colab.kernel.invokeFunction('convertToInteractive',\n",
              "                                                     [key], {});\n",
              "          if (!dataTable) return;\n",
              "\n",
              "          const docLinkHtml = 'Like what you see? Visit the ' +\n",
              "            '<a target=\"_blank\" href=https://colab.research.google.com/notebooks/data_table.ipynb>data table notebook</a>'\n",
              "            + ' to learn more about interactive tables.';\n",
              "          element.innerHTML = '';\n",
              "          dataTable['output_type'] = 'display_data';\n",
              "          await google.colab.output.renderOutput(dataTable, element);\n",
              "          const docLink = document.createElement('div');\n",
              "          docLink.innerHTML = docLinkHtml;\n",
              "          element.appendChild(docLink);\n",
              "        }\n",
              "      </script>\n",
              "    </div>\n",
              "  </div>\n",
              "  "
            ]
          },
          "metadata": {},
          "execution_count": 35
        }
      ]
    },
    {
      "cell_type": "markdown",
      "source": [
        "  ##    9b. SQL section (optional)"
      ],
      "metadata": {
        "id": "HGEb4RUW3mMu"
      }
    },
    {
      "cell_type": "code",
      "source": [
        "# SQL block\n",
        "!pip install -U pandasql\n",
        "from pandasql import sqldf\n",
        "\n",
        "# purpose:\n",
        "# To find out how the extreme short (that are to be removed) and extreme long texts (that are to be cut off) are distributed between\n",
        "# news and disinfo SQL is used to count them. (this can also be done in pandas but my coding is not strong enough)."
      ],
      "metadata": {
        "colab": {
          "base_uri": "https://localhost:8080/"
        },
        "id": "9vlCjYwj5Lsm",
        "outputId": "a57da574-de96-4c6f-f277-1d452950df9e"
      },
      "execution_count": null,
      "outputs": [
        {
          "output_type": "stream",
          "name": "stdout",
          "text": [
            "Looking in indexes: https://pypi.org/simple, https://us-python.pkg.dev/colab-wheels/public/simple/\n",
            "Collecting pandasql\n",
            "  Downloading pandasql-0.7.3.tar.gz (26 kB)\n",
            "  Preparing metadata (setup.py) ... \u001b[?25l\u001b[?25hdone\n",
            "Requirement already satisfied: numpy in /usr/local/lib/python3.8/dist-packages (from pandasql) (1.21.6)\n",
            "Requirement already satisfied: pandas in /usr/local/lib/python3.8/dist-packages (from pandasql) (1.3.5)\n",
            "Requirement already satisfied: sqlalchemy in /usr/local/lib/python3.8/dist-packages (from pandasql) (1.4.46)\n",
            "Requirement already satisfied: pytz>=2017.3 in /usr/local/lib/python3.8/dist-packages (from pandas->pandasql) (2022.7.1)\n",
            "Requirement already satisfied: python-dateutil>=2.7.3 in /usr/local/lib/python3.8/dist-packages (from pandas->pandasql) (2.8.2)\n",
            "Requirement already satisfied: greenlet!=0.4.17 in /usr/local/lib/python3.8/dist-packages (from sqlalchemy->pandasql) (2.0.2)\n",
            "Requirement already satisfied: six>=1.5 in /usr/local/lib/python3.8/dist-packages (from python-dateutil>=2.7.3->pandas->pandasql) (1.15.0)\n",
            "Building wheels for collected packages: pandasql\n",
            "  Building wheel for pandasql (setup.py) ... \u001b[?25l\u001b[?25hdone\n",
            "  Created wheel for pandasql: filename=pandasql-0.7.3-py3-none-any.whl size=26787 sha256=36d378515d55bfb86350fb7448b2a8d6c9d79a2264f8af1f0dab492b1b628016\n",
            "  Stored in directory: /root/.cache/pip/wheels/ed/8f/46/a383923333728744f01ba24adbd8e364f2cb9470a8b8e5b9ff\n",
            "Successfully built pandasql\n",
            "Installing collected packages: pandasql\n",
            "Successfully installed pandasql-0.7.3\n"
          ]
        }
      ]
    },
    {
      "cell_type": "code",
      "source": [
        "# Query definition\n",
        "query = \"\"\" SELECT count(*) \n",
        "            FROM df_full2\n",
        "            WHERE (text_length < 20)\n",
        "            GROUP BY label  \n",
        "        \"\"\"\n",
        "\n",
        "# Query execution\n",
        "tooshort_distribution = sqldf(query, globals())\n",
        "tooshort_distribution"
      ],
      "metadata": {
        "colab": {
          "base_uri": "https://localhost:8080/"
        },
        "id": "t3Scr3g61vuv",
        "outputId": "e56093db-5d57-4eb3-d02e-0192d124f896"
      },
      "execution_count": null,
      "outputs": [
        {
          "output_type": "execute_result",
          "data": {
            "text/plain": [
              "Empty DataFrame\n",
              "Columns: [count(*)]\n",
              "Index: []"
            ],
            "text/html": [
              "\n",
              "  <div id=\"df-4aa2d459-2f56-4f1b-9052-e844798c45dd\">\n",
              "    <div class=\"colab-df-container\">\n",
              "      <div>\n",
              "<style scoped>\n",
              "    .dataframe tbody tr th:only-of-type {\n",
              "        vertical-align: middle;\n",
              "    }\n",
              "\n",
              "    .dataframe tbody tr th {\n",
              "        vertical-align: top;\n",
              "    }\n",
              "\n",
              "    .dataframe thead th {\n",
              "        text-align: right;\n",
              "    }\n",
              "</style>\n",
              "<table border=\"1\" class=\"dataframe\">\n",
              "  <thead>\n",
              "    <tr style=\"text-align: right;\">\n",
              "      <th></th>\n",
              "      <th>count(*)</th>\n",
              "    </tr>\n",
              "  </thead>\n",
              "  <tbody>\n",
              "  </tbody>\n",
              "</table>\n",
              "</div>\n",
              "      <button class=\"colab-df-convert\" onclick=\"convertToInteractive('df-4aa2d459-2f56-4f1b-9052-e844798c45dd')\"\n",
              "              title=\"Convert this dataframe to an interactive table.\"\n",
              "              style=\"display:none;\">\n",
              "        \n",
              "  <svg xmlns=\"http://www.w3.org/2000/svg\" height=\"24px\"viewBox=\"0 0 24 24\"\n",
              "       width=\"24px\">\n",
              "    <path d=\"M0 0h24v24H0V0z\" fill=\"none\"/>\n",
              "    <path d=\"M18.56 5.44l.94 2.06.94-2.06 2.06-.94-2.06-.94-.94-2.06-.94 2.06-2.06.94zm-11 1L8.5 8.5l.94-2.06 2.06-.94-2.06-.94L8.5 2.5l-.94 2.06-2.06.94zm10 10l.94 2.06.94-2.06 2.06-.94-2.06-.94-.94-2.06-.94 2.06-2.06.94z\"/><path d=\"M17.41 7.96l-1.37-1.37c-.4-.4-.92-.59-1.43-.59-.52 0-1.04.2-1.43.59L10.3 9.45l-7.72 7.72c-.78.78-.78 2.05 0 2.83L4 21.41c.39.39.9.59 1.41.59.51 0 1.02-.2 1.41-.59l7.78-7.78 2.81-2.81c.8-.78.8-2.07 0-2.86zM5.41 20L4 18.59l7.72-7.72 1.47 1.35L5.41 20z\"/>\n",
              "  </svg>\n",
              "      </button>\n",
              "      \n",
              "  <style>\n",
              "    .colab-df-container {\n",
              "      display:flex;\n",
              "      flex-wrap:wrap;\n",
              "      gap: 12px;\n",
              "    }\n",
              "\n",
              "    .colab-df-convert {\n",
              "      background-color: #E8F0FE;\n",
              "      border: none;\n",
              "      border-radius: 50%;\n",
              "      cursor: pointer;\n",
              "      display: none;\n",
              "      fill: #1967D2;\n",
              "      height: 32px;\n",
              "      padding: 0 0 0 0;\n",
              "      width: 32px;\n",
              "    }\n",
              "\n",
              "    .colab-df-convert:hover {\n",
              "      background-color: #E2EBFA;\n",
              "      box-shadow: 0px 1px 2px rgba(60, 64, 67, 0.3), 0px 1px 3px 1px rgba(60, 64, 67, 0.15);\n",
              "      fill: #174EA6;\n",
              "    }\n",
              "\n",
              "    [theme=dark] .colab-df-convert {\n",
              "      background-color: #3B4455;\n",
              "      fill: #D2E3FC;\n",
              "    }\n",
              "\n",
              "    [theme=dark] .colab-df-convert:hover {\n",
              "      background-color: #434B5C;\n",
              "      box-shadow: 0px 1px 3px 1px rgba(0, 0, 0, 0.15);\n",
              "      filter: drop-shadow(0px 1px 2px rgba(0, 0, 0, 0.3));\n",
              "      fill: #FFFFFF;\n",
              "    }\n",
              "  </style>\n",
              "\n",
              "      <script>\n",
              "        const buttonEl =\n",
              "          document.querySelector('#df-4aa2d459-2f56-4f1b-9052-e844798c45dd button.colab-df-convert');\n",
              "        buttonEl.style.display =\n",
              "          google.colab.kernel.accessAllowed ? 'block' : 'none';\n",
              "\n",
              "        async function convertToInteractive(key) {\n",
              "          const element = document.querySelector('#df-4aa2d459-2f56-4f1b-9052-e844798c45dd');\n",
              "          const dataTable =\n",
              "            await google.colab.kernel.invokeFunction('convertToInteractive',\n",
              "                                                     [key], {});\n",
              "          if (!dataTable) return;\n",
              "\n",
              "          const docLinkHtml = 'Like what you see? Visit the ' +\n",
              "            '<a target=\"_blank\" href=https://colab.research.google.com/notebooks/data_table.ipynb>data table notebook</a>'\n",
              "            + ' to learn more about interactive tables.';\n",
              "          element.innerHTML = '';\n",
              "          dataTable['output_type'] = 'display_data';\n",
              "          await google.colab.output.renderOutput(dataTable, element);\n",
              "          const docLink = document.createElement('div');\n",
              "          docLink.innerHTML = docLinkHtml;\n",
              "          element.appendChild(docLink);\n",
              "        }\n",
              "      </script>\n",
              "    </div>\n",
              "  </div>\n",
              "  "
            ]
          },
          "metadata": {},
          "execution_count": 37
        }
      ]
    },
    {
      "cell_type": "code",
      "source": [
        "# Query definition\n",
        "query = \"\"\" SELECT count(*) \n",
        "            FROM df_full2\n",
        "            WHERE (text_length > 2000)\n",
        "            GROUP BY label  \n",
        "        \"\"\"\n",
        "\n",
        "# Query execution\n",
        "toolong_distribution = sqldf(query, globals())\n",
        "toolong_distribution"
      ],
      "metadata": {
        "colab": {
          "base_uri": "https://localhost:8080/"
        },
        "id": "0xTrAsDr8euY",
        "outputId": "ee1373f5-18e2-44f1-87bf-6f2473ea8cc2"
      },
      "execution_count": null,
      "outputs": [
        {
          "output_type": "execute_result",
          "data": {
            "text/plain": [
              "   count(*)\n",
              "0     20385\n",
              "1     15987"
            ],
            "text/html": [
              "\n",
              "  <div id=\"df-9fa94d5f-0eb7-455a-862a-5af550da1f49\">\n",
              "    <div class=\"colab-df-container\">\n",
              "      <div>\n",
              "<style scoped>\n",
              "    .dataframe tbody tr th:only-of-type {\n",
              "        vertical-align: middle;\n",
              "    }\n",
              "\n",
              "    .dataframe tbody tr th {\n",
              "        vertical-align: top;\n",
              "    }\n",
              "\n",
              "    .dataframe thead th {\n",
              "        text-align: right;\n",
              "    }\n",
              "</style>\n",
              "<table border=\"1\" class=\"dataframe\">\n",
              "  <thead>\n",
              "    <tr style=\"text-align: right;\">\n",
              "      <th></th>\n",
              "      <th>count(*)</th>\n",
              "    </tr>\n",
              "  </thead>\n",
              "  <tbody>\n",
              "    <tr>\n",
              "      <th>0</th>\n",
              "      <td>20385</td>\n",
              "    </tr>\n",
              "    <tr>\n",
              "      <th>1</th>\n",
              "      <td>15987</td>\n",
              "    </tr>\n",
              "  </tbody>\n",
              "</table>\n",
              "</div>\n",
              "      <button class=\"colab-df-convert\" onclick=\"convertToInteractive('df-9fa94d5f-0eb7-455a-862a-5af550da1f49')\"\n",
              "              title=\"Convert this dataframe to an interactive table.\"\n",
              "              style=\"display:none;\">\n",
              "        \n",
              "  <svg xmlns=\"http://www.w3.org/2000/svg\" height=\"24px\"viewBox=\"0 0 24 24\"\n",
              "       width=\"24px\">\n",
              "    <path d=\"M0 0h24v24H0V0z\" fill=\"none\"/>\n",
              "    <path d=\"M18.56 5.44l.94 2.06.94-2.06 2.06-.94-2.06-.94-.94-2.06-.94 2.06-2.06.94zm-11 1L8.5 8.5l.94-2.06 2.06-.94-2.06-.94L8.5 2.5l-.94 2.06-2.06.94zm10 10l.94 2.06.94-2.06 2.06-.94-2.06-.94-.94-2.06-.94 2.06-2.06.94z\"/><path d=\"M17.41 7.96l-1.37-1.37c-.4-.4-.92-.59-1.43-.59-.52 0-1.04.2-1.43.59L10.3 9.45l-7.72 7.72c-.78.78-.78 2.05 0 2.83L4 21.41c.39.39.9.59 1.41.59.51 0 1.02-.2 1.41-.59l7.78-7.78 2.81-2.81c.8-.78.8-2.07 0-2.86zM5.41 20L4 18.59l7.72-7.72 1.47 1.35L5.41 20z\"/>\n",
              "  </svg>\n",
              "      </button>\n",
              "      \n",
              "  <style>\n",
              "    .colab-df-container {\n",
              "      display:flex;\n",
              "      flex-wrap:wrap;\n",
              "      gap: 12px;\n",
              "    }\n",
              "\n",
              "    .colab-df-convert {\n",
              "      background-color: #E8F0FE;\n",
              "      border: none;\n",
              "      border-radius: 50%;\n",
              "      cursor: pointer;\n",
              "      display: none;\n",
              "      fill: #1967D2;\n",
              "      height: 32px;\n",
              "      padding: 0 0 0 0;\n",
              "      width: 32px;\n",
              "    }\n",
              "\n",
              "    .colab-df-convert:hover {\n",
              "      background-color: #E2EBFA;\n",
              "      box-shadow: 0px 1px 2px rgba(60, 64, 67, 0.3), 0px 1px 3px 1px rgba(60, 64, 67, 0.15);\n",
              "      fill: #174EA6;\n",
              "    }\n",
              "\n",
              "    [theme=dark] .colab-df-convert {\n",
              "      background-color: #3B4455;\n",
              "      fill: #D2E3FC;\n",
              "    }\n",
              "\n",
              "    [theme=dark] .colab-df-convert:hover {\n",
              "      background-color: #434B5C;\n",
              "      box-shadow: 0px 1px 3px 1px rgba(0, 0, 0, 0.15);\n",
              "      filter: drop-shadow(0px 1px 2px rgba(0, 0, 0, 0.3));\n",
              "      fill: #FFFFFF;\n",
              "    }\n",
              "  </style>\n",
              "\n",
              "      <script>\n",
              "        const buttonEl =\n",
              "          document.querySelector('#df-9fa94d5f-0eb7-455a-862a-5af550da1f49 button.colab-df-convert');\n",
              "        buttonEl.style.display =\n",
              "          google.colab.kernel.accessAllowed ? 'block' : 'none';\n",
              "\n",
              "        async function convertToInteractive(key) {\n",
              "          const element = document.querySelector('#df-9fa94d5f-0eb7-455a-862a-5af550da1f49');\n",
              "          const dataTable =\n",
              "            await google.colab.kernel.invokeFunction('convertToInteractive',\n",
              "                                                     [key], {});\n",
              "          if (!dataTable) return;\n",
              "\n",
              "          const docLinkHtml = 'Like what you see? Visit the ' +\n",
              "            '<a target=\"_blank\" href=https://colab.research.google.com/notebooks/data_table.ipynb>data table notebook</a>'\n",
              "            + ' to learn more about interactive tables.';\n",
              "          element.innerHTML = '';\n",
              "          dataTable['output_type'] = 'display_data';\n",
              "          await google.colab.output.renderOutput(dataTable, element);\n",
              "          const docLink = document.createElement('div');\n",
              "          docLink.innerHTML = docLinkHtml;\n",
              "          element.appendChild(docLink);\n",
              "        }\n",
              "      </script>\n",
              "    </div>\n",
              "  </div>\n",
              "  "
            ]
          },
          "metadata": {},
          "execution_count": 38
        }
      ]
    },
    {
      "cell_type": "markdown",
      "source": [
        "# 9. Splitting into train and test"
      ],
      "metadata": {
        "id": "C2d9v-DeEURN"
      }
    },
    {
      "cell_type": "code",
      "source": [
        "X = df_full2['text']\n",
        "y = df_full2['label']\n",
        "\n",
        "from sklearn.model_selection import train_test_split\n",
        "X_train, X_test, y_train, y_test = train_test_split(X, y , test_size = 0.3, random_state=42)   #0.2 is normal but is a bit too heavy to work with in translation.."
      ],
      "metadata": {
        "id": "PrL1oa9aEV7g"
      },
      "execution_count": null,
      "outputs": []
    },
    {
      "cell_type": "code",
      "source": [
        "#X_train.shape # (67625,)\n",
        "X_test.shape   # (684,)"
      ],
      "metadata": {
        "id": "VcK-fA4pGVY_",
        "colab": {
          "base_uri": "https://localhost:8080/"
        },
        "outputId": "77437baf-71cc-4165-c7e7-e6ec34f48024"
      },
      "execution_count": null,
      "outputs": [
        {
          "output_type": "execute_result",
          "data": {
            "text/plain": [
              "(21999,)"
            ]
          },
          "metadata": {},
          "execution_count": 40
        }
      ]
    },
    {
      "cell_type": "code",
      "source": [
        "#trainset will be used to train each embedding-model architecture\n",
        "trainset = pd.concat([X_train, y_train],axis=1)\n",
        "\n",
        "#testset will be used to create testN1, testN2 and testN3, which will be used for comparing scores across models\n",
        "#where N1 will stand for 'noise level 1' (induced by amchine translation), N2 for noise level 2 etc.\n",
        "testset = pd.concat([X_test, y_test],axis=1)"
      ],
      "metadata": {
        "id": "PNYxHc24GeN1"
      },
      "execution_count": null,
      "outputs": []
    },
    {
      "cell_type": "markdown",
      "source": [
        "# 10. Exporting both train and test sets.\n",
        "- testset is to be used for translation to create several different test sets.\n",
        "- train is to be used for embeddings and model training."
      ],
      "metadata": {
        "id": "cZZ-izB3H2lv"
      }
    },
    {
      "cell_type": "code",
      "source": [
        "testset.to_csv('/content/drive/MyDrive/MYDATA/df_full2_TEST30split.csv', index=False)"
      ],
      "metadata": {
        "id": "F2GTOLlpIKiI"
      },
      "execution_count": null,
      "outputs": []
    },
    {
      "cell_type": "code",
      "source": [
        "trainset.to_csv('/content/drive/MyDrive/MYDATA/df_full2_TRAIN30split.csv', index=False)"
      ],
      "metadata": {
        "id": "XZqhZJRNIPiD"
      },
      "execution_count": null,
      "outputs": []
    },
    {
      "cell_type": "markdown",
      "source": [
        "# 11 Testset translation  (Version 3, dict + split method..)\n",
        "create testset text_N1, text_N2 and text_N3 using backtranslation\n",
        "WARNING! RUNNING THIS BLOCK TAKES A LONG TIME!"
      ],
      "metadata": {
        "id": "U4WA6MnL9JOv"
      }
    },
    {
      "cell_type": "code",
      "source": [
        "pathTest30split = '/content/drive/MyDrive/MYDATA/df_full2_TEST30split.csv'\n",
        "testset = pd.read_csv(pathTest30split)\n",
        "\n",
        "#pathTest01split = '/content/drive/MyDrive/MYDATA/df_full2_TEST01split.csv'\n",
        "#testset = pd.read_csv(pathTest01split)"
      ],
      "metadata": {
        "id": "j8We3b54KAXQ"
      },
      "execution_count": null,
      "outputs": []
    },
    {
      "cell_type": "code",
      "source": [
        "testset.shape"
      ],
      "metadata": {
        "colab": {
          "base_uri": "https://localhost:8080/"
        },
        "id": "DSJQA35t_Wft",
        "outputId": "05382d71-ad1c-4266-8b42-ef0f8e708822"
      },
      "execution_count": null,
      "outputs": [
        {
          "output_type": "execute_result",
          "data": {
            "text/plain": [
              "(21999, 2)"
            ]
          },
          "metadata": {},
          "execution_count": 45
        }
      ]
    },
    {
      "cell_type": "code",
      "source": [
        "#!pip install googletrans==3.1.0a0\n",
        "# version hardcoded because of an error in the latest version..\n",
        "from googletrans import Translator"
      ],
      "metadata": {
        "id": "cy54kptE9Ux6"
      },
      "execution_count": null,
      "outputs": []
    },
    {
      "cell_type": "code",
      "source": [
        "translator = Translator()"
      ],
      "metadata": {
        "id": "_MzFJuh8V5ro"
      },
      "execution_count": null,
      "outputs": []
    },
    {
      "cell_type": "code",
      "source": [
        "def noiseGeneration(df, inputcolumn, translateColumn, backtranslateColumn):\n",
        "  df[translateColumn] = df[inputcolumn].apply(translator.translate, src='en', dest='ru').apply(getattr, args=('text',))\n",
        "  df[backtranslateColumn] = df[translateColumn].apply(translator.translate, src='ru', dest='en').apply(getattr, args=('text',))\n",
        "  df = df.drop(translateColumn, axis='columns')\n",
        "  return df"
      ],
      "metadata": {
        "id": "z2daxiXQV8YU"
      },
      "execution_count": null,
      "outputs": []
    },
    {
      "cell_type": "code",
      "source": [
        "# in order to translate 30% (±20k rows), we need to split the test set up into 5 sets of 6k rows\n",
        "#divide df into x subsets ( to prevent overloading google translate..)\n",
        "splitted_array = np.array_split(testset, 50)\n",
        "# rows = 30% of 60k  divided by 50 = ±360 each"
      ],
      "metadata": {
        "id": "rv7_tbgA9VXA"
      },
      "execution_count": null,
      "outputs": []
    },
    {
      "cell_type": "code",
      "source": [
        "#generate 50 names for all the splits\n",
        "SplitList = []\n",
        "for i in range(1,51):\n",
        "  SplitList.append('df_splitted_'+str(i))"
      ],
      "metadata": {
        "id": "beB1ZVERWZW0"
      },
      "execution_count": null,
      "outputs": []
    },
    {
      "cell_type": "code",
      "source": [
        "#create dictonary with name for split as key and df as value\n",
        "split_dict = {}\n",
        "for i, split in enumerate(SplitList):\n",
        "    split_dict[split] = pd.DataFrame(splitted_array[i])\n",
        "\n",
        "#the same using list comprehension is: \n",
        "#d = {split: pd.DataFrame(splitted[i]) for split in SplitList}"
      ],
      "metadata": {
        "id": "JKeuw4sJWcbh"
      },
      "execution_count": null,
      "outputs": []
    },
    {
      "cell_type": "code",
      "source": [
        "#type(split_dict['df_splitted_29'])\n",
        "split_dict['df_splitted_2'].shape  #(410, 2)"
      ],
      "metadata": {
        "colab": {
          "base_uri": "https://localhost:8080/"
        },
        "id": "B3hFXCE-WjCQ",
        "outputId": "7672b639-0a1b-489c-81c6-f6313621732c"
      },
      "execution_count": null,
      "outputs": [
        {
          "output_type": "execute_result",
          "data": {
            "text/plain": [
              "(440, 2)"
            ]
          },
          "metadata": {},
          "execution_count": 52
        }
      ]
    },
    {
      "cell_type": "code",
      "source": [
        "#Self created method for batching the translation (time-out resistant)\n",
        "\n",
        "#it is necesary to use this workaround to prevent google translate from timing you out.\n",
        "#It uses the 20k rows test set, split op into 50 dataframes stored in a dictionary.\n",
        "#Then takes each of the 50 values (df) and translates all the rows in it, then drop the 'in-between' translation columns\n",
        "#then generates a number name (based in the list created previously) and uses that to export it to g drive.\n",
        "\n",
        "counter = -1\n",
        "for split, df in split_dict.items():\n",
        "    counter += 1\n",
        "\n",
        "    split_dict[split] = noiseGeneration(df, 'text', 'text_N1_pre', 'text_N1')\n",
        "    split_dict[split] = noiseGeneration(df, 'text_N1', 'text_N2_pre', 'text_N2')\n",
        "    split_dict[split] = noiseGeneration(df, 'text_N2', 'text_N3_pre', 'text_N3')\n",
        "    \n",
        "    split_dict[split].drop(['text_N1_pre', 'text_N2_pre'], inplace=True, axis=1)\n",
        "\n",
        "    namesplit = SplitList[counter] + '.csv'\n",
        "    split_dict[split].to_csv('/content/drive/MyDrive/MYDATA/SplitsOfSplit/'+ namesplit, index=False)"
      ],
      "metadata": {
        "id": "cLUli0B1Wn0k"
      },
      "execution_count": null,
      "outputs": []
    },
    {
      "cell_type": "code",
      "source": [
        "#when to above is done, we read them in from CSV..\n",
        "unsplit_dict = {}\n",
        "for i, split in enumerate(SplitList):\n",
        "    namecsv = split + '.csv' \n",
        "    unsplit_dict[split] = pd.read_csv('/content/drive/MyDrive/MYDATA/SplitsOfSplit/' + namecsv)"
      ],
      "metadata": {
        "id": "AZ_dppuoTsma"
      },
      "execution_count": null,
      "outputs": []
    },
    {
      "cell_type": "code",
      "source": [
        "#.. and then merge to one single test set again.\n",
        "df_unsplittedTEST= pd.DataFrame()\n",
        "\n",
        "for k,v in unsplit_dict.items():\n",
        "  df_unsplittedTEST = df_unsplittedTEST.append(v)"
      ],
      "metadata": {
        "id": "gr4hGH3UWCBc"
      },
      "execution_count": null,
      "outputs": []
    },
    {
      "cell_type": "code",
      "source": [
        "\n",
        "len(df_unsplittedTEST[df_unsplittedTEST['text_N1'].str.contains('д|и|г')])  #how many rows are not translated back to english correctly? # ±30%..\n",
        "  #at charlength:3900 -> 214\n",
        "  #at charlength:3200 -> 94\n",
        "  #at charlength:2800 -> 14 (2%) using this length for now, as 2% seems acceptable"
      ],
      "metadata": {
        "id": "mz0VIV24Y8_h",
        "colab": {
          "base_uri": "https://localhost:8080/"
        },
        "outputId": "9385b3ee-7770-4349-c408-3e2074a28ae0"
      },
      "execution_count": null,
      "outputs": [
        {
          "output_type": "execute_result",
          "data": {
            "text/plain": [
              "561"
            ]
          },
          "metadata": {},
          "execution_count": 56
        }
      ]
    },
    {
      "cell_type": "code",
      "source": [
        "#print((21/df_unsplittedTEST.shape[0])*100)   # = 2.8%"
      ],
      "metadata": {
        "id": "VEIRpqfLIlr-"
      },
      "execution_count": null,
      "outputs": []
    },
    {
      "cell_type": "markdown",
      "source": [
        "# 12. Exporting Noise Testsets\n"
      ],
      "metadata": {
        "id": "htSm0Iz9O6wR"
      }
    },
    {
      "cell_type": "code",
      "source": [
        "#export this 1% set, to work with in testing in seperate collab.\n",
        "df_unsplittedTEST.to_csv('/content/drive/MyDrive/MYDATA/full_TEST01_NX.csv', index=False)"
      ],
      "metadata": {
        "id": "D84ylW7TiwPX"
      },
      "execution_count": null,
      "outputs": []
    },
    {
      "cell_type": "markdown",
      "source": [
        "# 13 Calculating the actual lexical noise per back-translation\n",
        "- Jaro Winkler Distance (edit based)\n",
        "- Hamming Distance (edit based)\n",
        "- Ratcliff Obershelp (sequence based)\n",
        "- longest common substring (sequence based)\n",
        "- levenshtein distance (edit-based)"
      ],
      "metadata": {
        "id": "FsTTrjwY0S9-"
      }
    },
    {
      "cell_type": "code",
      "source": [
        "!pip install textdistance"
      ],
      "metadata": {
        "id": "IcxfK8bi0f-V",
        "colab": {
          "base_uri": "https://localhost:8080/"
        },
        "outputId": "a8a167b0-190e-42fd-eec7-2e78539c1909"
      },
      "execution_count": null,
      "outputs": [
        {
          "output_type": "stream",
          "name": "stdout",
          "text": [
            "Looking in indexes: https://pypi.org/simple, https://us-python.pkg.dev/colab-wheels/public/simple/\n",
            "Collecting textdistance\n",
            "  Downloading textdistance-4.5.0-py3-none-any.whl (31 kB)\n",
            "Installing collected packages: textdistance\n",
            "Successfully installed textdistance-4.5.0\n"
          ]
        }
      ]
    },
    {
      "cell_type": "code",
      "source": [
        "import textdistance"
      ],
      "metadata": {
        "id": "obH04uUV0kOl"
      },
      "execution_count": null,
      "outputs": []
    },
    {
      "cell_type": "markdown",
      "source": [
        "Hamming:"
      ],
      "metadata": {
        "id": "hXZsx6qP1LFr"
      }
    },
    {
      "cell_type": "code",
      "source": [
        "df_HammingDistance_distance = pd.DataFrame()"
      ],
      "metadata": {
        "id": "Ky5yOXdNRa38"
      },
      "execution_count": null,
      "outputs": []
    },
    {
      "cell_type": "code",
      "source": [
        "df_HammingDistance_distance['N0_N1_similarity'] = df_unsplittedTEST.apply(lambda x: textdistance.Hamming(qval=None).normalized_distance(x['text'], x['text_N1']), axis = 1)\n",
        "df_HammingDistance_distance['N1_N2_similarity'] = df_unsplittedTEST.apply(lambda x: textdistance.Hamming(qval=None).normalized_distance(x['text_N1'], x['text_N2']), axis = 1)\n",
        "df_HammingDistance_distance['N2_N3_similarity'] = df_unsplittedTEST.apply(lambda x: textdistance.Hamming(qval=None).normalized_distance(x['text_N2'], x['text_N3']), axis = 1)"
      ],
      "metadata": {
        "id": "VETCwZD-0417"
      },
      "execution_count": null,
      "outputs": []
    },
    {
      "cell_type": "code",
      "source": [
        "#export the HammingDistance results as a seperate df\n",
        "df_HammingDistance_distance.to_csv('/content/drive/MyDrive/MYDATA/LexicalDistanceHAMMING.csv', index=False)"
      ],
      "metadata": {
        "id": "7NuVpCzN09st"
      },
      "execution_count": null,
      "outputs": []
    },
    {
      "cell_type": "code",
      "source": [
        "display(df_HammingDistance_distance.describe())\n",
        "#N0-N1: mean .147 (std .02)\n",
        "#N1-N2: mean .103 (std .06)\n",
        "#N2-N3: mean .070 (std .06)"
      ],
      "metadata": {
        "id": "de53KC_j1Dlz",
        "colab": {
          "base_uri": "https://localhost:8080/",
          "height": 300
        },
        "outputId": "846cecd9-b90d-47a3-e199-5ca6b1569da6"
      },
      "execution_count": null,
      "outputs": [
        {
          "output_type": "display_data",
          "data": {
            "text/plain": [
              "       N0_N1_similarity  N1_N2_similarity  N2_N3_similarity\n",
              "count      21999.000000      21999.000000      21999.000000\n",
              "mean           0.145269          0.101772          0.069857\n",
              "std            0.030330          0.056513          0.059949\n",
              "min            0.000000          0.000000          0.000000\n",
              "25%            0.139558          0.063405          0.000376\n",
              "50%            0.153430          0.122186          0.072601\n",
              "75%            0.162500          0.147048          0.126414\n",
              "max            0.236842          0.203156          0.198864"
            ],
            "text/html": [
              "\n",
              "  <div id=\"df-5d700b89-da97-4a09-afa1-10f9dafbe3d4\">\n",
              "    <div class=\"colab-df-container\">\n",
              "      <div>\n",
              "<style scoped>\n",
              "    .dataframe tbody tr th:only-of-type {\n",
              "        vertical-align: middle;\n",
              "    }\n",
              "\n",
              "    .dataframe tbody tr th {\n",
              "        vertical-align: top;\n",
              "    }\n",
              "\n",
              "    .dataframe thead th {\n",
              "        text-align: right;\n",
              "    }\n",
              "</style>\n",
              "<table border=\"1\" class=\"dataframe\">\n",
              "  <thead>\n",
              "    <tr style=\"text-align: right;\">\n",
              "      <th></th>\n",
              "      <th>N0_N1_similarity</th>\n",
              "      <th>N1_N2_similarity</th>\n",
              "      <th>N2_N3_similarity</th>\n",
              "    </tr>\n",
              "  </thead>\n",
              "  <tbody>\n",
              "    <tr>\n",
              "      <th>count</th>\n",
              "      <td>21999.000000</td>\n",
              "      <td>21999.000000</td>\n",
              "      <td>21999.000000</td>\n",
              "    </tr>\n",
              "    <tr>\n",
              "      <th>mean</th>\n",
              "      <td>0.145269</td>\n",
              "      <td>0.101772</td>\n",
              "      <td>0.069857</td>\n",
              "    </tr>\n",
              "    <tr>\n",
              "      <th>std</th>\n",
              "      <td>0.030330</td>\n",
              "      <td>0.056513</td>\n",
              "      <td>0.059949</td>\n",
              "    </tr>\n",
              "    <tr>\n",
              "      <th>min</th>\n",
              "      <td>0.000000</td>\n",
              "      <td>0.000000</td>\n",
              "      <td>0.000000</td>\n",
              "    </tr>\n",
              "    <tr>\n",
              "      <th>25%</th>\n",
              "      <td>0.139558</td>\n",
              "      <td>0.063405</td>\n",
              "      <td>0.000376</td>\n",
              "    </tr>\n",
              "    <tr>\n",
              "      <th>50%</th>\n",
              "      <td>0.153430</td>\n",
              "      <td>0.122186</td>\n",
              "      <td>0.072601</td>\n",
              "    </tr>\n",
              "    <tr>\n",
              "      <th>75%</th>\n",
              "      <td>0.162500</td>\n",
              "      <td>0.147048</td>\n",
              "      <td>0.126414</td>\n",
              "    </tr>\n",
              "    <tr>\n",
              "      <th>max</th>\n",
              "      <td>0.236842</td>\n",
              "      <td>0.203156</td>\n",
              "      <td>0.198864</td>\n",
              "    </tr>\n",
              "  </tbody>\n",
              "</table>\n",
              "</div>\n",
              "      <button class=\"colab-df-convert\" onclick=\"convertToInteractive('df-5d700b89-da97-4a09-afa1-10f9dafbe3d4')\"\n",
              "              title=\"Convert this dataframe to an interactive table.\"\n",
              "              style=\"display:none;\">\n",
              "        \n",
              "  <svg xmlns=\"http://www.w3.org/2000/svg\" height=\"24px\"viewBox=\"0 0 24 24\"\n",
              "       width=\"24px\">\n",
              "    <path d=\"M0 0h24v24H0V0z\" fill=\"none\"/>\n",
              "    <path d=\"M18.56 5.44l.94 2.06.94-2.06 2.06-.94-2.06-.94-.94-2.06-.94 2.06-2.06.94zm-11 1L8.5 8.5l.94-2.06 2.06-.94-2.06-.94L8.5 2.5l-.94 2.06-2.06.94zm10 10l.94 2.06.94-2.06 2.06-.94-2.06-.94-.94-2.06-.94 2.06-2.06.94z\"/><path d=\"M17.41 7.96l-1.37-1.37c-.4-.4-.92-.59-1.43-.59-.52 0-1.04.2-1.43.59L10.3 9.45l-7.72 7.72c-.78.78-.78 2.05 0 2.83L4 21.41c.39.39.9.59 1.41.59.51 0 1.02-.2 1.41-.59l7.78-7.78 2.81-2.81c.8-.78.8-2.07 0-2.86zM5.41 20L4 18.59l7.72-7.72 1.47 1.35L5.41 20z\"/>\n",
              "  </svg>\n",
              "      </button>\n",
              "      \n",
              "  <style>\n",
              "    .colab-df-container {\n",
              "      display:flex;\n",
              "      flex-wrap:wrap;\n",
              "      gap: 12px;\n",
              "    }\n",
              "\n",
              "    .colab-df-convert {\n",
              "      background-color: #E8F0FE;\n",
              "      border: none;\n",
              "      border-radius: 50%;\n",
              "      cursor: pointer;\n",
              "      display: none;\n",
              "      fill: #1967D2;\n",
              "      height: 32px;\n",
              "      padding: 0 0 0 0;\n",
              "      width: 32px;\n",
              "    }\n",
              "\n",
              "    .colab-df-convert:hover {\n",
              "      background-color: #E2EBFA;\n",
              "      box-shadow: 0px 1px 2px rgba(60, 64, 67, 0.3), 0px 1px 3px 1px rgba(60, 64, 67, 0.15);\n",
              "      fill: #174EA6;\n",
              "    }\n",
              "\n",
              "    [theme=dark] .colab-df-convert {\n",
              "      background-color: #3B4455;\n",
              "      fill: #D2E3FC;\n",
              "    }\n",
              "\n",
              "    [theme=dark] .colab-df-convert:hover {\n",
              "      background-color: #434B5C;\n",
              "      box-shadow: 0px 1px 3px 1px rgba(0, 0, 0, 0.15);\n",
              "      filter: drop-shadow(0px 1px 2px rgba(0, 0, 0, 0.3));\n",
              "      fill: #FFFFFF;\n",
              "    }\n",
              "  </style>\n",
              "\n",
              "      <script>\n",
              "        const buttonEl =\n",
              "          document.querySelector('#df-5d700b89-da97-4a09-afa1-10f9dafbe3d4 button.colab-df-convert');\n",
              "        buttonEl.style.display =\n",
              "          google.colab.kernel.accessAllowed ? 'block' : 'none';\n",
              "\n",
              "        async function convertToInteractive(key) {\n",
              "          const element = document.querySelector('#df-5d700b89-da97-4a09-afa1-10f9dafbe3d4');\n",
              "          const dataTable =\n",
              "            await google.colab.kernel.invokeFunction('convertToInteractive',\n",
              "                                                     [key], {});\n",
              "          if (!dataTable) return;\n",
              "\n",
              "          const docLinkHtml = 'Like what you see? Visit the ' +\n",
              "            '<a target=\"_blank\" href=https://colab.research.google.com/notebooks/data_table.ipynb>data table notebook</a>'\n",
              "            + ' to learn more about interactive tables.';\n",
              "          element.innerHTML = '';\n",
              "          dataTable['output_type'] = 'display_data';\n",
              "          await google.colab.output.renderOutput(dataTable, element);\n",
              "          const docLink = document.createElement('div');\n",
              "          docLink.innerHTML = docLinkHtml;\n",
              "          element.appendChild(docLink);\n",
              "        }\n",
              "      </script>\n",
              "    </div>\n",
              "  </div>\n",
              "  "
            ]
          },
          "metadata": {}
        }
      ]
    },
    {
      "cell_type": "markdown",
      "source": [
        "JaroWinkler:"
      ],
      "metadata": {
        "id": "bq4Z3Mpl1OAK"
      }
    },
    {
      "cell_type": "code",
      "source": [
        "df_JaroWinkler_distance = pd.DataFrame()"
      ],
      "metadata": {
        "id": "Z-7erE95Nw7t"
      },
      "execution_count": null,
      "outputs": []
    },
    {
      "cell_type": "code",
      "source": [
        "df_JaroWinkler_distance['N0_N1_distance'] = df_unsplittedTEST.apply(lambda x: textdistance.jaro_winkler.normalized_distance(x['text'], x['text_N1']), axis = 1)\n",
        "df_JaroWinkler_distance['N1_N2_distance'] = df_unsplittedTEST.apply(lambda x: textdistance.jaro_winkler.normalized_distance(x['text_N1'], x['text_N2']), axis = 1)\n",
        "df_JaroWinkler_distance['N2_N3_distance'] = df_unsplittedTEST.apply(lambda x: textdistance.jaro_winkler.normalized_distance(x['text_N2'], x['text_N3']), axis = 1)"
      ],
      "metadata": {
        "id": "VWTYvBb0NB8C"
      },
      "execution_count": null,
      "outputs": []
    },
    {
      "cell_type": "code",
      "source": [
        "#export the JaroWinkel results as a seperate df\n",
        "df_JaroWinkler_distance.to_csv('/content/drive/MyDrive/MYDATA/LexicalDistanceJW.csv', index=False)"
      ],
      "metadata": {
        "id": "fUuaWPmOOHpR"
      },
      "execution_count": null,
      "outputs": []
    },
    {
      "cell_type": "code",
      "source": [
        "display(df_JaroWinkler_distance.describe())\n",
        "#N0-N1: mean .140 (std .09)\n",
        "#N1-N2: mean .078 (std .04)\n",
        "#N2-N3: mean .054 (std .04)"
      ],
      "metadata": {
        "colab": {
          "base_uri": "https://localhost:8080/",
          "height": 300
        },
        "id": "EoAiQziGPBAW",
        "outputId": "b827f777-bc5e-4d34-a8ff-824a44eba043"
      },
      "execution_count": null,
      "outputs": [
        {
          "output_type": "display_data",
          "data": {
            "text/plain": [
              "       N0_N1_distance  N1_N2_distance  N2_N3_distance\n",
              "count    21999.000000    21999.000000    21999.000000\n",
              "mean         0.136735        0.077469        0.054566\n",
              "std          0.086920        0.042235        0.039830\n",
              "min          0.000000        0.000000        0.000000\n",
              "25%          0.103229        0.067676        0.000677\n",
              "50%          0.109021        0.088248        0.066254\n",
              "75%          0.154484        0.095623        0.086170\n",
              "max          0.630249        0.617957        0.611844"
            ],
            "text/html": [
              "\n",
              "  <div id=\"df-832603aa-f93d-4719-afbd-187a5cdc59e0\">\n",
              "    <div class=\"colab-df-container\">\n",
              "      <div>\n",
              "<style scoped>\n",
              "    .dataframe tbody tr th:only-of-type {\n",
              "        vertical-align: middle;\n",
              "    }\n",
              "\n",
              "    .dataframe tbody tr th {\n",
              "        vertical-align: top;\n",
              "    }\n",
              "\n",
              "    .dataframe thead th {\n",
              "        text-align: right;\n",
              "    }\n",
              "</style>\n",
              "<table border=\"1\" class=\"dataframe\">\n",
              "  <thead>\n",
              "    <tr style=\"text-align: right;\">\n",
              "      <th></th>\n",
              "      <th>N0_N1_distance</th>\n",
              "      <th>N1_N2_distance</th>\n",
              "      <th>N2_N3_distance</th>\n",
              "    </tr>\n",
              "  </thead>\n",
              "  <tbody>\n",
              "    <tr>\n",
              "      <th>count</th>\n",
              "      <td>21999.000000</td>\n",
              "      <td>21999.000000</td>\n",
              "      <td>21999.000000</td>\n",
              "    </tr>\n",
              "    <tr>\n",
              "      <th>mean</th>\n",
              "      <td>0.136735</td>\n",
              "      <td>0.077469</td>\n",
              "      <td>0.054566</td>\n",
              "    </tr>\n",
              "    <tr>\n",
              "      <th>std</th>\n",
              "      <td>0.086920</td>\n",
              "      <td>0.042235</td>\n",
              "      <td>0.039830</td>\n",
              "    </tr>\n",
              "    <tr>\n",
              "      <th>min</th>\n",
              "      <td>0.000000</td>\n",
              "      <td>0.000000</td>\n",
              "      <td>0.000000</td>\n",
              "    </tr>\n",
              "    <tr>\n",
              "      <th>25%</th>\n",
              "      <td>0.103229</td>\n",
              "      <td>0.067676</td>\n",
              "      <td>0.000677</td>\n",
              "    </tr>\n",
              "    <tr>\n",
              "      <th>50%</th>\n",
              "      <td>0.109021</td>\n",
              "      <td>0.088248</td>\n",
              "      <td>0.066254</td>\n",
              "    </tr>\n",
              "    <tr>\n",
              "      <th>75%</th>\n",
              "      <td>0.154484</td>\n",
              "      <td>0.095623</td>\n",
              "      <td>0.086170</td>\n",
              "    </tr>\n",
              "    <tr>\n",
              "      <th>max</th>\n",
              "      <td>0.630249</td>\n",
              "      <td>0.617957</td>\n",
              "      <td>0.611844</td>\n",
              "    </tr>\n",
              "  </tbody>\n",
              "</table>\n",
              "</div>\n",
              "      <button class=\"colab-df-convert\" onclick=\"convertToInteractive('df-832603aa-f93d-4719-afbd-187a5cdc59e0')\"\n",
              "              title=\"Convert this dataframe to an interactive table.\"\n",
              "              style=\"display:none;\">\n",
              "        \n",
              "  <svg xmlns=\"http://www.w3.org/2000/svg\" height=\"24px\"viewBox=\"0 0 24 24\"\n",
              "       width=\"24px\">\n",
              "    <path d=\"M0 0h24v24H0V0z\" fill=\"none\"/>\n",
              "    <path d=\"M18.56 5.44l.94 2.06.94-2.06 2.06-.94-2.06-.94-.94-2.06-.94 2.06-2.06.94zm-11 1L8.5 8.5l.94-2.06 2.06-.94-2.06-.94L8.5 2.5l-.94 2.06-2.06.94zm10 10l.94 2.06.94-2.06 2.06-.94-2.06-.94-.94-2.06-.94 2.06-2.06.94z\"/><path d=\"M17.41 7.96l-1.37-1.37c-.4-.4-.92-.59-1.43-.59-.52 0-1.04.2-1.43.59L10.3 9.45l-7.72 7.72c-.78.78-.78 2.05 0 2.83L4 21.41c.39.39.9.59 1.41.59.51 0 1.02-.2 1.41-.59l7.78-7.78 2.81-2.81c.8-.78.8-2.07 0-2.86zM5.41 20L4 18.59l7.72-7.72 1.47 1.35L5.41 20z\"/>\n",
              "  </svg>\n",
              "      </button>\n",
              "      \n",
              "  <style>\n",
              "    .colab-df-container {\n",
              "      display:flex;\n",
              "      flex-wrap:wrap;\n",
              "      gap: 12px;\n",
              "    }\n",
              "\n",
              "    .colab-df-convert {\n",
              "      background-color: #E8F0FE;\n",
              "      border: none;\n",
              "      border-radius: 50%;\n",
              "      cursor: pointer;\n",
              "      display: none;\n",
              "      fill: #1967D2;\n",
              "      height: 32px;\n",
              "      padding: 0 0 0 0;\n",
              "      width: 32px;\n",
              "    }\n",
              "\n",
              "    .colab-df-convert:hover {\n",
              "      background-color: #E2EBFA;\n",
              "      box-shadow: 0px 1px 2px rgba(60, 64, 67, 0.3), 0px 1px 3px 1px rgba(60, 64, 67, 0.15);\n",
              "      fill: #174EA6;\n",
              "    }\n",
              "\n",
              "    [theme=dark] .colab-df-convert {\n",
              "      background-color: #3B4455;\n",
              "      fill: #D2E3FC;\n",
              "    }\n",
              "\n",
              "    [theme=dark] .colab-df-convert:hover {\n",
              "      background-color: #434B5C;\n",
              "      box-shadow: 0px 1px 3px 1px rgba(0, 0, 0, 0.15);\n",
              "      filter: drop-shadow(0px 1px 2px rgba(0, 0, 0, 0.3));\n",
              "      fill: #FFFFFF;\n",
              "    }\n",
              "  </style>\n",
              "\n",
              "      <script>\n",
              "        const buttonEl =\n",
              "          document.querySelector('#df-832603aa-f93d-4719-afbd-187a5cdc59e0 button.colab-df-convert');\n",
              "        buttonEl.style.display =\n",
              "          google.colab.kernel.accessAllowed ? 'block' : 'none';\n",
              "\n",
              "        async function convertToInteractive(key) {\n",
              "          const element = document.querySelector('#df-832603aa-f93d-4719-afbd-187a5cdc59e0');\n",
              "          const dataTable =\n",
              "            await google.colab.kernel.invokeFunction('convertToInteractive',\n",
              "                                                     [key], {});\n",
              "          if (!dataTable) return;\n",
              "\n",
              "          const docLinkHtml = 'Like what you see? Visit the ' +\n",
              "            '<a target=\"_blank\" href=https://colab.research.google.com/notebooks/data_table.ipynb>data table notebook</a>'\n",
              "            + ' to learn more about interactive tables.';\n",
              "          element.innerHTML = '';\n",
              "          dataTable['output_type'] = 'display_data';\n",
              "          await google.colab.output.renderOutput(dataTable, element);\n",
              "          const docLink = document.createElement('div');\n",
              "          docLink.innerHTML = docLinkHtml;\n",
              "          element.appendChild(docLink);\n",
              "        }\n",
              "      </script>\n",
              "    </div>\n",
              "  </div>\n",
              "  "
            ]
          },
          "metadata": {}
        }
      ]
    },
    {
      "cell_type": "markdown",
      "source": [
        "Ratcliff Obershelp (sequence based)\n",
        "- Too slow"
      ],
      "metadata": {
        "id": "f-tpbPZRX8UW"
      }
    },
    {
      "cell_type": "code",
      "source": [
        "#ratcliff_obershelp\n",
        "#df_ratcliff_obershelp_distance = pd.DataFrame()"
      ],
      "metadata": {
        "id": "QI4r5tCLT5uO"
      },
      "execution_count": null,
      "outputs": []
    },
    {
      "cell_type": "code",
      "source": [
        "#df_ratcliff_obershelp_distance['N0_N1_distance'] = df_unsplittedTEST.apply(lambda x: textdistance.ratcliff_obershelp.normalized_distance(x['text'], x['text_N1']), axis = 1)\n",
        "#df_ratcliff_obershelp_distance['N1_N2_distance'] = df_unsplittedTEST.apply(lambda x: textdistance.ratcliff_obershelp.normalized_distance(x['text_N1'], x['text_N2']), axis = 1)\n",
        "#df_ratcliff_obershelp_distance['N2_N3_distance'] = df_unsplittedTEST.apply(lambda x: textdistance.ratcliff_obershelp.normalized_distance(x['text_N2'], x['text_N3']), axis = 1)"
      ],
      "metadata": {
        "id": "BSB8le6dXCv9"
      },
      "execution_count": null,
      "outputs": []
    },
    {
      "cell_type": "code",
      "source": [
        "#export the ratcliff_obershelp distance results as a seperate df\n",
        "#df_ratcliff_obershelp_distance.to_csv('/content/drive/MyDrive/MYDATA/LexicalDistanceRatcliffObershelp.csv', index=False)"
      ],
      "metadata": {
        "id": "lwL55pjEXWtU"
      },
      "execution_count": null,
      "outputs": []
    },
    {
      "cell_type": "markdown",
      "source": [
        "lcsstr (longest common substring)\n",
        "- too slow"
      ],
      "metadata": {
        "id": "G4x8Do8eYHvN"
      }
    },
    {
      "cell_type": "code",
      "source": [
        "#df_lcsstr_distance = pd.DataFrame()"
      ],
      "metadata": {
        "id": "0fYSUUhVYMHX"
      },
      "execution_count": null,
      "outputs": []
    },
    {
      "cell_type": "code",
      "source": [
        "#df_lcsstr_distance['N0_N1_distance'] = df_unsplittedTEST.apply(lambda x: textdistance.lcsstr.normalized_distance(x['text'], x['text_N1']), axis = 1)\n",
        "#df_lcsstr_distance['N1_N2_distance'] = df_unsplittedTEST.apply(lambda x: textdistance.lcsstr.normalized_distance(x['text_N1'], x['text_N2']), axis = 1)\n",
        "#df_lcsstr_distance['N2_N3_distance'] = df_unsplittedTEST.apply(lambda x: textdistance.lcsstr.normalized_distance(x['text_N2'], x['text_N3']), axis = 1)"
      ],
      "metadata": {
        "id": "YKifYChRYTEm"
      },
      "execution_count": null,
      "outputs": []
    },
    {
      "cell_type": "code",
      "source": [
        "#export the ratcliff_obershelp distance results as a seperate df\n",
        "#df_lcsstr_distance.to_csv('/content/drive/MyDrive/MYDATA/LexicalDistance_lcsstr.csv', index=False)"
      ],
      "metadata": {
        "id": "Oa8w6fNLYlDf"
      },
      "execution_count": null,
      "outputs": []
    },
    {
      "cell_type": "markdown",
      "source": [
        "levenshtein distance (edit-based)\n",
        "- too slow"
      ],
      "metadata": {
        "id": "GetzQElJZkzK"
      }
    },
    {
      "cell_type": "code",
      "source": [
        "#df_levenshtein_distance = pd.DataFrame()"
      ],
      "metadata": {
        "id": "oZVPpxEoZnU0"
      },
      "execution_count": null,
      "outputs": []
    },
    {
      "cell_type": "code",
      "source": [
        "#df_levenshtein_distance['N0_N1_distance'] = df_unsplittedTEST.apply(lambda x: textdistance.levenshtein.normalized_distance(x['text'], x['text_N1']), axis = 1)\n",
        "#df_levenshtein_distance['N1_N2_distance'] = df_unsplittedTEST.apply(lambda x: textdistance.levenshtein.normalized_distance(x['text_N1'], x['text_N2']), axis = 1)\n",
        "#df_levenshtein_distance['N2_N3_distance'] = df_unsplittedTEST.apply(lambda x: textdistance.levenshtein.normalized_distance(x['text_N2'], x['text_N3']), axis = 1)"
      ],
      "metadata": {
        "id": "_sBuw8NBZwvU"
      },
      "execution_count": null,
      "outputs": []
    },
    {
      "cell_type": "code",
      "source": [
        "#export the levenshtein distance results as a seperate df\n",
        "#df_levenshtein_distance.to_csv('/content/drive/MyDrive/MYDATA/LexicalDistance_levenshtein.csv', index=False)"
      ],
      "metadata": {
        "id": "xCMoEKNFZ8t4"
      },
      "execution_count": null,
      "outputs": []
    },
    {
      "cell_type": "markdown",
      "source": [
        "**Plotting.**\n",
        "- Hamming distance (normalized)\n",
        "- Jaro Winkler distance (normalized)"
      ],
      "metadata": {
        "id": "NAvtmOmab_BQ"
      }
    },
    {
      "cell_type": "code",
      "source": [
        "import matplotlib.pyplot as plt\n",
        "\n",
        "# line 1 points\n",
        "x1 = [1,2,3]\n",
        "y1 = [.147518,.103287,.069894]\n",
        "# plotting the line 1 points \n",
        "plt.plot(x1, y1, label = \"Hamming Distance\")\n",
        "# line 2 points\n",
        "x2 = [1,2,3]\n",
        "y2 = [.140037,.078046,.054413]\n",
        "# plotting the line 2 points \n",
        "plt.plot(x2, y2, label = \"Jaro-Winkler Distance\")\n",
        "plt.xlabel('back-translation')\n",
        "# Set the y axis label of the current axis.\n",
        "plt.ylabel('Mean of Doc Distance (normalized)')\n",
        "# Set a title of the current axes.\n",
        "plt.title('Hamming and JaroWinkler for lexixal distance between backtranslation levels')\n",
        "# show a legend on the plot\n",
        "plt.legend()\n",
        "# Display a figure.\n",
        "plt.show()"
      ],
      "metadata": {
        "colab": {
          "base_uri": "https://localhost:8080/",
          "height": 295
        },
        "id": "-Hz-WSg0Q5x_",
        "outputId": "375e670f-0f66-41ae-ffb0-86b21d3eb50e"
      },
      "execution_count": null,
      "outputs": [
        {
          "output_type": "display_data",
          "data": {
            "text/plain": [
              "<Figure size 432x288 with 1 Axes>"
            ],
            "image/png": "[encoded data removed]"
          },
          "metadata": {
            "needs_background": "light"
          }
        }
      ]
    }
  ]
}