{
  "nbformat": 4,
  "nbformat_minor": 0,
  "metadata": {
    "colab": {
      "provenance": [],
      "collapsed_sections": [
        "blCq3vm8fI6v",
        "khuXrH1G7IVV",
        "05tKoDzYq_hK",
        "K116PYZLf-w5",
        "AUy5JcziUYiL",
        "n5YWKg0EmPEw",
        "hJ_SPTKkl0DT",
        "aPpvkexUwMc-",
        "JZfkiu3jnf4U",
        "WtSWRwNtyQgc",
        "HGEb4RUW3mMu",
        "C2d9v-DeEURN",
        "cZZ-izB3H2lv",
        "U4WA6MnL9JOv",
        "htSm0Iz9O6wR"
      ],
      "machine_shape": "hm",
      "mount_file_id": "1jEMcRRkbdJsXMYmamZmLq6RntpiMjRLC",
      "authorship_tag": "ABX9TyNdOYlbfctCkiAf5+EPtOkJ",
      "include_colab_link": true
    },
    "kernelspec": {
      "name": "python3",
      "display_name": "Python 3"
    },
    "language_info": {
      "name": "python"
    },
    "gpuClass": "standard"
  },
  "cells": [
    {
      "cell_type": "markdown",
      "metadata": {
        "id": "view-in-github",
        "colab_type": "text"
      },
      "source": [
        "<a href=\"https://colab.research.google.com/github/StevenPeutz/Disinformation-NLP/blob/master/DATA/Compile_DataSet.ipynb\" target=\"_parent\"><img src=\"https://colab.research.google.com/assets/colab-badge.svg\" alt=\"Open In Colab\"/></a>"
      ]
    },
    {
      "cell_type": "markdown",
      "source": [
        "# Dataset Compilation.\n",
        "\n",
        "This Notebook contains the code to import six datasets containing either disinformation, misinformation fake news or propaganda, true news articles or other non-false texts, or a combination of these.  \n",
        "\n",
        "While this study has a focus on politically motivated disinformation (i.e the bulk of texts are deliberately misleading or false statement with certain political goals), texts that are false or misleading without deliberate intent are also included to more closely mimic the the variety encoutered on e.g. social media platforms in real life).  \n",
        "<br>\n",
        "\n",
        "<b>Dataset compilation (section 1 - 3):</b> \n",
        "\n",
        "Compiling different datasets as done in this study requires carefull formatting to make sure all sets can be combined as one. Sections 1 - 3 read in to the six datasets from csv, create a consistent format, drop duplicates and combine them into a single consistent +73k dataset.  \n",
        "<br> \n",
        "\n",
        "| Name                          | Rows   | Size (gzipped) | Storage | Download link (use raw version if directly in notebook)                                                   |\n",
        "| -----------------------------|-------|----------------|---------| -------------------------------------------------------------------------------------------------------------|\n",
        "| fake_train                    | 20.387| 38.4MB         | Github  | https://github.com/StevenPeutz/Masterthesis-Disinformation-NLP/blob/master/DATA/21k_Chendra/fake_train.csv.gz |\n",
        "| fake_or_real_news             | 6.060 | 11.9MB         | Github  | https://github.com/StevenPeutz/Masterthesis-Disinformation-NLP/blob/master/DATA/6k_Jillani/fake_or_real_news.csv.gz |\n",
        "| data                          | 6.241 | 4.7MB          | Github  | https://github.com/StevenPeutz/Masterthesis-Disinformation-NLP/blob/master/DATA/EUvsDisinfo.eu/data.csv.gz |\n",
        "| monkeypox                     | 4.000 | 7.8MB          | Github  | https://github.com/StevenPeutz/Masterthesis-Disinformation-NLP/blob/master/DATA/MonkeyPoxMisinfo/monkeypox.csv.gz |\n",
        "| Fake                          | 20.000| 23.7MB         | Github  | https://github.com/StevenPeutz/Masterthesis-Disinformation-NLP/blob/master/DATA/UVIC-ISOT/Fake.csv.gz |\n",
        "| True                          | 20.000| 18.7MB         | Github  | https://github.com/StevenPeutz/Masterthesis-Disinformation-NLP/blob/master/DATA/UVIC-ISOT/True.csv.gz |\n",
        "| CompiledDisinfo_74k<sup>1  </sup>          | 73.900| 75.1MB         | Github  | https://github.com/StevenPeutz/Masterthesis-Disinformation-NLP/blob/master/DATA/CompiledDisinfo_74k/CompiledDisinfo_74k.csv.gz | \n",
        "<br>\n",
        "\n",
        "<sup>1  </sup> *'CompiledDisinfo_74K' is not a seperately sourced dataset, but is the compiled version of the above 6 datasets. This can be directly downloaded form the given link).*\n",
        "\n",
        "<br><br>\n",
        "\n",
        "\n",
        "<b>Minimal cleaning (section 4):</b>  \n",
        "In order to keep our texts as close to the raw data as possible, we will limit ourselves to only manipulating substrings that can be directly used by the model to differentiate disinformation from true articles due to a lack in representivity in true/false sets (e.g. the \"reuters\" prefix that is common in true labeled articles scraped from reuters.). \n",
        "<br><br>\n",
        "<b>EDA  (section 7):</b>  \n",
        "While not the focus of this study, I have added a quick simple EDA by creating the most obvious but practically interesting linguistic features to get a rough understanding of linguistic/stylistic differences between disinformation and regular articles (e.g. average sentence lengths, number of hyperlinks, hashtag usage, stopword counts etc).\n",
        "<br><br>\n",
        "<b>Prepping for translation  (section 8-10):</b>  \n",
        "This study needed a 30% test set (referred to as testN0) and a backtranslated version of that exact testset (testN1) and another backtranslated version of that one (now called testN2) until 'testN3'. This would allow me to compare diffent architectures on their AUC decay as noise increases due the the backtranslation inaccuracies.\n",
        "Secondly, text were xut short to 2800 characters as google translate would sporadically block backtranslation of texts around 3000 characters and above (while messaging that 3900 characters was the limit).\n",
        "<br><br>\n",
        "<b>Three levels of Backtranslation using gooogle translate API (section 11):</b>  \n",
        "Google translate was chosen for this, as this is the machine translation service worldwide, especially for relatively short texts that are typical on social media. Given the size of our dataset a batching system (a total of 50 splits) had to created in order to prevent timeouts by google translate. The test set to be used later is exported to google drive storage (as csv) in section 12.  This finalized testset can also be found directly in this github)  \n",
        "<br>\n",
        "<br>\n",
        "<br>"
      ],
      "metadata": {
        "id": "pGMGZDs7hJ95"
      }
    },
    {
      "cell_type": "markdown",
      "source": [
        "\n",
        "\n",
        "---\n",
        "\n",
        "\n",
        "\n",
        "---\n",
        "\n"
      ],
      "metadata": {
        "id": "VOuX6Zb7uPGh"
      }
    },
    {
      "cell_type": "markdown",
      "source": [
        "# 0. Imports and GDrive connection ('mounting')"
      ],
      "metadata": {
        "id": "blCq3vm8fI6v"
      }
    },
    {
      "cell_type": "code",
      "source": [
        "import os\n",
        "import pandas as pd\n",
        "import numpy as np\n",
        "import re\n",
        "import matplotlib.pyplot as pyplot"
      ],
      "metadata": {
        "id": "uLYWhTAcdErZ"
      },
      "execution_count": null,
      "outputs": []
    },
    {
      "cell_type": "code",
      "source": [
        "from wordcloud import STOPWORDS\n",
        "from google.colab import drive\n",
        "from sklearn.model_selection import train_test_split"
      ],
      "metadata": {
        "id": "MBegUWjYaAaA"
      },
      "execution_count": null,
      "outputs": []
    },
    {
      "cell_type": "code",
      "source": [
        "#nltk (for stemming)\n",
        "import nltk\n",
        "from nltk.stem import PorterStemmer\n",
        "from nltk.tokenize import word_tokenize\n",
        "nltk.download('punkt')"
      ],
      "metadata": {
        "colab": {
          "base_uri": "https://localhost:8080/"
        },
        "id": "4GBNy7bDEkU6",
        "outputId": "a2d9cb56-413c-4731-d1df-173514a17320"
      },
      "execution_count": null,
      "outputs": [
        {
          "output_type": "stream",
          "name": "stderr",
          "text": [
            "[nltk_data] Downloading package punkt to /root/nltk_data...\n",
            "[nltk_data]   Unzipping tokenizers/punkt.zip.\n"
          ]
        },
        {
          "output_type": "execute_result",
          "data": {
            "text/plain": [
              "True"
            ]
          },
          "metadata": {},
          "execution_count": 6
        }
      ]
    },
    {
      "cell_type": "code",
      "source": [
        "drive.mount('/content/drive')\n",
        "#uncomment the above to allow exports to google drive. This is not a requirement in this version."
      ],
      "metadata": {
        "colab": {
          "base_uri": "https://localhost:8080/"
        },
        "id": "fhOX2vi_40U_",
        "outputId": "32f342a2-422a-4524-8fe0-db55d9013721"
      },
      "execution_count": null,
      "outputs": [
        {
          "output_type": "stream",
          "name": "stdout",
          "text": [
            "Mounted at /content/drive\n"
          ]
        }
      ]
    },
    {
      "cell_type": "code",
      "source": [
        "!pip install googletrans==3.1.0a0\n",
        "# version hardcoded because of an error in the latest version..\n",
        "from googletrans import Translator"
      ],
      "metadata": {
        "id": "2CkSCzw4n33j",
        "colab": {
          "base_uri": "https://localhost:8080/"
        },
        "outputId": "985de8e2-c4da-4697-8836-87734b8b8bfe"
      },
      "execution_count": null,
      "outputs": [
        {
          "output_type": "stream",
          "name": "stdout",
          "text": [
            "Looking in indexes: https://pypi.org/simple, https://us-python.pkg.dev/colab-wheels/public/simple/\n",
            "Collecting googletrans==3.1.0a0\n",
            "  Downloading googletrans-3.1.0a0.tar.gz (19 kB)\n",
            "  Preparing metadata (setup.py) ... \u001b[?25l\u001b[?25hdone\n",
            "Collecting httpx==0.13.3\n",
            "  Downloading httpx-0.13.3-py3-none-any.whl (55 kB)\n",
            "\u001b[2K     \u001b[90m━━━━━━━━━━━━━━━━━━━━━━━━━━━━━━━━━━━━━━━━\u001b[0m \u001b[32m55.1/55.1 KB\u001b[0m \u001b[31m2.1 MB/s\u001b[0m eta \u001b[36m0:00:00\u001b[0m\n",
            "\u001b[?25hRequirement already satisfied: certifi in /usr/local/lib/python3.9/dist-packages (from httpx==0.13.3->googletrans==3.1.0a0) (2022.12.7)\n",
            "Collecting hstspreload\n",
            "  Downloading hstspreload-2023.1.1-py3-none-any.whl (1.5 MB)\n",
            "\u001b[2K     \u001b[90m━━━━━━━━━━━━━━━━━━━━━━━━━━━━━━━━━━━━━━━━\u001b[0m \u001b[32m1.5/1.5 MB\u001b[0m \u001b[31m23.0 MB/s\u001b[0m eta \u001b[36m0:00:00\u001b[0m\n",
            "\u001b[?25hCollecting rfc3986<2,>=1.3\n",
            "  Downloading rfc3986-1.5.0-py2.py3-none-any.whl (31 kB)\n",
            "Collecting chardet==3.*\n",
            "  Downloading chardet-3.0.4-py2.py3-none-any.whl (133 kB)\n",
            "\u001b[2K     \u001b[90m━━━━━━━━━━━━━━━━━━━━━━━━━━━━━━━━━━━━━━\u001b[0m \u001b[32m133.4/133.4 KB\u001b[0m \u001b[31m11.0 MB/s\u001b[0m eta \u001b[36m0:00:00\u001b[0m\n",
            "\u001b[?25hCollecting sniffio\n",
            "  Downloading sniffio-1.3.0-py3-none-any.whl (10 kB)\n",
            "Requirement already satisfied: idna==2.* in /usr/local/lib/python3.9/dist-packages (from httpx==0.13.3->googletrans==3.1.0a0) (2.10)\n",
            "Collecting httpcore==0.9.*\n",
            "  Downloading httpcore-0.9.1-py3-none-any.whl (42 kB)\n",
            "\u001b[2K     \u001b[90m━━━━━━━━━━━━━━━━━━━━━━━━━━━━━━━━━━━━━━━━\u001b[0m \u001b[32m42.6/42.6 KB\u001b[0m \u001b[31m4.8 MB/s\u001b[0m eta \u001b[36m0:00:00\u001b[0m\n",
            "\u001b[?25hCollecting h11<0.10,>=0.8\n",
            "  Downloading h11-0.9.0-py2.py3-none-any.whl (53 kB)\n",
            "\u001b[2K     \u001b[90m━━━━━━━━━━━━━━━━━━━━━━━━━━━━━━━━━━━━━━━━\u001b[0m \u001b[32m53.6/53.6 KB\u001b[0m \u001b[31m6.2 MB/s\u001b[0m eta \u001b[36m0:00:00\u001b[0m\n",
            "\u001b[?25hCollecting h2==3.*\n",
            "  Downloading h2-3.2.0-py2.py3-none-any.whl (65 kB)\n",
            "\u001b[2K     \u001b[90m━━━━━━━━━━━━━━━━━━━━━━━━━━━━━━━━━━━━━━━━\u001b[0m \u001b[32m65.0/65.0 KB\u001b[0m \u001b[31m6.7 MB/s\u001b[0m eta \u001b[36m0:00:00\u001b[0m\n",
            "\u001b[?25hCollecting hyperframe<6,>=5.2.0\n",
            "  Downloading hyperframe-5.2.0-py2.py3-none-any.whl (12 kB)\n",
            "Collecting hpack<4,>=3.0\n",
            "  Downloading hpack-3.0.0-py2.py3-none-any.whl (38 kB)\n",
            "Building wheels for collected packages: googletrans\n",
            "  Building wheel for googletrans (setup.py) ... \u001b[?25l\u001b[?25hdone\n",
            "  Created wheel for googletrans: filename=googletrans-3.1.0a0-py3-none-any.whl size=16368 sha256=271102e9e775ac19832d5f650cb10aa0fbb1cda7c8de211a13283acb9d479d52\n",
            "  Stored in directory: /root/.cache/pip/wheels/ae/e1/6c/5137bc3f35aa130deea71575e165cc4f4f0680a88f3d90a636\n",
            "Successfully built googletrans\n",
            "Installing collected packages: rfc3986, hyperframe, hpack, h11, chardet, sniffio, hstspreload, h2, httpcore, httpx, googletrans\n",
            "  Attempting uninstall: chardet\n",
            "    Found existing installation: chardet 4.0.0\n",
            "    Uninstalling chardet-4.0.0:\n",
            "      Successfully uninstalled chardet-4.0.0\n",
            "Successfully installed chardet-3.0.4 googletrans-3.1.0a0 h11-0.9.0 h2-3.2.0 hpack-3.0.0 hstspreload-2023.1.1 httpcore-0.9.1 httpx-0.13.3 hyperframe-5.2.0 rfc3986-1.5.0 sniffio-1.3.0\n"
          ]
        }
      ]
    },
    {
      "cell_type": "markdown",
      "source": [
        "# 1. Reading in the datasets (true & false)"
      ],
      "metadata": {
        "id": "khuXrH1G7IVV"
      }
    },
    {
      "cell_type": "code",
      "source": [
        "#datasets with political disinfo, fake news and regular news\n",
        "path1 = 'https://raw.githubusercontent.com/StevenPeutz/Masterthesis-Disinformation-NLP/master/DATA/UVIC-ISOT/Fake.csv.gz' #FAKE  University of Victoria #ISOT Ahmed H, Traore I, Saad S.  UVIC-ISOT\n",
        "path2 = 'https://raw.githubusercontent.com/StevenPeutz/Masterthesis-Disinformation-NLP/master/DATA/21k_Chendra/fake_train.csv.gz' #FAKE&TRUE  #20k dataset without further description\n",
        "path3 = 'https://raw.githubusercontent.com/StevenPeutz/Masterthesis-Disinformation-NLP/master/DATA/6k_Jillani/fake_or_real_news.csv.gz'#FAKE&TRUE  #same as RALUCACHITIC set, 6060 balanced.\n",
        "path4 = 'https://raw.githubusercontent.com/StevenPeutz/Masterthesis-Disinformation-NLP/master/DATA/EUvsDisinfo.eu/data.csv.gz' #FAKE  #EUvsDisinfo dataset (scraped) 2016-2020 6k\n",
        "path5 = 'https://raw.githubusercontent.com/StevenPeutz/Masterthesis-Disinformation-NLP/master/DATA/UVIC-ISOT/True.csv.gz' #TRUE. #ISOT Ahmed H, Traore I, Saad S. dataset of ±21k UVIC-ISOT\n",
        "\n",
        "#--- extra: chinese covid (dis)info ('CHECKED-project):\n",
        "path6 = 'https://raw.githubusercontent.com/StevenPeutz/Masterthesis-Disinformation-NLP/master/DATA/MonkeyPoxMisinfo/monkeypox.csv.gz' #mixed twitter, monkeypox (factchecked)\n"
      ],
      "metadata": {
        "id": "xCHBy4Mh2dUr"
      },
      "execution_count": null,
      "outputs": []
    },
    {
      "cell_type": "code",
      "source": [
        "#the fake/true nomenclature here describes the set to be, not the current status (i.e. fake and true mixed sets are named both true and fake at this stage)\n",
        "\n",
        "#fake:\n",
        "df_fake1 = pd.read_csv(path1, compression='gzip')\n",
        "df_fake2 = pd.read_csv(path4, compression='gzip')\n",
        "#true:\n",
        "df_true1 = pd.read_csv(path5, compression='gzip')\n",
        "#mixed:\n",
        "df_mixed1 = pd.read_csv(path2, compression='gzip')\n",
        "df_mixed2 = pd.read_csv(path3, compression='gzip')\n",
        "df_mixed3 = pd.read_csv(path6, compression='gzip')\n",
        "\n",
        "#df_mixed_copies (needed for formatting function for now)\n",
        "df_mixed1B = pd.read_csv(path2, compression='gzip')\n",
        "df_mixed2B = pd.read_csv(path3, compression='gzip')\n",
        "df_mixed3B = pd.read_csv(path6, compression='gzip')"
      ],
      "metadata": {
        "id": "VTSkiZR76Hgu"
      },
      "execution_count": null,
      "outputs": []
    },
    {
      "cell_type": "code",
      "source": [
        "print('fake1 shape: {}'.format(df_fake1.shape)) # 23.481, 4\n",
        "print('fake2 shape: {}'.format(df_fake2.shape)) # 7.369, 36\n",
        "\n",
        "print('true1 shape: {}'.format(df_true1.shape)) # 21.417, 4\n",
        "\n",
        "print('mixed1 shape: {}'.format(df_mixed1.shape)) # 20.800,5\n",
        "print('mixed2 shape: {}'.format(df_mixed2.shape)) # 6.335, 4\n",
        "print('mixed3 shape: {}'.format(df_mixed3.shape)) # 5.787, 19"
      ],
      "metadata": {
        "colab": {
          "base_uri": "https://localhost:8080/"
        },
        "id": "SRp7ZLZq5hGd",
        "outputId": "7504ffd3-53a6-4107-8a38-9044e830dcb7"
      },
      "execution_count": null,
      "outputs": [
        {
          "output_type": "stream",
          "name": "stdout",
          "text": [
            "fake1 shape: (23481, 4)\n",
            "fake2 shape: (7369, 37)\n",
            "true1 shape: (21417, 4)\n",
            "mixed1 shape: (20800, 5)\n",
            "mixed2 shape: (6335, 4)\n",
            "mixed3 shape: (5787, 19)\n"
          ]
        }
      ]
    },
    {
      "cell_type": "code",
      "source": [
        "#one manual tweak for dataset 4 needed for the function to work on all 4\n",
        "df_fake2.drop('text', axis=1, inplace = True)\n",
        "df_fake2.rename(columns = {'claim_reviewed':'text'}, inplace = True)\n",
        "df_mixed3.rename(columns = {'binary_class':'label'}, inplace = True)\n",
        "df_mixed3B.rename(columns = {'binary_class':'label'}, inplace = True)"
      ],
      "metadata": {
        "id": "KJf-hQc4b10n"
      },
      "execution_count": null,
      "outputs": []
    },
    {
      "cell_type": "markdown",
      "source": [
        "# 2. One format for all dataset\n",
        "\n",
        "\n",
        "\n",
        "\n",
        "Let's start without reading the files (so no loop needed yet) and just doing the removal of empties and deduplication. TO be exact:\n",
        "\n",
        "\n",
        "1.   drop rows that have labels for non corresponding truth value (so that we have truth and false seperates prior to joining)\n",
        "2.   drop each column that is not the text column\n",
        "3.   drop all empties (including 'fake empties')\n",
        "4.   drop duplicates\n",
        "5.   add label column\n",
        "6.   return the 'new' dataset.\n",
        "\n",
        "\n",
        "\n"
      ],
      "metadata": {
        "id": "05tKoDzYq_hK"
      }
    },
    {
      "cell_type": "code",
      "source": [
        "def removeEmpties_Deduplicate(x,tf_num, tf_term):\n",
        "  ''' trying a function to do the repetitive work\n",
        "  purpose:\n",
        "  This function is to deduplicate as well as separate true from false in the labeled datasets that are our source data.\n",
        "  This allows me to use a single function on the 7 difference datasources used, and have deduplicated and compatible dataframes as output\n",
        "  seperated for true and false values. To be combined to the single overal dataset after further cleaning.\n",
        "  input:\n",
        "  x : the dataframe to work with\n",
        "  tf_nm : truth/false numerical, 0 for the 'true' labels, 1 for the disinfo labels.\n",
        "  tf_term : truth/false in terms, 'TRUE' for the 'true' labels, 'FAKE' for the disinfo labels.\n",
        "  output:\n",
        "  dataframe x\n",
        "  '''\n",
        "  #remove the unwanted rows (true or fake) depending on set (based on label value == 0 or 1 under tf_num variable)\n",
        "  #doing the same with those were true or false is code in text ('REAL' or 'FAKE', with tf_term)\n",
        "  try:\n",
        "    x.drop(x.index[x['label'] == tf_num], inplace=True)\n",
        "    x.drop(x.index[x['label'] == tf_term], inplace=True)\n",
        "  \n",
        "    \n",
        "    #x.rename(columns = {'claim_reviewed':'text'}, inplace = True). #not possible in combination with try except (and double 'text' column names..)\n",
        "  except:\n",
        "    print('(step to be skipped as the change is not needed for this dataset)')\n",
        "  finally:\n",
        "    #remove unneeded colums (so as filter..)\n",
        "    columnkeeper = ['text']\n",
        "    x = x.drop(x.columns.difference(columnkeeper), axis=1)\n",
        "    #replace space empties with recognized empties, then drop all empties\n",
        "    x['text'].replace(' ', np.nan, inplace=True)\n",
        "    x.dropna(\n",
        "      axis=0,\n",
        "      how='any',\n",
        "      subset=None,\n",
        "      inplace=True)\n",
        "    #remove duplicates with pandas function\n",
        "    x = x.drop_duplicates(subset=[\"text\"], keep='first')\n",
        "    #add column with true of false statement (1- value to reverse code..)\n",
        "    x['label'] = (1-tf_num)\n",
        "    print(' > This dataset has shape:{}'.format(x.shape))\n",
        "    return x "
      ],
      "metadata": {
        "id": "wOYXAOQXx6dK"
      },
      "execution_count": null,
      "outputs": []
    },
    {
      "cell_type": "markdown",
      "source": [
        "## Applying the formatting function on all sets:\n",
        "\n",
        "\n"
      ],
      "metadata": {
        "id": "Fkngy4RqJxSk"
      }
    },
    {
      "cell_type": "code",
      "source": [
        "DatasetList_FAKEandMIXED = [df_fake1, df_fake2, df_mixed1, df_mixed2, df_mixed3]\n",
        "DatasetList_TRUEandMIXED = [df_true1, df_mixed1B, df_mixed2B, df_mixed3B]\n",
        "#one list is also possible without any changes needed.. but not this is better for readability\n",
        "\n",
        "List_DataSets = []\n",
        "#List_TRUE =[]\n",
        "\n",
        "#disinformation sets:\n",
        "print('--- Running the prep function on the disinfo + mixed sets:')\n",
        "for i in DatasetList_FAKEandMIXED:\n",
        "   List_DataSets.append(removeEmpties_Deduplicate(i, 0, 'REAL' ))\n",
        "   #DROPPING rows with value 0 or 'real', to retain only disinfo.\n",
        "\n",
        "#true news/info sets:\n",
        "print('--- Running the prep function on the true + mixed sets:')\n",
        "for i in DatasetList_TRUEandMIXED:\n",
        "  List_DataSets.append(removeEmpties_Deduplicate(i, 1, 'FAKE' ))\n",
        "   #DROPPING rows with value 1 or 'fake', to retain only true.\n",
        "\n",
        "\n",
        "#QUESTION: check if there arent rows that are not dropped that should be dropped in the above..\n",
        "print('--- cleaning, now running through shape of all list objects (df) ---')  "
      ],
      "metadata": {
        "colab": {
          "base_uri": "https://localhost:8080/"
        },
        "outputId": "788e3c2b-5aa7-4324-b3e9-5fbe9e37dad4",
        "id": "kwZ86lpOqrPH"
      },
      "execution_count": null,
      "outputs": [
        {
          "output_type": "stream",
          "name": "stdout",
          "text": [
            "--- Running the prep function on the disinfo + mixed sets:\n",
            "(step to be skipped as the change is not needed for this dataset)\n",
            " > This dataset has shape:(17454, 2)\n",
            "(step to be skipped as the change is not needed for this dataset)\n",
            " > This dataset has shape:(6043, 2)\n",
            " > This dataset has shape:(9998, 2)\n",
            " > This dataset has shape:(3070, 2)\n",
            " > This dataset has shape:(1035, 2)\n",
            "--- Running the prep function on the true + mixed sets:\n",
            "(step to be skipped as the change is not needed for this dataset)\n",
            " > This dataset has shape:(21191, 2)\n",
            " > This dataset has shape:(10387, 2)\n",
            " > This dataset has shape:(2989, 2)\n",
            " > This dataset has shape:(4231, 2)\n",
            "--- cleaning, now running through shape of all list objects (df) ---\n"
          ]
        }
      ]
    },
    {
      "cell_type": "markdown",
      "source": [
        "# 3. Combine all dataframes into one labeled dataframe.\n",
        "\n",
        "*   combine ('union' in SQL terms, 'concat' in python)\n",
        "*   trim trailing and starting whitespace (just to be safe)\n",
        "*   drop duplicates (as after union new duplicates are possible)\n",
        "\n",
        "\n"
      ],
      "metadata": {
        "id": "K116PYZLf-w5"
      }
    },
    {
      "cell_type": "code",
      "source": [
        "#creating a 'union' of all the dataframes (concat)\n",
        "df_unionedlist = pd.concat(List_DataSets, ignore_index=True)\n",
        "\n",
        "#trimming before checking for duplicates (this helps us find 2486 dupes instead of 2473)\n",
        "df_unionedlist['text'] = df_unionedlist['text'].str.strip()"
      ],
      "metadata": {
        "id": "CnYcjUksxFhK"
      },
      "execution_count": null,
      "outputs": []
    },
    {
      "cell_type": "code",
      "source": [
        "#checking for empties in the text column.\n",
        "df_unionedlist['text'].isna().sum() #after function, all are zero :)\n",
        "#repeat this after removing suffixes and prefixes!"
      ],
      "metadata": {
        "colab": {
          "base_uri": "https://localhost:8080/"
        },
        "id": "ELbcb6UU6SSK",
        "outputId": "7cb6e1ba-3313-4138-a0ea-7f4200468a51"
      },
      "execution_count": null,
      "outputs": [
        {
          "output_type": "execute_result",
          "data": {
            "text/plain": [
              "0"
            ]
          },
          "metadata": {},
          "execution_count": 11
        }
      ]
    },
    {
      "cell_type": "code",
      "source": [
        "dupes = df_unionedlist[df_unionedlist.duplicated(subset = 'text', keep = 'first')]\n",
        "dupes.shape #2487 duplicates\n",
        "#having done the trimming before checking for duplicates helped us find 2487 dupes instead of 2475"
      ],
      "metadata": {
        "colab": {
          "base_uri": "https://localhost:8080/"
        },
        "id": "FYOR2lVaaX1p",
        "outputId": "9985c943-82c9-4659-dab6-b1e600690929"
      },
      "execution_count": null,
      "outputs": [
        {
          "output_type": "execute_result",
          "data": {
            "text/plain": [
              "(2487, 2)"
            ]
          },
          "metadata": {},
          "execution_count": 12
        }
      ]
    },
    {
      "cell_type": "code",
      "source": [
        "#dropping the dupes found above (if correctly done, there should be 71132-2487= 68645 unique rows left)\n",
        "df_unionedlist.drop_duplicates(subset='text', keep='first', inplace=True) # ignore_index=False)\n",
        "df_unionedlist.shape"
      ],
      "metadata": {
        "colab": {
          "base_uri": "https://localhost:8080/"
        },
        "id": "6pTpVanza48o",
        "outputId": "7e59117a-4608-404a-cc90-e097a27a599e"
      },
      "execution_count": null,
      "outputs": [
        {
          "output_type": "execute_result",
          "data": {
            "text/plain": [
              "(73911, 2)"
            ]
          },
          "metadata": {},
          "execution_count": 13
        }
      ]
    },
    {
      "cell_type": "markdown",
      "source": [
        "# 4. Removing the source prefixes and other suffixes\n",
        "\n",
        "(e.g. 'photo by... Feature.. and 'WASHINGTON (Reuters)..)\n"
      ],
      "metadata": {
        "id": "AUy5JcziUYiL"
      }
    },
    {
      "cell_type": "code",
      "source": [
        "#make a working copy of the df before making changes to the data\n",
        "df_full = df_unionedlist"
      ],
      "metadata": {
        "id": "5kbYIPIjdny0"
      },
      "execution_count": null,
      "outputs": []
    },
    {
      "cell_type": "code",
      "source": [
        "#removing all the suffixes by deleting everything right of ' Photo by.. '\n",
        "#df_unionof4sets['text'] = df_unionof4sets['text'].str.split('Photo by'|'Featured image').str[0]\n",
        "df_full['text'] = df_full['text'].apply(lambda x: re.split(r'Photo by|Featured image', x)[0])"
      ],
      "metadata": {
        "id": "pBOvSWZbUkL7"
      },
      "execution_count": null,
      "outputs": []
    },
    {
      "cell_type": "code",
      "source": [
        "#df_unionof3sets['text'] = df_unionof3sets['text'].apply(lambda x: re.split(r'WASHINGTON \\(Reuters\\) - |WEST PALM BEACH, Fla \\(Reuters\\) - ', x)[-1])\n",
        "df_full['text'] = df_full['text'].apply(lambda x: re.split(r' - |\\(CNN\\)', x)[-1])"
      ],
      "metadata": {
        "id": "nSWbPv21HPZI"
      },
      "execution_count": null,
      "outputs": []
    },
    {
      "cell_type": "code",
      "source": [
        "#this can be done better (like with a list od city names followed by a ' - '.. instead of only washsington or somehting)\n",
        "#another option woould be to delete everything before the - IF the - is within the first 20 chars of the doc..\n",
        "\n",
        "df_full.sample(5)"
      ],
      "metadata": {
        "id": "HHN-nd9iU35C",
        "colab": {
          "base_uri": "https://localhost:8080/",
          "height": 206
        },
        "outputId": "20e5a8f7-f4df-46ab-abfe-804330c7d4d6"
      },
      "execution_count": null,
      "outputs": [
        {
          "output_type": "execute_result",
          "data": {
            "text/plain": [
              "                                                    text  label\n",
              "68377  It’s raining in California. Again. A storm sys...      0\n",
              "4738   Billionaire Mark Cuban had previously been roo...      1\n",
              "33067  FBI Agents Must Come Forward to Confront Corru...      1\n",
              "17122  Tune in to the Alternate Current Radio Network...      1\n",
              "44504  U.S. President-elect Donald Trump said he expe...      0"
            ],
            "text/html": [
              "\n",
              "  <div id=\"df-bf7e95f2-fde6-4e32-b4d0-a3d139fae469\">\n",
              "    <div class=\"colab-df-container\">\n",
              "      <div>\n",
              "<style scoped>\n",
              "    .dataframe tbody tr th:only-of-type {\n",
              "        vertical-align: middle;\n",
              "    }\n",
              "\n",
              "    .dataframe tbody tr th {\n",
              "        vertical-align: top;\n",
              "    }\n",
              "\n",
              "    .dataframe thead th {\n",
              "        text-align: right;\n",
              "    }\n",
              "</style>\n",
              "<table border=\"1\" class=\"dataframe\">\n",
              "  <thead>\n",
              "    <tr style=\"text-align: right;\">\n",
              "      <th></th>\n",
              "      <th>text</th>\n",
              "      <th>label</th>\n",
              "    </tr>\n",
              "  </thead>\n",
              "  <tbody>\n",
              "    <tr>\n",
              "      <th>68377</th>\n",
              "      <td>It’s raining in California. Again. A storm sys...</td>\n",
              "      <td>0</td>\n",
              "    </tr>\n",
              "    <tr>\n",
              "      <th>4738</th>\n",
              "      <td>Billionaire Mark Cuban had previously been roo...</td>\n",
              "      <td>1</td>\n",
              "    </tr>\n",
              "    <tr>\n",
              "      <th>33067</th>\n",
              "      <td>FBI Agents Must Come Forward to Confront Corru...</td>\n",
              "      <td>1</td>\n",
              "    </tr>\n",
              "    <tr>\n",
              "      <th>17122</th>\n",
              "      <td>Tune in to the Alternate Current Radio Network...</td>\n",
              "      <td>1</td>\n",
              "    </tr>\n",
              "    <tr>\n",
              "      <th>44504</th>\n",
              "      <td>U.S. President-elect Donald Trump said he expe...</td>\n",
              "      <td>0</td>\n",
              "    </tr>\n",
              "  </tbody>\n",
              "</table>\n",
              "</div>\n",
              "      <button class=\"colab-df-convert\" onclick=\"convertToInteractive('df-bf7e95f2-fde6-4e32-b4d0-a3d139fae469')\"\n",
              "              title=\"Convert this dataframe to an interactive table.\"\n",
              "              style=\"display:none;\">\n",
              "        \n",
              "  <svg xmlns=\"http://www.w3.org/2000/svg\" height=\"24px\"viewBox=\"0 0 24 24\"\n",
              "       width=\"24px\">\n",
              "    <path d=\"M0 0h24v24H0V0z\" fill=\"none\"/>\n",
              "    <path d=\"M18.56 5.44l.94 2.06.94-2.06 2.06-.94-2.06-.94-.94-2.06-.94 2.06-2.06.94zm-11 1L8.5 8.5l.94-2.06 2.06-.94-2.06-.94L8.5 2.5l-.94 2.06-2.06.94zm10 10l.94 2.06.94-2.06 2.06-.94-2.06-.94-.94-2.06-.94 2.06-2.06.94z\"/><path d=\"M17.41 7.96l-1.37-1.37c-.4-.4-.92-.59-1.43-.59-.52 0-1.04.2-1.43.59L10.3 9.45l-7.72 7.72c-.78.78-.78 2.05 0 2.83L4 21.41c.39.39.9.59 1.41.59.51 0 1.02-.2 1.41-.59l7.78-7.78 2.81-2.81c.8-.78.8-2.07 0-2.86zM5.41 20L4 18.59l7.72-7.72 1.47 1.35L5.41 20z\"/>\n",
              "  </svg>\n",
              "      </button>\n",
              "      \n",
              "  <style>\n",
              "    .colab-df-container {\n",
              "      display:flex;\n",
              "      flex-wrap:wrap;\n",
              "      gap: 12px;\n",
              "    }\n",
              "\n",
              "    .colab-df-convert {\n",
              "      background-color: #E8F0FE;\n",
              "      border: none;\n",
              "      border-radius: 50%;\n",
              "      cursor: pointer;\n",
              "      display: none;\n",
              "      fill: #1967D2;\n",
              "      height: 32px;\n",
              "      padding: 0 0 0 0;\n",
              "      width: 32px;\n",
              "    }\n",
              "\n",
              "    .colab-df-convert:hover {\n",
              "      background-color: #E2EBFA;\n",
              "      box-shadow: 0px 1px 2px rgba(60, 64, 67, 0.3), 0px 1px 3px 1px rgba(60, 64, 67, 0.15);\n",
              "      fill: #174EA6;\n",
              "    }\n",
              "\n",
              "    [theme=dark] .colab-df-convert {\n",
              "      background-color: #3B4455;\n",
              "      fill: #D2E3FC;\n",
              "    }\n",
              "\n",
              "    [theme=dark] .colab-df-convert:hover {\n",
              "      background-color: #434B5C;\n",
              "      box-shadow: 0px 1px 3px 1px rgba(0, 0, 0, 0.15);\n",
              "      filter: drop-shadow(0px 1px 2px rgba(0, 0, 0, 0.3));\n",
              "      fill: #FFFFFF;\n",
              "    }\n",
              "  </style>\n",
              "\n",
              "      <script>\n",
              "        const buttonEl =\n",
              "          document.querySelector('#df-bf7e95f2-fde6-4e32-b4d0-a3d139fae469 button.colab-df-convert');\n",
              "        buttonEl.style.display =\n",
              "          google.colab.kernel.accessAllowed ? 'block' : 'none';\n",
              "\n",
              "        async function convertToInteractive(key) {\n",
              "          const element = document.querySelector('#df-bf7e95f2-fde6-4e32-b4d0-a3d139fae469');\n",
              "          const dataTable =\n",
              "            await google.colab.kernel.invokeFunction('convertToInteractive',\n",
              "                                                     [key], {});\n",
              "          if (!dataTable) return;\n",
              "\n",
              "          const docLinkHtml = 'Like what you see? Visit the ' +\n",
              "            '<a target=\"_blank\" href=https://colab.research.google.com/notebooks/data_table.ipynb>data table notebook</a>'\n",
              "            + ' to learn more about interactive tables.';\n",
              "          element.innerHTML = '';\n",
              "          dataTable['output_type'] = 'display_data';\n",
              "          await google.colab.output.renderOutput(dataTable, element);\n",
              "          const docLink = document.createElement('div');\n",
              "          docLink.innerHTML = docLinkHtml;\n",
              "          element.appendChild(docLink);\n",
              "        }\n",
              "      </script>\n",
              "    </div>\n",
              "  </div>\n",
              "  "
            ]
          },
          "metadata": {},
          "execution_count": 24
        }
      ]
    },
    {
      "cell_type": "markdown",
      "source": [
        "# 5. Exporting (& importing) to csv (optional)\n",
        "- name: CompiledDisinfo_74k.csv\n",
        "- Location: MyDrive/MYDATA"
      ],
      "metadata": {
        "id": "n5YWKg0EmPEw"
      }
    },
    {
      "cell_type": "code",
      "source": [
        "#df_full.to_csv(r'/content/drive/MyDrive/MYDATA/CompiledDisinfo_74k.csv')\n",
        "#uncomment the above to export the compiled dataset to google drive."
      ],
      "metadata": {
        "id": "yUv4tBu1mSmL"
      },
      "execution_count": null,
      "outputs": []
    },
    {
      "cell_type": "markdown",
      "source": [
        " **5B. Importing stored csv + balance check**\n",
        "\n",
        "- after having saved the raw file as csv, we will read it in anew.\n",
        "This helps us in troubleshooting later, and makes it easier to make changes later on without breaking the code.\n",
        "- check (again) for empties + remove empties\n",
        "- check balance of dataset (count 0's and 1's)"
      ],
      "metadata": {
        "id": "YW3VOEFHgTmJ"
      }
    },
    {
      "cell_type": "code",
      "source": [
        "'''\n",
        "path_to_compiled_dataset_on_drive = '/content/drive/MyDrive/MYDATA/CompiledDisinfo_74k.csv'\n",
        "df_full = pd.read_csv(path_to_compiled_dataset_on_drive, index_col=[0])\n",
        "'''\n",
        "#uncomment the above to read in from drive\n",
        "\n",
        "#or read in from github (this is just a backup option, not needed to continue):\n",
        "\"\"\"\n",
        "path_to_compiled_dataset_on_gh = 'https://raw.githubusercontent.com/StevenPeutz/Masterthesis-Disinformation-NLP/master/DATA/CompiledDisinfo_74k/CompiledDisinfo_74k.csv.gz'\n",
        "df_full= pd.read_csv(path_to_compiled_dataset_on_gh, index_col=[0], compression='gzip')\n",
        "\"\"\""
      ],
      "metadata": {
        "id": "pYeTQd9Tgo1D",
        "colab": {
          "base_uri": "https://localhost:8080/",
          "height": 52
        },
        "outputId": "e42d231c-425f-4e00-d1a0-7822b40e2209"
      },
      "execution_count": null,
      "outputs": [
        {
          "output_type": "execute_result",
          "data": {
            "text/plain": [
              "\"\\npath_to_compiled_dataset_on_gh = 'https://raw.githubusercontent.com/StevenPeutz/Masterthesis-Disinformation-NLP/master/DATA/CompiledDisinfo_74k/CompiledDisinfo_74k.csv.gz'\\ndf_full= pd.read_csv(path_to_compiled_dataset_on_gh, index_col=[0], compression='gzip')\\n\""
            ],
            "application/vnd.google.colaboratory.intrinsic+json": {
              "type": "string"
            }
          },
          "metadata": {},
          "execution_count": 8
        }
      ]
    },
    {
      "cell_type": "code",
      "source": [
        "#repeat the check for empties, as here suffixes and prefixes have been deleted..\n",
        "df_full['text'].isna().sum()"
      ],
      "metadata": {
        "colab": {
          "base_uri": "https://localhost:8080/"
        },
        "id": "Y_whzn1Rg2xU",
        "outputId": "be0dfdd9-8c1e-4411-aebe-ab5faabdb9ba"
      },
      "execution_count": null,
      "outputs": [
        {
          "output_type": "execute_result",
          "data": {
            "text/plain": [
              "14"
            ]
          },
          "metadata": {},
          "execution_count": 9
        }
      ]
    },
    {
      "cell_type": "code",
      "source": [
        "df_full.dropna(\n",
        "      axis=0,\n",
        "      how='any',\n",
        "      subset=None,\n",
        "      inplace=True)"
      ],
      "metadata": {
        "id": "ciBG99PZhEx5"
      },
      "execution_count": null,
      "outputs": []
    },
    {
      "cell_type": "code",
      "source": [
        "#calculate balance of dataset \n",
        "news = df_full['label'].value_counts()[0]\n",
        "disinfo = df_full['label'].value_counts()[1]\n",
        "\n",
        "disinfoPercent = ((disinfo/(disinfo+news))*100)\n",
        "'disinfo precentage of total dataset is {number:.{digits}f}%'.format(number=disinfoPercent, digits=2)"
      ],
      "metadata": {
        "colab": {
          "base_uri": "https://localhost:8080/",
          "height": 35
        },
        "id": "yK4haSdGhoui",
        "outputId": "031b7be7-cebb-4455-a07f-f5b1b190c7b7"
      },
      "execution_count": null,
      "outputs": [
        {
          "output_type": "execute_result",
          "data": {
            "text/plain": [
              "'disinfo precentage of total dataset is 47.50%'"
            ],
            "application/vnd.google.colaboratory.intrinsic+json": {
              "type": "string"
            }
          },
          "metadata": {},
          "execution_count": 11
        }
      ]
    },
    {
      "cell_type": "code",
      "source": [
        "print('there are {} rows of real news'.format(df_full['label'].value_counts()[0]))\n",
        "print('and {} rows of disinfo'.format(df_full['label'].value_counts()[1]))"
      ],
      "metadata": {
        "colab": {
          "base_uri": "https://localhost:8080/"
        },
        "id": "DX5xgzrXhicL",
        "outputId": "0c484aa5-037c-4858-b620-265ee03fd914"
      },
      "execution_count": null,
      "outputs": [
        {
          "output_type": "stream",
          "name": "stdout",
          "text": [
            "there are 38797 rows of real news\n",
            "and 35100 rows of disinfo\n"
          ]
        }
      ]
    },
    {
      "cell_type": "markdown",
      "source": [
        "# 7. EDA (preliminary)\n",
        "\n",
        "//EDA, not needed for rest of code\n"
      ],
      "metadata": {
        "id": "hJ_SPTKkl0DT"
      }
    },
    {
      "cell_type": "markdown",
      "source": [
        "## Feature egineering\n",
        "- ToDo: use percentages instead of raw *counts*"
      ],
      "metadata": {
        "id": "aPpvkexUwMc-"
      }
    },
    {
      "cell_type": "code",
      "source": [
        "#make copy of dataset\n",
        "df_full_EDA = df_full\n",
        "\n",
        "# word_count\n",
        "df_full_EDA['word_count'] = df_full_EDA['text'].apply(lambda x: len(str(x).split()))\n",
        "\n",
        "# unique_word_count\n",
        "df_full_EDA['unique_word_count'] = df_full_EDA['text'].apply(lambda x: len(set(str(x).split())))"
      ],
      "metadata": {
        "id": "xPSICactl2Sw"
      },
      "execution_count": null,
      "outputs": []
    },
    {
      "cell_type": "code",
      "source": [
        "df_full_EDA['stop_word_count'] = df_full_EDA['text'].apply(lambda x: len([w for w in str(x).lower().split() if w in STOPWORDS]))"
      ],
      "metadata": {
        "id": "w8AQCO-imuqj"
      },
      "execution_count": null,
      "outputs": []
    },
    {
      "cell_type": "code",
      "source": [
        "# punctuation_count.  # not working, string.punctuation is giving problems\n",
        "#df_full_EDA['punctuation_count'] = df_full_EDA['text'].apply(lambda x: len([c for c in str(x) if c in string.punctuation]))"
      ],
      "metadata": {
        "id": "l8sOMadRm1KC"
      },
      "execution_count": null,
      "outputs": []
    },
    {
      "cell_type": "code",
      "source": [
        "# mean_word_length\n",
        "df_full_EDA['mean_word_length'] = df_full_EDA['text'].apply(lambda x: np.mean([len(w) for w in str(x).split()]))"
      ],
      "metadata": {
        "id": "8_fZl5iGm-sc"
      },
      "execution_count": null,
      "outputs": []
    },
    {
      "cell_type": "code",
      "source": [
        "# url_count\n",
        "df_full_EDA['url_count'] = df_full_EDA['text'].apply(lambda x: len([w for w in str(x).lower().split() if 'http' in w or 'https' in w]))"
      ],
      "metadata": {
        "id": "jHjB-jvBnGpp"
      },
      "execution_count": null,
      "outputs": []
    },
    {
      "cell_type": "code",
      "source": [
        "# hashtag_count\n",
        "df_full_EDA['hashtag_count'] = df_full_EDA['text'].apply(lambda x: len([c for c in str(x) if c == '#']))"
      ],
      "metadata": {
        "id": "tHV9wwvtnP3a"
      },
      "execution_count": null,
      "outputs": []
    },
    {
      "cell_type": "code",
      "source": [
        "# mention_count\n",
        "df_full_EDA['mention_count'] = df_full_EDA['text'].apply(lambda x: len([c for c in str(x) if c == '@']))"
      ],
      "metadata": {
        "id": "BzeZ8nrZnS5d"
      },
      "execution_count": null,
      "outputs": []
    },
    {
      "cell_type": "markdown",
      "source": [
        "## Plotting the created features (viz) + conclusion about dataset\n",
        "- ToDo: see 'feature egineering'\n",
        "- TODo: all vizuals in a grid"
      ],
      "metadata": {
        "id": "JZfkiu3jnf4U"
      }
    },
    {
      "cell_type": "code",
      "source": [
        "x=df_full_EDA.loc[df_full_EDA['label']==1, 'word_count']\n",
        "y=df_full_EDA.loc[df_full_EDA['label']==0, 'word_count']\n",
        "\n",
        "bins=list(range(3000))\n",
        "\n",
        "pyplot.hist(x, bins, alpha=0.5, label='disinfo')\n",
        "pyplot.hist(y, bins, alpha=0.5, label='news')\n",
        "pyplot.legend(loc='upper right')\n",
        "pyplot.show()"
      ],
      "metadata": {
        "colab": {
          "base_uri": "https://localhost:8080/",
          "height": 266
        },
        "id": "eA1ZSKbwnYI7",
        "outputId": "5be1e66f-db28-478b-cf94-6bdea6a8c15f"
      },
      "execution_count": null,
      "outputs": [
        {
          "output_type": "display_data",
          "data": {
            "text/plain": [
              "<Figure size 432x288 with 1 Axes>"
            ],
            "image/png": "[encoded data removed]"
          },
          "metadata": {
            "needs_background": "light"
          }
        }
      ]
    },
    {
      "cell_type": "code",
      "source": [
        "x=df_full_EDA.loc[df_full_EDA['label']==1, 'unique_word_count']\n",
        "y=df_full_EDA.loc[df_full_EDA['label']==0, 'unique_word_count']\n",
        "\n",
        "#bins=list(range(3000))\n",
        "\n",
        "pyplot.hist(x, bins, alpha=0.5, label='disinfo')\n",
        "pyplot.hist(y, bins, alpha=0.5, label='news')\n",
        "pyplot.legend(loc='upper right')\n",
        "pyplot.show()"
      ],
      "metadata": {
        "colab": {
          "base_uri": "https://localhost:8080/",
          "height": 265
        },
        "id": "L5NcSg8kuWm3",
        "outputId": "7e9538f0-f6f8-4c69-a207-3dbdef922452"
      },
      "execution_count": null,
      "outputs": [
        {
          "output_type": "display_data",
          "data": {
            "text/plain": [
              "<Figure size 432x288 with 1 Axes>"
            ],
            "image/png": "[encoded data removed]"
          },
          "metadata": {
            "needs_background": "light"
          }
        }
      ]
    },
    {
      "cell_type": "code",
      "source": [
        "x=df_full_EDA.loc[df_full_EDA['label']==1, 'stop_word_count']\n",
        "y=df_full_EDA.loc[df_full_EDA['label']==0, 'stop_word_count']\n",
        "\n",
        "bins=list(range(800))\n",
        "\n",
        "pyplot.hist(x, bins, alpha=0.5, label='disinfo')\n",
        "pyplot.hist(y, bins, alpha=0.5, label='news')\n",
        "pyplot.legend(loc='upper right')\n",
        "pyplot.show()"
      ],
      "metadata": {
        "colab": {
          "base_uri": "https://localhost:8080/",
          "height": 265
        },
        "id": "RvIdAmBKvHtD",
        "outputId": "3875a4dc-7efd-48b2-84a3-91e57edbfcef"
      },
      "execution_count": null,
      "outputs": [
        {
          "output_type": "display_data",
          "data": {
            "text/plain": [
              "<Figure size 432x288 with 1 Axes>"
            ],
            "image/png": "[encoded data removed]"
          },
          "metadata": {
            "needs_background": "light"
          }
        }
      ]
    },
    {
      "cell_type": "code",
      "source": [
        "x=df_full_EDA.loc[df_full_EDA['label']==1, 'hashtag_count']\n",
        "y=df_full_EDA.loc[df_full_EDA['label']==0, 'hashtag_count']\n",
        "\n",
        "bins=list(range(10))\n",
        "\n",
        "pyplot.hist(x, bins, alpha=0.5, label='disinfo')\n",
        "pyplot.hist(y, bins, alpha=0.5, label='news')\n",
        "pyplot.legend(loc='upper right')\n",
        "pyplot.show()"
      ],
      "metadata": {
        "colab": {
          "base_uri": "https://localhost:8080/",
          "height": 267
        },
        "id": "cNhf6yIDvX-F",
        "outputId": "e5a2dc16-614d-4be3-d88f-1022be7f781c"
      },
      "execution_count": null,
      "outputs": [
        {
          "output_type": "display_data",
          "data": {
            "text/plain": [
              "<Figure size 432x288 with 1 Axes>"
            ],
            "image/png": "[encoded data removed]"
          },
          "metadata": {
            "needs_background": "light"
          }
        }
      ]
    },
    {
      "cell_type": "code",
      "source": [
        "x=df_full_EDA.loc[df_full_EDA['label']==1, 'mention_count']\n",
        "y=df_full_EDA.loc[df_full_EDA['label']==0, 'mention_count']\n",
        "\n",
        "bins=list(range(10))\n",
        "\n",
        "pyplot.hist(x, bins, alpha=0.5, label='disinfo')\n",
        "pyplot.hist(y, bins, alpha=0.5, label='news')\n",
        "pyplot.legend(loc='upper right')\n",
        "pyplot.show()"
      ],
      "metadata": {
        "colab": {
          "base_uri": "https://localhost:8080/",
          "height": 265
        },
        "id": "BwWf1y3Qw26X",
        "outputId": "dec033a7-1531-4c00-b20c-83e8e75c4c03"
      },
      "execution_count": null,
      "outputs": [
        {
          "output_type": "display_data",
          "data": {
            "text/plain": [
              "<Figure size 432x288 with 1 Axes>"
            ],
            "image/png": "[encoded data removed]"
          },
          "metadata": {
            "needs_background": "light"
          }
        }
      ]
    },
    {
      "cell_type": "code",
      "source": [
        "x=df_full_EDA.loc[df_full_EDA['label']==1, 'url_count']\n",
        "y=df_full_EDA.loc[df_full_EDA['label']==0, 'url_count']\n",
        "\n",
        "bins=list(range(10))\n",
        "\n",
        "pyplot.hist(x, bins, alpha=0.5, label='disinfo')\n",
        "pyplot.hist(y, bins, alpha=0.5, label='news')\n",
        "pyplot.legend(loc='upper right')\n",
        "pyplot.show()"
      ],
      "metadata": {
        "colab": {
          "base_uri": "https://localhost:8080/",
          "height": 265
        },
        "id": "V1c_aS04wBTa",
        "outputId": "b79e7e6d-ff4a-4eb6-d32b-159996f8e0fe"
      },
      "execution_count": null,
      "outputs": [
        {
          "output_type": "display_data",
          "data": {
            "text/plain": [
              "<Figure size 432x288 with 1 Axes>"
            ],
            "image/png": "[encoded data removed]"
          },
          "metadata": {
            "needs_background": "light"
          }
        }
      ]
    },
    {
      "cell_type": "markdown",
      "source": [
        "Preliminary (eyeballed) conclusions:\n",
        "- disinfo texts are mote likely to have @mentions, urls and hasthtags.\n",
        "- extremely short texts are more likely to be disinfo\n",
        "- These conclusions are more likely to be a dataset problem more than a real inference about news vs disinfo..\n",
        "\n",
        "ToDo:\n",
        "- see above (bulletpoint 3)\n",
        "- for e.g. stopword count, make it stopwordcount as ratio of total word count. etc\n",
        "- put in grid\n",
        "- get data that is not 'news', but non disinfo texts not written by professional journalists."
      ],
      "metadata": {
        "id": "7MuOMQWoxLbV"
      }
    },
    {
      "cell_type": "markdown",
      "source": [
        "# 8. Texts that are 'too short' and 'too long'.."
      ],
      "metadata": {
        "id": "WtSWRwNtyQgc"
      }
    },
    {
      "cell_type": "code",
      "source": [
        "df_full['text_length'] = df_full.text.apply(len)"
      ],
      "metadata": {
        "id": "d8HTGMkf-Joz"
      },
      "execution_count": null,
      "outputs": []
    },
    {
      "cell_type": "code",
      "source": [
        "#are there texts with fewer than 100 characters?\n",
        "column = df_full['text_length']\n",
        "tooshort = 30\n",
        "toolong = 2800 #max char length for google translate is 3900.. (this is a bug in GT, while it is possible that RU is lengthier than english, when putting in 3000 chars russian, it will give '>3900 warning'\n",
        "               #with an everage length of 4.7 (in English, 5.3 for russian), this comes around to somewhere just under 600 words.\n",
        "count_tooshort = column[column < tooshort].count()\n",
        "count_toolong = column[column > toolong].count()\n",
        "print(f'there are {count_tooshort} rows with texts that are too short (i.e. <{tooshort})')\n",
        "print(f'there are {count_toolong} rows with texts that are too long (i.e. >{toolong})')"
      ],
      "metadata": {
        "colab": {
          "base_uri": "https://localhost:8080/"
        },
        "id": "rm8Iu9sPz8Dy",
        "outputId": "4a644af7-a0e9-44f0-b1d7-338a9edd0b5a"
      },
      "execution_count": null,
      "outputs": [
        {
          "output_type": "stream",
          "name": "stdout",
          "text": [
            "there are 567 rows with texts that are too short (i.e. <30)\n",
            "there are 23703 rows with texts that are too long (i.e. >2800)\n"
          ]
        }
      ]
    },
    {
      "cell_type": "code",
      "source": [
        "#creating a copy of df_full to use for querying distribution of too short and too long (using SQL further down)\n",
        "#this is optional\n",
        "df_full2 = df_full"
      ],
      "metadata": {
        "id": "aBI_ykF9zlge"
      },
      "execution_count": null,
      "outputs": []
    },
    {
      "cell_type": "code",
      "source": [
        "#drop all rows that have fewer then 30 characters (i.e. 'keep those larger than or equal to 30')\n",
        "df_full = df_full.loc[df_full[\"text_length\"] >= tooshort]\n",
        "#I can do the same for rows that are too long, however it will we better to cut them off after e.g. 5000 chars and leave them in the dataset."
      ],
      "metadata": {
        "id": "gBNYz_FS8ieP"
      },
      "execution_count": null,
      "outputs": []
    },
    {
      "cell_type": "code",
      "source": [
        "# keeping only the first 3500 chars of each row in text column\n",
        "df_full['text'] = df_full['text'].str.slice(0,toolong)"
      ],
      "metadata": {
        "colab": {
          "base_uri": "https://localhost:8080/"
        },
        "id": "acPZKSaCA6pb",
        "outputId": "0e9b1149-a174-45aa-9468-a8e5127d255e"
      },
      "execution_count": null,
      "outputs": [
        {
          "output_type": "stream",
          "name": "stderr",
          "text": [
            "<ipython-input-17-a9ca763d8e32>:2: SettingWithCopyWarning: \n",
            "A value is trying to be set on a copy of a slice from a DataFrame.\n",
            "Try using .loc[row_indexer,col_indexer] = value instead\n",
            "\n",
            "See the caveats in the documentation: https://pandas.pydata.org/pandas-docs/stable/user_guide/indexing.html#returning-a-view-versus-a-copy\n",
            "  df_full['text'] = df_full['text'].str.slice(0,toolong)\n"
          ]
        }
      ]
    },
    {
      "cell_type": "code",
      "source": [
        "#adding a column with new length counts to check whether indeed cutoffs at defined max length (i.e. 'toolong')\n",
        "df_full['text_len_trunc'] = df_full.text.apply(len)"
      ],
      "metadata": {
        "colab": {
          "base_uri": "https://localhost:8080/"
        },
        "id": "cqTj3jt_BKnX",
        "outputId": "125608f0-9ac0-42ee-baad-7b926041dc74"
      },
      "execution_count": null,
      "outputs": [
        {
          "output_type": "stream",
          "name": "stderr",
          "text": [
            "<ipython-input-18-e1fea6cc90d1>:2: SettingWithCopyWarning: \n",
            "A value is trying to be set on a copy of a slice from a DataFrame.\n",
            "Try using .loc[row_indexer,col_indexer] = value instead\n",
            "\n",
            "See the caveats in the documentation: https://pandas.pydata.org/pandas-docs/stable/user_guide/indexing.html#returning-a-view-versus-a-copy\n",
            "  df_full['text_len_trunc'] = df_full.text.apply(len)\n"
          ]
        }
      ]
    },
    {
      "cell_type": "code",
      "source": [
        "df_full.sample(5)"
      ],
      "metadata": {
        "colab": {
          "base_uri": "https://localhost:8080/",
          "height": 206
        },
        "id": "j-Nbu02YD4jf",
        "outputId": "93719637-8263-4c10-b3e8-e890f3efa87e"
      },
      "execution_count": null,
      "outputs": [
        {
          "output_type": "execute_result",
          "data": {
            "text/plain": [
              "                                                    text  label  text_length  \\\n",
              "51078  A Syrian government delegation will arrive in ...      0         2528   \n",
              "30881  Previous Mass Casualty Drill In S. Carolina-Is...      1         1761   \n",
              "70255  The political world was obsessed last week wit...      0          528   \n",
              "56919  The United States will consider resuming some ...      0         1326   \n",
              "15066  Dr. Carson points out the false narrative of t...      1          224   \n",
              "\n",
              "       text_len_trunc  \n",
              "51078            2528  \n",
              "30881            1761  \n",
              "70255             528  \n",
              "56919            1326  \n",
              "15066             224  "
            ],
            "text/html": [
              "\n",
              "  <div id=\"df-fce98c05-90d7-483e-8e65-543842688f0f\">\n",
              "    <div class=\"colab-df-container\">\n",
              "      <div>\n",
              "<style scoped>\n",
              "    .dataframe tbody tr th:only-of-type {\n",
              "        vertical-align: middle;\n",
              "    }\n",
              "\n",
              "    .dataframe tbody tr th {\n",
              "        vertical-align: top;\n",
              "    }\n",
              "\n",
              "    .dataframe thead th {\n",
              "        text-align: right;\n",
              "    }\n",
              "</style>\n",
              "<table border=\"1\" class=\"dataframe\">\n",
              "  <thead>\n",
              "    <tr style=\"text-align: right;\">\n",
              "      <th></th>\n",
              "      <th>text</th>\n",
              "      <th>label</th>\n",
              "      <th>text_length</th>\n",
              "      <th>text_len_trunc</th>\n",
              "    </tr>\n",
              "  </thead>\n",
              "  <tbody>\n",
              "    <tr>\n",
              "      <th>51078</th>\n",
              "      <td>A Syrian government delegation will arrive in ...</td>\n",
              "      <td>0</td>\n",
              "      <td>2528</td>\n",
              "      <td>2528</td>\n",
              "    </tr>\n",
              "    <tr>\n",
              "      <th>30881</th>\n",
              "      <td>Previous Mass Casualty Drill In S. Carolina-Is...</td>\n",
              "      <td>1</td>\n",
              "      <td>1761</td>\n",
              "      <td>1761</td>\n",
              "    </tr>\n",
              "    <tr>\n",
              "      <th>70255</th>\n",
              "      <td>The political world was obsessed last week wit...</td>\n",
              "      <td>0</td>\n",
              "      <td>528</td>\n",
              "      <td>528</td>\n",
              "    </tr>\n",
              "    <tr>\n",
              "      <th>56919</th>\n",
              "      <td>The United States will consider resuming some ...</td>\n",
              "      <td>0</td>\n",
              "      <td>1326</td>\n",
              "      <td>1326</td>\n",
              "    </tr>\n",
              "    <tr>\n",
              "      <th>15066</th>\n",
              "      <td>Dr. Carson points out the false narrative of t...</td>\n",
              "      <td>1</td>\n",
              "      <td>224</td>\n",
              "      <td>224</td>\n",
              "    </tr>\n",
              "  </tbody>\n",
              "</table>\n",
              "</div>\n",
              "      <button class=\"colab-df-convert\" onclick=\"convertToInteractive('df-fce98c05-90d7-483e-8e65-543842688f0f')\"\n",
              "              title=\"Convert this dataframe to an interactive table.\"\n",
              "              style=\"display:none;\">\n",
              "        \n",
              "  <svg xmlns=\"http://www.w3.org/2000/svg\" height=\"24px\"viewBox=\"0 0 24 24\"\n",
              "       width=\"24px\">\n",
              "    <path d=\"M0 0h24v24H0V0z\" fill=\"none\"/>\n",
              "    <path d=\"M18.56 5.44l.94 2.06.94-2.06 2.06-.94-2.06-.94-.94-2.06-.94 2.06-2.06.94zm-11 1L8.5 8.5l.94-2.06 2.06-.94-2.06-.94L8.5 2.5l-.94 2.06-2.06.94zm10 10l.94 2.06.94-2.06 2.06-.94-2.06-.94-.94-2.06-.94 2.06-2.06.94z\"/><path d=\"M17.41 7.96l-1.37-1.37c-.4-.4-.92-.59-1.43-.59-.52 0-1.04.2-1.43.59L10.3 9.45l-7.72 7.72c-.78.78-.78 2.05 0 2.83L4 21.41c.39.39.9.59 1.41.59.51 0 1.02-.2 1.41-.59l7.78-7.78 2.81-2.81c.8-.78.8-2.07 0-2.86zM5.41 20L4 18.59l7.72-7.72 1.47 1.35L5.41 20z\"/>\n",
              "  </svg>\n",
              "      </button>\n",
              "      \n",
              "  <style>\n",
              "    .colab-df-container {\n",
              "      display:flex;\n",
              "      flex-wrap:wrap;\n",
              "      gap: 12px;\n",
              "    }\n",
              "\n",
              "    .colab-df-convert {\n",
              "      background-color: #E8F0FE;\n",
              "      border: none;\n",
              "      border-radius: 50%;\n",
              "      cursor: pointer;\n",
              "      display: none;\n",
              "      fill: #1967D2;\n",
              "      height: 32px;\n",
              "      padding: 0 0 0 0;\n",
              "      width: 32px;\n",
              "    }\n",
              "\n",
              "    .colab-df-convert:hover {\n",
              "      background-color: #E2EBFA;\n",
              "      box-shadow: 0px 1px 2px rgba(60, 64, 67, 0.3), 0px 1px 3px 1px rgba(60, 64, 67, 0.15);\n",
              "      fill: #174EA6;\n",
              "    }\n",
              "\n",
              "    [theme=dark] .colab-df-convert {\n",
              "      background-color: #3B4455;\n",
              "      fill: #D2E3FC;\n",
              "    }\n",
              "\n",
              "    [theme=dark] .colab-df-convert:hover {\n",
              "      background-color: #434B5C;\n",
              "      box-shadow: 0px 1px 3px 1px rgba(0, 0, 0, 0.15);\n",
              "      filter: drop-shadow(0px 1px 2px rgba(0, 0, 0, 0.3));\n",
              "      fill: #FFFFFF;\n",
              "    }\n",
              "  </style>\n",
              "\n",
              "      <script>\n",
              "        const buttonEl =\n",
              "          document.querySelector('#df-fce98c05-90d7-483e-8e65-543842688f0f button.colab-df-convert');\n",
              "        buttonEl.style.display =\n",
              "          google.colab.kernel.accessAllowed ? 'block' : 'none';\n",
              "\n",
              "        async function convertToInteractive(key) {\n",
              "          const element = document.querySelector('#df-fce98c05-90d7-483e-8e65-543842688f0f');\n",
              "          const dataTable =\n",
              "            await google.colab.kernel.invokeFunction('convertToInteractive',\n",
              "                                                     [key], {});\n",
              "          if (!dataTable) return;\n",
              "\n",
              "          const docLinkHtml = 'Like what you see? Visit the ' +\n",
              "            '<a target=\"_blank\" href=https://colab.research.google.com/notebooks/data_table.ipynb>data table notebook</a>'\n",
              "            + ' to learn more about interactive tables.';\n",
              "          element.innerHTML = '';\n",
              "          dataTable['output_type'] = 'display_data';\n",
              "          await google.colab.output.renderOutput(dataTable, element);\n",
              "          const docLink = document.createElement('div');\n",
              "          docLink.innerHTML = docLinkHtml;\n",
              "          element.appendChild(docLink);\n",
              "        }\n",
              "      </script>\n",
              "    </div>\n",
              "  </div>\n",
              "  "
            ]
          },
          "metadata": {},
          "execution_count": 19
        }
      ]
    },
    {
      "cell_type": "markdown",
      "source": [
        "  ##    9b. SQL section (optional)"
      ],
      "metadata": {
        "id": "HGEb4RUW3mMu"
      }
    },
    {
      "cell_type": "code",
      "source": [
        "# SQL block\n",
        "!pip install -U pandasql\n",
        "from pandasql import sqldf\n",
        "\n",
        "# purpose:\n",
        "# To find out how the extreme short (that are to be removed) and extreme long texts (that are to be cut off) are distributed between\n",
        "# news and disinfo SQL is used to count them. (this can also be done in pandas but my coding is not strong enough)."
      ],
      "metadata": {
        "colab": {
          "base_uri": "https://localhost:8080/"
        },
        "id": "9vlCjYwj5Lsm",
        "outputId": "ae038cbf-2596-44d1-f049-e1a3dd13ce61"
      },
      "execution_count": null,
      "outputs": [
        {
          "output_type": "stream",
          "name": "stdout",
          "text": [
            "Looking in indexes: https://pypi.org/simple, https://us-python.pkg.dev/colab-wheels/public/simple/\n",
            "Collecting pandasql\n",
            "  Downloading pandasql-0.7.3.tar.gz (26 kB)\n",
            "  Preparing metadata (setup.py) ... \u001b[?25l\u001b[?25hdone\n",
            "Requirement already satisfied: numpy in /usr/local/lib/python3.9/dist-packages (from pandasql) (1.22.4)\n",
            "Requirement already satisfied: pandas in /usr/local/lib/python3.9/dist-packages (from pandasql) (1.3.5)\n",
            "Requirement already satisfied: sqlalchemy in /usr/local/lib/python3.9/dist-packages (from pandasql) (1.4.46)\n",
            "Requirement already satisfied: pytz>=2017.3 in /usr/local/lib/python3.9/dist-packages (from pandas->pandasql) (2022.7.1)\n",
            "Requirement already satisfied: python-dateutil>=2.7.3 in /usr/local/lib/python3.9/dist-packages (from pandas->pandasql) (2.8.2)\n",
            "Requirement already satisfied: greenlet!=0.4.17 in /usr/local/lib/python3.9/dist-packages (from sqlalchemy->pandasql) (2.0.2)\n",
            "Requirement already satisfied: six>=1.5 in /usr/local/lib/python3.9/dist-packages (from python-dateutil>=2.7.3->pandas->pandasql) (1.15.0)\n",
            "Building wheels for collected packages: pandasql\n",
            "  Building wheel for pandasql (setup.py) ... \u001b[?25l\u001b[?25hdone\n",
            "  Created wheel for pandasql: filename=pandasql-0.7.3-py3-none-any.whl size=26787 sha256=6eab79a688efb2850cc6056d61fee7991af7e6d95beacdf44877a3708a1cf5f2\n",
            "  Stored in directory: /root/.cache/pip/wheels/63/e8/ec/75b1df467ecf57b6ececb32cb16f4e86697cbfe55cb0c51f07\n",
            "Successfully built pandasql\n",
            "Installing collected packages: pandasql\n",
            "Successfully installed pandasql-0.7.3\n"
          ]
        }
      ]
    },
    {
      "cell_type": "code",
      "source": [
        "# Query definition\n",
        "query = \"\"\" SELECT count(*) \n",
        "            FROM df_full2\n",
        "            WHERE (text_length < 20)\n",
        "            GROUP BY label  \n",
        "        \"\"\"\n",
        "\n",
        "# Query execution\n",
        "tooshort_distribution = sqldf(query, globals())\n",
        "tooshort_distribution"
      ],
      "metadata": {
        "colab": {
          "base_uri": "https://localhost:8080/",
          "height": 112
        },
        "id": "t3Scr3g61vuv",
        "outputId": "7e72d4e8-a825-4a34-eb30-3976ea7e9d58"
      },
      "execution_count": null,
      "outputs": [
        {
          "output_type": "execute_result",
          "data": {
            "text/plain": [
              "   count(*)\n",
              "0       115\n",
              "1       132"
            ],
            "text/html": [
              "\n",
              "  <div id=\"df-fd14c18c-ff4a-42d3-a475-8f3359ff59a9\">\n",
              "    <div class=\"colab-df-container\">\n",
              "      <div>\n",
              "<style scoped>\n",
              "    .dataframe tbody tr th:only-of-type {\n",
              "        vertical-align: middle;\n",
              "    }\n",
              "\n",
              "    .dataframe tbody tr th {\n",
              "        vertical-align: top;\n",
              "    }\n",
              "\n",
              "    .dataframe thead th {\n",
              "        text-align: right;\n",
              "    }\n",
              "</style>\n",
              "<table border=\"1\" class=\"dataframe\">\n",
              "  <thead>\n",
              "    <tr style=\"text-align: right;\">\n",
              "      <th></th>\n",
              "      <th>count(*)</th>\n",
              "    </tr>\n",
              "  </thead>\n",
              "  <tbody>\n",
              "    <tr>\n",
              "      <th>0</th>\n",
              "      <td>115</td>\n",
              "    </tr>\n",
              "    <tr>\n",
              "      <th>1</th>\n",
              "      <td>132</td>\n",
              "    </tr>\n",
              "  </tbody>\n",
              "</table>\n",
              "</div>\n",
              "      <button class=\"colab-df-convert\" onclick=\"convertToInteractive('df-fd14c18c-ff4a-42d3-a475-8f3359ff59a9')\"\n",
              "              title=\"Convert this dataframe to an interactive table.\"\n",
              "              style=\"display:none;\">\n",
              "        \n",
              "  <svg xmlns=\"http://www.w3.org/2000/svg\" height=\"24px\"viewBox=\"0 0 24 24\"\n",
              "       width=\"24px\">\n",
              "    <path d=\"M0 0h24v24H0V0z\" fill=\"none\"/>\n",
              "    <path d=\"M18.56 5.44l.94 2.06.94-2.06 2.06-.94-2.06-.94-.94-2.06-.94 2.06-2.06.94zm-11 1L8.5 8.5l.94-2.06 2.06-.94-2.06-.94L8.5 2.5l-.94 2.06-2.06.94zm10 10l.94 2.06.94-2.06 2.06-.94-2.06-.94-.94-2.06-.94 2.06-2.06.94z\"/><path d=\"M17.41 7.96l-1.37-1.37c-.4-.4-.92-.59-1.43-.59-.52 0-1.04.2-1.43.59L10.3 9.45l-7.72 7.72c-.78.78-.78 2.05 0 2.83L4 21.41c.39.39.9.59 1.41.59.51 0 1.02-.2 1.41-.59l7.78-7.78 2.81-2.81c.8-.78.8-2.07 0-2.86zM5.41 20L4 18.59l7.72-7.72 1.47 1.35L5.41 20z\"/>\n",
              "  </svg>\n",
              "      </button>\n",
              "      \n",
              "  <style>\n",
              "    .colab-df-container {\n",
              "      display:flex;\n",
              "      flex-wrap:wrap;\n",
              "      gap: 12px;\n",
              "    }\n",
              "\n",
              "    .colab-df-convert {\n",
              "      background-color: #E8F0FE;\n",
              "      border: none;\n",
              "      border-radius: 50%;\n",
              "      cursor: pointer;\n",
              "      display: none;\n",
              "      fill: #1967D2;\n",
              "      height: 32px;\n",
              "      padding: 0 0 0 0;\n",
              "      width: 32px;\n",
              "    }\n",
              "\n",
              "    .colab-df-convert:hover {\n",
              "      background-color: #E2EBFA;\n",
              "      box-shadow: 0px 1px 2px rgba(60, 64, 67, 0.3), 0px 1px 3px 1px rgba(60, 64, 67, 0.15);\n",
              "      fill: #174EA6;\n",
              "    }\n",
              "\n",
              "    [theme=dark] .colab-df-convert {\n",
              "      background-color: #3B4455;\n",
              "      fill: #D2E3FC;\n",
              "    }\n",
              "\n",
              "    [theme=dark] .colab-df-convert:hover {\n",
              "      background-color: #434B5C;\n",
              "      box-shadow: 0px 1px 3px 1px rgba(0, 0, 0, 0.15);\n",
              "      filter: drop-shadow(0px 1px 2px rgba(0, 0, 0, 0.3));\n",
              "      fill: #FFFFFF;\n",
              "    }\n",
              "  </style>\n",
              "\n",
              "      <script>\n",
              "        const buttonEl =\n",
              "          document.querySelector('#df-fd14c18c-ff4a-42d3-a475-8f3359ff59a9 button.colab-df-convert');\n",
              "        buttonEl.style.display =\n",
              "          google.colab.kernel.accessAllowed ? 'block' : 'none';\n",
              "\n",
              "        async function convertToInteractive(key) {\n",
              "          const element = document.querySelector('#df-fd14c18c-ff4a-42d3-a475-8f3359ff59a9');\n",
              "          const dataTable =\n",
              "            await google.colab.kernel.invokeFunction('convertToInteractive',\n",
              "                                                     [key], {});\n",
              "          if (!dataTable) return;\n",
              "\n",
              "          const docLinkHtml = 'Like what you see? Visit the ' +\n",
              "            '<a target=\"_blank\" href=https://colab.research.google.com/notebooks/data_table.ipynb>data table notebook</a>'\n",
              "            + ' to learn more about interactive tables.';\n",
              "          element.innerHTML = '';\n",
              "          dataTable['output_type'] = 'display_data';\n",
              "          await google.colab.output.renderOutput(dataTable, element);\n",
              "          const docLink = document.createElement('div');\n",
              "          docLink.innerHTML = docLinkHtml;\n",
              "          element.appendChild(docLink);\n",
              "        }\n",
              "      </script>\n",
              "    </div>\n",
              "  </div>\n",
              "  "
            ]
          },
          "metadata": {},
          "execution_count": 21
        }
      ]
    },
    {
      "cell_type": "code",
      "source": [
        "# Query definition\n",
        "query = \"\"\" SELECT count(*) \n",
        "            FROM df_full2\n",
        "            WHERE (text_length > 2000)\n",
        "            GROUP BY label  \n",
        "        \"\"\"\n",
        "\n",
        "# Query execution\n",
        "toolong_distribution = sqldf(query, globals())\n",
        "toolong_distribution"
      ],
      "metadata": {
        "colab": {
          "base_uri": "https://localhost:8080/",
          "height": 112
        },
        "id": "0xTrAsDr8euY",
        "outputId": "97e7179b-631b-4995-b01c-edb3f239cf0a"
      },
      "execution_count": null,
      "outputs": [
        {
          "output_type": "execute_result",
          "data": {
            "text/plain": [
              "   count(*)\n",
              "0     20385\n",
              "1     15987"
            ],
            "text/html": [
              "\n",
              "  <div id=\"df-29b824bf-48b2-4c08-a9a4-f62405c09abb\">\n",
              "    <div class=\"colab-df-container\">\n",
              "      <div>\n",
              "<style scoped>\n",
              "    .dataframe tbody tr th:only-of-type {\n",
              "        vertical-align: middle;\n",
              "    }\n",
              "\n",
              "    .dataframe tbody tr th {\n",
              "        vertical-align: top;\n",
              "    }\n",
              "\n",
              "    .dataframe thead th {\n",
              "        text-align: right;\n",
              "    }\n",
              "</style>\n",
              "<table border=\"1\" class=\"dataframe\">\n",
              "  <thead>\n",
              "    <tr style=\"text-align: right;\">\n",
              "      <th></th>\n",
              "      <th>count(*)</th>\n",
              "    </tr>\n",
              "  </thead>\n",
              "  <tbody>\n",
              "    <tr>\n",
              "      <th>0</th>\n",
              "      <td>20385</td>\n",
              "    </tr>\n",
              "    <tr>\n",
              "      <th>1</th>\n",
              "      <td>15987</td>\n",
              "    </tr>\n",
              "  </tbody>\n",
              "</table>\n",
              "</div>\n",
              "      <button class=\"colab-df-convert\" onclick=\"convertToInteractive('df-29b824bf-48b2-4c08-a9a4-f62405c09abb')\"\n",
              "              title=\"Convert this dataframe to an interactive table.\"\n",
              "              style=\"display:none;\">\n",
              "        \n",
              "  <svg xmlns=\"http://www.w3.org/2000/svg\" height=\"24px\"viewBox=\"0 0 24 24\"\n",
              "       width=\"24px\">\n",
              "    <path d=\"M0 0h24v24H0V0z\" fill=\"none\"/>\n",
              "    <path d=\"M18.56 5.44l.94 2.06.94-2.06 2.06-.94-2.06-.94-.94-2.06-.94 2.06-2.06.94zm-11 1L8.5 8.5l.94-2.06 2.06-.94-2.06-.94L8.5 2.5l-.94 2.06-2.06.94zm10 10l.94 2.06.94-2.06 2.06-.94-2.06-.94-.94-2.06-.94 2.06-2.06.94z\"/><path d=\"M17.41 7.96l-1.37-1.37c-.4-.4-.92-.59-1.43-.59-.52 0-1.04.2-1.43.59L10.3 9.45l-7.72 7.72c-.78.78-.78 2.05 0 2.83L4 21.41c.39.39.9.59 1.41.59.51 0 1.02-.2 1.41-.59l7.78-7.78 2.81-2.81c.8-.78.8-2.07 0-2.86zM5.41 20L4 18.59l7.72-7.72 1.47 1.35L5.41 20z\"/>\n",
              "  </svg>\n",
              "      </button>\n",
              "      \n",
              "  <style>\n",
              "    .colab-df-container {\n",
              "      display:flex;\n",
              "      flex-wrap:wrap;\n",
              "      gap: 12px;\n",
              "    }\n",
              "\n",
              "    .colab-df-convert {\n",
              "      background-color: #E8F0FE;\n",
              "      border: none;\n",
              "      border-radius: 50%;\n",
              "      cursor: pointer;\n",
              "      display: none;\n",
              "      fill: #1967D2;\n",
              "      height: 32px;\n",
              "      padding: 0 0 0 0;\n",
              "      width: 32px;\n",
              "    }\n",
              "\n",
              "    .colab-df-convert:hover {\n",
              "      background-color: #E2EBFA;\n",
              "      box-shadow: 0px 1px 2px rgba(60, 64, 67, 0.3), 0px 1px 3px 1px rgba(60, 64, 67, 0.15);\n",
              "      fill: #174EA6;\n",
              "    }\n",
              "\n",
              "    [theme=dark] .colab-df-convert {\n",
              "      background-color: #3B4455;\n",
              "      fill: #D2E3FC;\n",
              "    }\n",
              "\n",
              "    [theme=dark] .colab-df-convert:hover {\n",
              "      background-color: #434B5C;\n",
              "      box-shadow: 0px 1px 3px 1px rgba(0, 0, 0, 0.15);\n",
              "      filter: drop-shadow(0px 1px 2px rgba(0, 0, 0, 0.3));\n",
              "      fill: #FFFFFF;\n",
              "    }\n",
              "  </style>\n",
              "\n",
              "      <script>\n",
              "        const buttonEl =\n",
              "          document.querySelector('#df-29b824bf-48b2-4c08-a9a4-f62405c09abb button.colab-df-convert');\n",
              "        buttonEl.style.display =\n",
              "          google.colab.kernel.accessAllowed ? 'block' : 'none';\n",
              "\n",
              "        async function convertToInteractive(key) {\n",
              "          const element = document.querySelector('#df-29b824bf-48b2-4c08-a9a4-f62405c09abb');\n",
              "          const dataTable =\n",
              "            await google.colab.kernel.invokeFunction('convertToInteractive',\n",
              "                                                     [key], {});\n",
              "          if (!dataTable) return;\n",
              "\n",
              "          const docLinkHtml = 'Like what you see? Visit the ' +\n",
              "            '<a target=\"_blank\" href=https://colab.research.google.com/notebooks/data_table.ipynb>data table notebook</a>'\n",
              "            + ' to learn more about interactive tables.';\n",
              "          element.innerHTML = '';\n",
              "          dataTable['output_type'] = 'display_data';\n",
              "          await google.colab.output.renderOutput(dataTable, element);\n",
              "          const docLink = document.createElement('div');\n",
              "          docLink.innerHTML = docLinkHtml;\n",
              "          element.appendChild(docLink);\n",
              "        }\n",
              "      </script>\n",
              "    </div>\n",
              "  </div>\n",
              "  "
            ]
          },
          "metadata": {},
          "execution_count": 22
        }
      ]
    },
    {
      "cell_type": "markdown",
      "source": [
        "# 9. Splitting into train and test"
      ],
      "metadata": {
        "id": "C2d9v-DeEURN"
      }
    },
    {
      "cell_type": "code",
      "source": [
        "X = df_full['text']\n",
        "y = df_full['label']\n",
        "\n",
        "X_train, X_test, y_train, y_test = train_test_split(X, y , test_size = 0.3, random_state=42)"
      ],
      "metadata": {
        "id": "PrL1oa9aEV7g"
      },
      "execution_count": null,
      "outputs": []
    },
    {
      "cell_type": "code",
      "source": [
        "#trainset will be used to train each embedding-model architecture\n",
        "trainset = pd.concat([X_train, y_train],axis=1)\n",
        "\n",
        "#testset will be used to create testN1, testN2 and testN3, which will be used for comparing scores across models\n",
        "#where N1 will stand for 'noise level 1' (induced by amchine translation), N2 for noise level 2 etc.\n",
        "testset = pd.concat([X_test, y_test],axis=1)"
      ],
      "metadata": {
        "id": "PNYxHc24GeN1"
      },
      "execution_count": null,
      "outputs": []
    },
    {
      "cell_type": "markdown",
      "source": [
        "# 10. Exporting both train and test sets (optional).\n",
        "- testset is to be used for translation to create several different test sets.\n",
        "- train is to be used for embeddings and model training."
      ],
      "metadata": {
        "id": "cZZ-izB3H2lv"
      }
    },
    {
      "cell_type": "code",
      "source": [
        "#exporting testset to drive\n",
        "#testset.to_csv('/content/drive/MyDrive/MYDATA/df_full2_TEST30split.csv', index=False)"
      ],
      "metadata": {
        "id": "F2GTOLlpIKiI"
      },
      "execution_count": null,
      "outputs": []
    },
    {
      "cell_type": "code",
      "source": [
        "#exporting trainset to drive\n",
        "#trainset.to_csv('/content/drive/MyDrive/MYDATA/df_full2_TRAIN30split.csv', index=False)"
      ],
      "metadata": {
        "id": "XZqhZJRNIPiD"
      },
      "execution_count": null,
      "outputs": []
    },
    {
      "cell_type": "markdown",
      "source": [
        "# 11 Testset translation  (dict + split method)\n",
        "create testset text_N1, text_N2 and text_N3 using backtranslation\n",
        "WARNING! RUNNING THIS BLOCK TAKES A LONG TIME!"
      ],
      "metadata": {
        "id": "U4WA6MnL9JOv"
      }
    },
    {
      "cell_type": "code",
      "source": [
        "#importing testset from drive\n",
        "#this can be skipped as we the test set and trainset is currently in memory.\n",
        "\"\"\"\n",
        "pathTest30split = '/content/drive/MyDrive/MYDATA/df_full2_TEST30split.csv'\n",
        "testset = pd.read_csv(pathTest30split)\n",
        "\"\"\""
      ],
      "metadata": {
        "id": "j8We3b54KAXQ"
      },
      "execution_count": null,
      "outputs": []
    },
    {
      "cell_type": "code",
      "source": [
        "translator = Translator()"
      ],
      "metadata": {
        "id": "_MzFJuh8V5ro"
      },
      "execution_count": null,
      "outputs": []
    },
    {
      "cell_type": "markdown",
      "source": [
        "From here on we will need access to some form of storage (I am using google drive). THis is needed because we need to create a method of batching in order to 'bypass' the google translate API limits.    \n",
        "\n",
        "I do this by splitting the testset up into 50 smaller sets (which I save locally, after which I import them and use the back translation function defined below, for each split one by one. After this is done for all 50 splits we combine them back into one testset."
      ],
      "metadata": {
        "id": "734TwIRw1UGz"
      }
    },
    {
      "cell_type": "code",
      "source": [
        "def noiseGeneration(df, inputcolumn, translateColumn, backtranslateColumn):\n",
        "  df[translateColumn] = df[inputcolumn].apply(translator.translate, src='en', dest='ru').apply(getattr, args=('text',))\n",
        "  df[backtranslateColumn] = df[translateColumn].apply(translator.translate, src='ru', dest='en').apply(getattr, args=('text',))\n",
        "  df = df.drop(translateColumn, axis='columns')\n",
        "  return df"
      ],
      "metadata": {
        "id": "z2daxiXQV8YU"
      },
      "execution_count": null,
      "outputs": []
    },
    {
      "cell_type": "code",
      "source": [
        "# in order to translate 30% (±20k rows), we need to split the test set up into 50 sets of 6k rows\n",
        "#divide df into x subsets ( to prevent overloading google translate..)\n",
        "splitted_array = np.array_split(testset, 50)  # rows = 30% of 73k  divided by 50"
      ],
      "metadata": {
        "id": "rv7_tbgA9VXA"
      },
      "execution_count": null,
      "outputs": []
    },
    {
      "cell_type": "code",
      "source": [
        "#generate 50 names for all the splits\n",
        "SplitList = []\n",
        "for i in range(1,51):\n",
        "  SplitList.append('df_splitted_'+str(i))"
      ],
      "metadata": {
        "id": "beB1ZVERWZW0"
      },
      "execution_count": null,
      "outputs": []
    },
    {
      "cell_type": "code",
      "source": [
        "#create dictonary with name for split as key and df as value\n",
        "split_dict = {}\n",
        "for i, split in enumerate(SplitList):\n",
        "    split_dict[split] = pd.DataFrame(splitted_array[i])\n",
        "\n",
        "#the same using list comprehension is: \n",
        "#d = {split: pd.DataFrame(splitted[i]) for split in SplitList}"
      ],
      "metadata": {
        "id": "JKeuw4sJWcbh"
      },
      "execution_count": null,
      "outputs": []
    },
    {
      "cell_type": "code",
      "source": [
        "#Self created method for batching the translation (time-out resistant)\n",
        "\"\"\"\n",
        "it is necesary to use this workaround to prevent google translate from timing you out.\n",
        "It uses the 20k rows test set, split op into 50 dataframes stored in a dictionary.\n",
        "Then takes each of the 50 values (df) and translates all the rows in it, then drop the 'in-between' translation columns\n",
        "then generates a number name (based in the list created previously) and uses that to export it to g drive.\n",
        "\"\"\"\n",
        "counter = -1\n",
        "for split, df in split_dict.items():\n",
        "    counter += 1\n",
        "\n",
        "    split_dict[split] = noiseGeneration(df, 'text', 'text_N1_pre', 'text_N1')\n",
        "    split_dict[split] = noiseGeneration(df, 'text_N1', 'text_N2_pre', 'text_N2')\n",
        "    split_dict[split] = noiseGeneration(df, 'text_N2', 'text_N3_pre', 'text_N3')\n",
        "    \n",
        "    split_dict[split].drop(['text_N1_pre', 'text_N2_pre'], inplace=True, axis=1)\n",
        "\n",
        "    namesplit = SplitList[counter] + '.csv'\n",
        "    split_dict[split].to_csv('/content/drive/MyDrive/MYDATA/SplitsOfSplit/'+ namesplit, index=False)"
      ],
      "metadata": {
        "id": "cLUli0B1Wn0k"
      },
      "execution_count": null,
      "outputs": []
    },
    {
      "cell_type": "code",
      "source": [
        "#when the above is done, we read them in from CSV..\n",
        "unsplit_dict = {}\n",
        "for i, split in enumerate(SplitList):\n",
        "    namecsv = split + '.csv' \n",
        "    unsplit_dict[split] = pd.read_csv('/content/drive/MyDrive/MYDATA/SplitsOfSplit/' + namecsv)"
      ],
      "metadata": {
        "id": "AZ_dppuoTsma"
      },
      "execution_count": null,
      "outputs": []
    },
    {
      "cell_type": "code",
      "source": [
        "#.. and then merge to one single test set again.\n",
        "df_unsplittedTEST= pd.DataFrame()\n",
        "\n",
        "for k,v in unsplit_dict.items():\n",
        "  df_unsplittedTEST = df_unsplittedTEST.append(v)"
      ],
      "metadata": {
        "id": "gr4hGH3UWCBc"
      },
      "execution_count": null,
      "outputs": []
    },
    {
      "cell_type": "code",
      "source": [
        "len(df_unsplittedTEST[df_unsplittedTEST['text_N1'].str.contains('д|и|г')])  #how many rows are not translated back to english correctly?\n",
        "  #at charlength:3900 -> 214\n",
        "  #at charlength:3200 -> 94\n",
        "  #at charlength:2800 -> 14 (2%) using this length for now, as 2% seems acceptable\n",
        "\n",
        "#print((21/df_unsplittedTEST.shape[0])*100)   # = 2.8%"
      ],
      "metadata": {
        "id": "mz0VIV24Y8_h",
        "colab": {
          "base_uri": "https://localhost:8080/"
        },
        "outputId": "46494075-b332-4667-ed5b-d726238beb32"
      },
      "execution_count": null,
      "outputs": [
        {
          "output_type": "execute_result",
          "data": {
            "text/plain": [
              "561"
            ]
          },
          "metadata": {},
          "execution_count": 28
        }
      ]
    },
    {
      "cell_type": "markdown",
      "source": [
        "# 12. Exporting Noise Testsets\n"
      ],
      "metadata": {
        "id": "htSm0Iz9O6wR"
      }
    },
    {
      "cell_type": "code",
      "source": [
        "#export the finalized testset (with the several backtranslations) back to drive storage.\n",
        "#('NX' stands for N0 (original), N1 (1 backtranslation), N2 (two backtranslations) and N3)\n",
        "df_unsplittedTEST.to_csv('/content/drive/MyDrive/MYDATA/full_TEST_NX.csv', index=False)\n",
        "\n",
        "#note: the compressed version (.csv.gz) of this file can be found here in my github:\n",
        "#https://raw.githubusercontent.com/StevenPeutz/Masterthesis-Disinformation-NLP/master/DATA/TESTSET/full_TEST_NX.csv.gz'"
      ],
      "metadata": {
        "id": "D84ylW7TiwPX"
      },
      "execution_count": null,
      "outputs": []
    },
    {
      "cell_type": "markdown",
      "source": [
        "**Creating a stemmed version of dataset.**. (OPTIONAL)\n",
        "<br> \n",
        "Doing this here allows me to skip this step later on when applying embeddings."
      ],
      "metadata": {
        "id": "5L3B3MUaDjVf"
      }
    },
    {
      "cell_type": "code",
      "source": [
        "df_test = df_unsplittedTEST"
      ],
      "metadata": {
        "id": "CRut7TE7G6pD"
      },
      "execution_count": null,
      "outputs": []
    },
    {
      "cell_type": "code",
      "source": [
        "# Initialize the Porter Stemmer\n",
        "porter = PorterStemmer()\n",
        "\n",
        "# Define a function to apply stemming to each text\n",
        "def apply_stemming(text):\n",
        "    tokens = word_tokenize(text.lower())  # Convert text to lowercase and tokenize\n",
        "    stemmed_tokens = [porter.stem(token) for token in tokens]  # Stem each token\n",
        "    return ' '.join(stemmed_tokens)  # Join the stemmed tokens back into a single string"
      ],
      "metadata": {
        "id": "UjMRl1bAHe_m"
      },
      "execution_count": null,
      "outputs": []
    },
    {
      "cell_type": "code",
      "source": [
        "df_test['text'] = df_test['text'].apply(apply_stemming)\n",
        "df_test['text_N1'] = df_test['text_N1'].apply(apply_stemming)\n",
        "df_test['text_N2'] = df_test['text_N2'].apply(apply_stemming)\n",
        "df_test['text_N3'] = df_test['text_N3'].apply(apply_stemming)"
      ],
      "metadata": {
        "id": "dNvuK9pPHW_6"
      },
      "execution_count": null,
      "outputs": []
    },
    {
      "cell_type": "code",
      "source": [
        "pathTrain30split = '/content/drive/MyDrive/MYDATA/df_full2_TRAIN30split.csv'\n",
        "df_train = pd.read_csv(pathTrain30split)"
      ],
      "metadata": {
        "id": "TJL7yxqUH_1-"
      },
      "execution_count": null,
      "outputs": []
    },
    {
      "cell_type": "code",
      "source": [
        "# Apply the stemming function to the text data in both dataframes\n",
        "df_train['text'] = df_train['text'].apply(apply_stemming)"
      ],
      "metadata": {
        "id": "YkSytIKuDhnu"
      },
      "execution_count": null,
      "outputs": []
    },
    {
      "cell_type": "code",
      "source": [
        "df_train.to_csv('/content/drive/MyDrive/MYDATA/DATA/full_TRAIN_stemmed.csv', index=False)\n",
        "df_test.to_csv('/content/drive/MyDrive/MYDATA/DATA/full_TEST_Nx_stemmed.csv', index=False)"
      ],
      "metadata": {
        "id": "42PfNmIPD-j_"
      },
      "execution_count": null,
      "outputs": []
    }
  ]
}